{
 "cells": [
  {
   "cell_type": "code",
   "execution_count": 11,
   "metadata": {
    "collapsed": true
   },
   "outputs": [],
   "source": [
    "# %load lib/math.py\n",
    "import fractions\n",
    "import itertools\n",
    "\n",
    "def gcd(a, b):\n",
    "    return fractions.gcd(a, b)\n",
    "\n",
    "def egcd(a, b):\n",
    "    if a == 0:\n",
    "        return (b, 0, 1)\n",
    "    else:\n",
    "        g, y, x = egcd(b % a, a)\n",
    "        return (g, x - (b // a) * y, y)\n",
    "\n",
    "# Find the modular inverse.\n",
    "def modinv(a, m):\n",
    "    a = a % m\n",
    "    g, x, y = egcd(a, m)\n",
    "    if g != 1:\n",
    "        raise Exception('modular inverse does not exist')\n",
    "    else:\n",
    "        return x % m\n",
    "\n",
    "def chinese_remainder(n, a):\n",
    "    sum = 0\n",
    "    prod = reduce(lambda a, b: a*b, n)\n",
    "\n",
    "    for n_i, a_i in zip(n, a):\n",
    "        p = prod / n_i\n",
    "        sum += a_i * modinv(p, n_i) * p\n",
    "        print(\"Termenul \", a_i, modinv(p, n_i), p)\n",
    "    return sum % prod\n",
    "\n",
    "def all_chinese_solutions(n, a):\n",
    "    print(itertools.product(a))\n",
    "\n",
    "def pow(a, b, m):\n",
    "    result = 1\n",
    "    pow_value = a\n",
    "    while b > 0:\n",
    "        if b & 1 :\n",
    "            result = (result * pow_value) % m\n",
    "        b = b >> 1\n",
    "        pow_value = (pow_value * pow_value) % m\n",
    "    return result\n",
    "\n",
    "def primes_sieve(limit):\n",
    "    limitn = limit+1\n",
    "    not_prime = set()\n",
    "    primes = []\n",
    "\n",
    "    for i in range(2, limitn):\n",
    "        if i in not_prime:\n",
    "            continue\n",
    "        for f in range(i*2, limitn, i):\n",
    "            not_prime.add(f)\n",
    "        primes.append(i)\n",
    "    return primes\n"
   ]
  },
  {
   "cell_type": "markdown",
   "metadata": {},
   "source": [
    "## Exercitiul 1\n",
    "\n",
    "Deoarece $$gcd(\\delta_1 - \\delta_2, p - 1) \\implies \\exists! c a.î. c = (\\delta_1 - \\delta_2)^{-1}$$\n",
    "\n",
    "Facand calculeze din definita semnaturii El Gamal ajungem ca \n",
    "\n",
    "$$ k = ((x_1 - \\alpha\\gamma_1)-(x_2 - \\alpha\\gamma_2)) * c $$"
   ]
  },
  {
   "cell_type": "code",
   "execution_count": 7,
   "metadata": {
    "collapsed": true
   },
   "outputs": [],
   "source": [
    "x1 = 8990\n",
    "gamma1 = 23972\n",
    "delta1 = 31396\n",
    "x2 = 31415\n",
    "gamma2 = 23972\n",
    "delta2 = 20481\n",
    "alpha = 5\n",
    "beta = 25703\n",
    "p = 3187"
   ]
  },
  {
   "cell_type": "markdown",
   "metadata": {},
   "source": [
    "** Datele pentru exercitiul 3.1 sunt proaste. (delta1 - delta2, p-1) != 1 **"
   ]
  },
  {
   "cell_type": "markdown",
   "metadata": {},
   "source": [
    "### Exercitiul 2"
   ]
  },
  {
   "cell_type": "code",
   "execution_count": 20,
   "metadata": {
    "collapsed": true
   },
   "outputs": [],
   "source": [
    "p = 31847\n",
    "alpha = 5\n",
    "beta = 26379"
   ]
  },
  {
   "cell_type": "markdown",
   "metadata": {},
   "source": [
    "Vom verifica o semnatura"
   ]
  },
  {
   "cell_type": "code",
   "execution_count": 23,
   "metadata": {
    "collapsed": true
   },
   "outputs": [],
   "source": [
    "x = 20543\n",
    "gamma = 20679\n",
    "delta = 11082"
   ]
  },
  {
   "cell_type": "markdown",
   "metadata": {},
   "source": [
    "Calculam $$\\beta^\\gamma \\gamma^\\delta \\text{ si } \\alpha^x \\text{ ambele } mod\\text{ }p$$"
   ]
  },
  {
   "cell_type": "code",
   "execution_count": 47,
   "metadata": {
    "collapsed": false
   },
   "outputs": [
    {
     "name": "stdout",
     "output_type": "stream",
     "text": [
      "(216, 176)\n",
      "('Left', 189, 'Right', 189)\n",
      "Mesajul semnat este valid\n"
     ]
    }
   ],
   "source": [
    "def checksignElGamal(alpha, gamma, beta, delta, x, p):\n",
    "    left1 = pow(beta, gamma, p)\n",
    "    left2 = pow(gamma, delta, p)\n",
    "    left = (left1 * left2) % p\n",
    "    print(left1, left2)\n",
    "    right = pow(alpha, x, p)\n",
    "    print(\"Left\", left, \"Right\", right)\n",
    "    if left == right:\n",
    "        print(\"Mesajul semnat este valid\")\n",
    "    else:\n",
    "        print(\"Mesajul nu este valid\")\n",
    "\n",
    "checksignElGamal(alpha, gamma, beta, delta, x, p)"
   ]
  },
  {
   "cell_type": "markdown",
   "metadata": {},
   "source": [
    "### Exercitiul 3"
   ]
  },
  {
   "cell_type": "code",
   "execution_count": 49,
   "metadata": {
    "collapsed": true
   },
   "outputs": [],
   "source": [
    "alpha = 2\n",
    "beta = 132\n",
    "p = 467\n",
    "x = 100\n",
    "gamma = 29\n",
    "delta = 51\n",
    "\n",
    "h = 102\n",
    "i = 45\n",
    "j = 293\n"
   ]
  },
  {
   "cell_type": "code",
   "execution_count": 52,
   "metadata": {
    "collapsed": false
   },
   "outputs": [
    {
     "name": "stdout",
     "output_type": "stream",
     "text": [
      "24720\n",
      "54\n",
      "100\n",
      "(117, 289)\n",
      "('Left', 189, 'Right', 189)\n",
      "Mesajul semnat este valid\n"
     ]
    }
   ],
   "source": [
    "gamma_fake = pow(alpha, i, p) * pow(beta, j, p)\n",
    "print(gamma_fake)\n",
    "delta_fake = (-gamma_fake * modinv(j, p - 1)) % (p - 1)\n",
    "print(delta_fake)\n",
    "x_fake =  ((-gamma_fake) * i * modinv(j, p - 1)) % ( p - 1)\n",
    "print(x_fake)\n",
    "checksignElGamal(alpha, gamma_fake, beta, delta_fake, x, p)"
   ]
  },
  {
   "cell_type": "markdown",
   "metadata": {},
   "source": []
  },
  {
   "cell_type": "code",
   "execution_count": null,
   "metadata": {
    "collapsed": true
   },
   "outputs": [],
   "source": []
  }
 ],
 "metadata": {
  "kernelspec": {
   "display_name": "Python 2",
   "language": "python",
   "name": "python2"
  },
  "language_info": {
   "codemirror_mode": {
    "name": "ipython",
    "version": 2
   },
   "file_extension": ".py",
   "mimetype": "text/x-python",
   "name": "python",
   "nbconvert_exporter": "python",
   "pygments_lexer": "ipython2",
   "version": "2.7.9"
  }
 },
 "nbformat": 4,
 "nbformat_minor": 0
}
