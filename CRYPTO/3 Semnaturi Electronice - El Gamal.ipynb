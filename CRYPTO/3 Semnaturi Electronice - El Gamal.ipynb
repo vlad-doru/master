{
 "cells": [
  {
   "cell_type": "code",
   "execution_count": 3,
   "metadata": {
    "collapsed": true
   },
   "outputs": [],
   "source": [
    "from lib.math import *"
   ]
  },
  {
   "cell_type": "markdown",
   "metadata": {},
   "source": [
    "## Exercitiul 1\n",
    "\n",
    "Se foloseste a doua metoda de atac descrisa de el in curs. Ajungem la $$ x_2 - x_1 = k * (delta_2 - delta_1) (mod (p -1))$$"
   ]
  },
  {
   "cell_type": "code",
   "execution_count": 29,
   "metadata": {
    "collapsed": false
   },
   "outputs": [
    {
     "name": "stdout",
     "output_type": "stream",
     "text": [
      "59\n"
     ]
    }
   ],
   "source": [
    "x1 = 8990\n",
    "gamma1 = 23972\n",
    "delta1 = 31396\n",
    "x2 = 31415\n",
    "gamma2 = 23972\n",
    "delta2 = 20481\n",
    "alpha = 5\n",
    "beta = 25703\n",
    "p = 3187\n",
    "print(gcd(p - 1, abs(delta2 - delta1)))"
   ]
  },
  {
   "cell_type": "code",
   "execution_count": 18,
   "metadata": {
    "collapsed": false
   },
   "outputs": [
    {
     "name": "stdout",
     "output_type": "stream",
     "text": [
      "22425  =  k * 269 mod 466\n"
     ]
    }
   ],
   "source": [
    "print(x1 - x2, \" = \", \"k *\", (delta2 - delta1) % (p - 1), \"mod\", p - 1)"
   ]
  },
  {
   "cell_type": "code",
   "execution_count": 30,
   "metadata": {
    "collapsed": false
   },
   "outputs": [
    {
     "name": "stdout",
     "output_type": "stream",
     "text": [
      "gcd(delta2 - delta1, p - 1) =  59\n"
     ]
    }
   ],
   "source": [
    "## Calculam d = gcd(p - 1, delta2 - delta1)\n",
    "d = gcd(p - 1, abs(delta2 - delta1))\n",
    "print(\"gcd(delta2 - delta1, p - 1) = \", d)"
   ]
  },
  {
   "cell_type": "code",
   "execution_count": 32,
   "metadata": {
    "collapsed": false
   },
   "outputs": [
    {
     "name": "stdout",
     "output_type": "stream",
     "text": [
      "-380.08474576271186\n"
     ]
    }
   ],
   "source": [
    "### DATELE SUNT GRESITE AICI\n",
    "print((x1 - x2) / d)"
   ]
  },
  {
   "cell_type": "markdown",
   "metadata": {},
   "source": [
    "### Exercitiul 2"
   ]
  },
  {
   "cell_type": "code",
   "execution_count": 33,
   "metadata": {
    "collapsed": true
   },
   "outputs": [],
   "source": [
    "p = 31847\n",
    "alpha = 5\n",
    "beta = 26379"
   ]
  },
  {
   "cell_type": "markdown",
   "metadata": {},
   "source": [
    "Vom verifica o semnatura"
   ]
  },
  {
   "cell_type": "code",
   "execution_count": 34,
   "metadata": {
    "collapsed": true
   },
   "outputs": [],
   "source": [
    "x = 20543\n",
    "gamma = 20679\n",
    "delta = 11082"
   ]
  },
  {
   "cell_type": "markdown",
   "metadata": {},
   "source": [
    "Calculam $$\\beta^\\gamma \\gamma^\\delta \\text{ si } \\alpha^x \\text{ ambele } mod\\text{ }p$$"
   ]
  },
  {
   "cell_type": "code",
   "execution_count": 7,
   "metadata": {
    "collapsed": false
   },
   "outputs": [
    {
     "name": "stdout",
     "output_type": "stream",
     "text": [
      "12575 21455\n",
      "Left 20688 Right 20688\n",
      "Mesajul semnat este valid\n"
     ]
    }
   ],
   "source": [
    "def checksignElGamal(alpha, gamma, beta, delta, x, p):\n",
    "    left1 = pow(beta, gamma, p)\n",
    "    left2 = pow(gamma, delta, p)\n",
    "    left = (left1 * left2) % p\n",
    "    print(left1, left2)\n",
    "    right = pow(alpha, x, p)\n",
    "    print(\"Left\", left, \"Right\", right)\n",
    "    if left == right:\n",
    "        print(\"Mesajul semnat este valid\")\n",
    "    else:\n",
    "        print(\"Mesajul nu este valid\")\n",
    "\n",
    "checksignElGamal(alpha, gamma, beta, delta, x, p)"
   ]
  },
  {
   "cell_type": "markdown",
   "metadata": {},
   "source": [
    "### Exercitiul 3"
   ]
  },
  {
   "cell_type": "code",
   "execution_count": 8,
   "metadata": {
    "collapsed": true
   },
   "outputs": [],
   "source": [
    "alpha = 2\n",
    "beta = 132\n",
    "p = 467\n",
    "x = 100\n",
    "gamma = 29\n",
    "delta = 51\n",
    "\n",
    "h = 102\n",
    "i = 45\n",
    "j = 293\n"
   ]
  },
  {
   "cell_type": "code",
   "execution_count": 9,
   "metadata": {
    "collapsed": false
   },
   "outputs": [
    {
     "name": "stdout",
     "output_type": "stream",
     "text": [
      "24720\n",
      "54\n",
      "100\n",
      "117 289\n",
      "Left 189 Right 189\n",
      "Mesajul semnat este valid\n"
     ]
    }
   ],
   "source": [
    "gamma_fake = pow(alpha, i, p) * pow(beta, j, p)\n",
    "print(gamma_fake)\n",
    "delta_fake = (-gamma_fake * modinv(j, p - 1)) % (p - 1)\n",
    "print(delta_fake)\n",
    "x_fake =  ((-gamma_fake) * i * modinv(j, p - 1)) % ( p - 1)\n",
    "print(x_fake)\n",
    "checksignElGamal(alpha, gamma_fake, beta, delta_fake, x, p)"
   ]
  },
  {
   "cell_type": "markdown",
   "metadata": {},
   "source": []
  },
  {
   "cell_type": "code",
   "execution_count": null,
   "metadata": {
    "collapsed": true
   },
   "outputs": [],
   "source": []
  }
 ],
 "metadata": {
  "kernelspec": {
   "display_name": "Python 3",
   "language": "python",
   "name": "python3"
  },
  "language_info": {
   "codemirror_mode": {
    "name": "ipython",
    "version": 3
   },
   "file_extension": ".py",
   "mimetype": "text/x-python",
   "name": "python",
   "nbconvert_exporter": "python",
   "pygments_lexer": "ipython3",
   "version": "3.4.3"
  }
 },
 "nbformat": 4,
 "nbformat_minor": 0
}
