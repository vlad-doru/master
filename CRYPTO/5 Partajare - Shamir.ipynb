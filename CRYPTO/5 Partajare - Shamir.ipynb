{
 "cells": [
  {
   "cell_type": "code",
   "execution_count": 21,
   "metadata": {
    "collapsed": true
   },
   "outputs": [],
   "source": [
    "# %load lib/math.py\n",
    "import fractions\n",
    "import itertools\n",
    "import math\n",
    "\n",
    "def gcd(a, b):\n",
    "    return fractions.gcd(a, b)\n",
    "\n",
    "def egcd(a, b):\n",
    "    if a == 0:\n",
    "        return (b, 0, 1)\n",
    "    else:\n",
    "        g, y, x = egcd(b % a, a)\n",
    "        return (g, x - (b // a) * y, y)\n",
    "\n",
    "# Find the modular inverse.\n",
    "def modinv(a, m):\n",
    "    a = a % m\n",
    "    g, x, y = egcd(a, m)\n",
    "    if g != 1:\n",
    "        raise Exception('modular inverse does not exist')\n",
    "    else:\n",
    "        return x % m\n",
    "\n",
    "def chinese_remainder(n, a):\n",
    "    sum = 0\n",
    "    prod = reduce(lambda a, b: a*b, n)\n",
    "\n",
    "    for n_i, a_i in zip(n, a):\n",
    "        p = prod / n_i\n",
    "        sum += a_i * modinv(p, n_i) * p\n",
    "        print(\"Termenul \", a_i, modinv(p, n_i), p)\n",
    "    return sum % prod\n",
    "\n",
    "def pow(a, b, m):\n",
    "    result = 1\n",
    "    pow_value = a\n",
    "    while b > 0:\n",
    "        if b & 1 :\n",
    "            result = (result * pow_value) % m\n",
    "        b = b >> 1\n",
    "        pow_value = (pow_value * pow_value) % m\n",
    "    return result\n",
    "\n",
    "def primes_sieve(limit):\n",
    "    limitn = limit+1\n",
    "    not_prime = set()\n",
    "    primes = []\n",
    "\n",
    "    for i in range(2, limitn):\n",
    "        if i in not_prime:\n",
    "            continue\n",
    "        for f in range(i*2, limitn, i):\n",
    "            not_prime.add(f)\n",
    "        primes.append(i)\n",
    "    return primes\n",
    "\n",
    "def fact(n):\n",
    "    return math.factorial(n)\n"
   ]
  },
  {
   "cell_type": "code",
   "execution_count": 20,
   "metadata": {
    "collapsed": false
   },
   "outputs": [
    {
     "name": "stdout",
     "output_type": "stream",
     "text": [
      "Valorile pentru xi sunt:\n",
      "{1: 3, 2: 9, 3: 27, 4: 23, 5: 11}\n",
      "Valoarile pentru yi sunt:\n",
      "{1: 4, 2: 19, 3: 2, 4: 2, 5: 26}\n",
      "S[2] * b[2] = 19\n",
      "S[3] * b[3] = 17\n",
      "S[5] * b[5] = 11\n",
      "('Secret = ', 18)\n"
     ]
    }
   ],
   "source": [
    "n = 5\n",
    "p = 29\n",
    "x = {}\n",
    "for i in range(1, n + 1):\n",
    "    x[i] = pow(3, i, p)\n",
    "print(\"Valorile pentru xi sunt:\")\n",
    "print(x)\n",
    "# Polinomul\n",
    "a = lambda x:  (11 * (x * x) + x + 18) % p\n",
    "S = {}\n",
    "for i in range(1, n + 1):\n",
    "    S[i] = a(x[i])\n",
    "print(\"Valoarile pentru yi sunt:\")\n",
    "print(S)\n",
    "### FOLOSIM VARIANTA CU POLINOAME DE INTERPOLARE\n",
    "participants = [2, 3, 5]\n",
    "secret = 0\n",
    "for i in participants:\n",
    "    term = S[i]\n",
    "    for j in participants:\n",
    "        if j == i:\n",
    "            continue\n",
    "        term *= (x[j] * modinv(x[j] - x[i], p)) % p\n",
    "    term %= p\n",
    "    print(\"S[{0}] * b[{0}] = {1}\".format(i, term))\n",
    "    secret += term\n",
    "print(\"Secret = \", secret % p)"
   ]
  }
 ],
 "metadata": {
  "kernelspec": {
   "display_name": "Python 2",
   "language": "python",
   "name": "python2"
  },
  "language_info": {
   "codemirror_mode": {
    "name": "ipython",
    "version": 2
   },
   "file_extension": ".py",
   "mimetype": "text/x-python",
   "name": "python",
   "nbconvert_exporter": "python",
   "pygments_lexer": "ipython2",
   "version": "2.7.11"
  }
 },
 "nbformat": 4,
 "nbformat_minor": 0
}
