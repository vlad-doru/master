{
 "cells": [
  {
   "cell_type": "code",
   "execution_count": 1,
   "metadata": {
    "collapsed": true
   },
   "outputs": [],
   "source": [
    "from lib.math import *"
   ]
  },
  {
   "cell_type": "code",
   "execution_count": 2,
   "metadata": {
    "collapsed": false
   },
   "outputs": [
    {
     "name": "stdout",
     "output_type": "stream",
     "text": [
      "Valorile pentru xi sunt:\n",
      "{1: 3, 2: 9, 3: 27, 4: 23, 5: 11}\n",
      "Valoarile pentru yi sunt:\n",
      "{1: 4, 2: 19, 3: 2, 4: 2, 5: 26}\n",
      "S[2] * b[2] = 19\n",
      "S[3] * b[3] = 17\n",
      "S[5] * b[5] = 11\n",
      "Secret =  18\n"
     ]
    }
   ],
   "source": [
    "n = 5\n",
    "p = 29\n",
    "x = {}\n",
    "for i in range(1, n + 1):\n",
    "    x[i] = pow(3, i, p)\n",
    "print(\"Valorile pentru xi sunt:\")\n",
    "print(x)\n",
    "# Polinomul\n",
    "a = lambda x:  (11 * (x * x) + x + 18) % p\n",
    "S = {}\n",
    "for i in range(1, n + 1):\n",
    "    S[i] = a(x[i])\n",
    "print(\"Valoarile pentru yi sunt:\")\n",
    "print(S)\n",
    "### FOLOSIM VARIANTA CU POLINOAME DE INTERPOLARE\n",
    "participants = [2, 3, 5]\n",
    "secret = 0\n",
    "for i in participants:\n",
    "    term = S[i]\n",
    "    for j in participants:\n",
    "        if j == i:\n",
    "            continue\n",
    "        term *= (x[j] * modinv(x[j] - x[i], p)) % p\n",
    "    term %= p\n",
    "    print(\"S[{0}] * b[{0}] = {1}\".format(i, term))\n",
    "    secret += term\n",
    "print(\"Secret = \", secret % p)"
   ]
  }
 ],
 "metadata": {
  "kernelspec": {
   "display_name": "Python 3",
   "language": "python",
   "name": "python3"
  },
  "language_info": {
   "codemirror_mode": {
    "name": "ipython",
    "version": 3
   },
   "file_extension": ".py",
   "mimetype": "text/x-python",
   "name": "python",
   "nbconvert_exporter": "python",
   "pygments_lexer": "ipython3",
   "version": "3.4.3"
  }
 },
 "nbformat": 4,
 "nbformat_minor": 0
}
