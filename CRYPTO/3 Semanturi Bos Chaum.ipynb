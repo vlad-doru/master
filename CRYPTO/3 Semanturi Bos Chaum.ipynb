{
 "cells": [
  {
   "cell_type": "code",
   "execution_count": 1,
   "metadata": {
    "collapsed": true
   },
   "outputs": [],
   "source": [
    "from lib.math import * "
   ]
  },
  {
   "cell_type": "code",
   "execution_count": 27,
   "metadata": {
    "collapsed": false,
    "scrolled": true
   },
   "outputs": [],
   "source": [
    "import itertools\n",
    "\n",
    "### Algoritmul de mapare de la k biti la n numere. \n",
    "def tetafn(x):\n",
    "    n = 2\n",
    "    while (fact(2 * n) / (fact(n) * fact(n))) < (1 << len(x)):\n",
    "        n += 1\n",
    "    #print(\"k =\", len(x), \"n =\", n) \n",
    "    xval = 0\n",
    "    #print(\"Valaorea lui x\", xval)\n",
    "    p = 1\n",
    "    for i in range(len(x) - 1, -1, -1):\n",
    "        if x[i] == 1:\n",
    "            xval += p\n",
    "        p = p * 2\n",
    "    s = set()\n",
    "    t = 2 * n\n",
    "    e = n\n",
    "    while t > 0:\n",
    "        t -= 1\n",
    "        comb_t_e = fact(t) / (fact(e) * fact(t - e)) if t >= e else 0\n",
    "        if xval >= comb_t_e:\n",
    "            xval = xval - comb_t_e\n",
    "            e -= 1\n",
    "            s.add(t + 1)\n",
    "    return list(sorted(s))\n",
    "\n",
    "teta = {}"
   ]
  },
  {
   "cell_type": "code",
   "execution_count": 36,
   "metadata": {
    "collapsed": false
   },
   "outputs": [
    {
     "name": "stdout",
     "output_type": "stream",
     "text": [
      "[1, 2, 5, 7]\n",
      "[1, 2, 7, 8]\n",
      "[8, 1, 2, 5, 7]\n",
      "Candidate tetafn (8, 1, 2, 5)\n",
      "New message: (1, 0, 0, 1, 1, 1)\n",
      "Candidate tetafn (8, 1, 2, 7)\n",
      "New message: (1, 1, 0, 1, 1, 1)\n",
      "Candidate tetafn (8, 1, 5, 7)\n",
      "New message: (1, 1, 1, 1, 0, 1)\n",
      "Candidate tetafn (8, 2, 5, 7)\n",
      "New message: (1, 1, 1, 1, 1, 0)\n",
      "Candidate tetafn (1, 2, 5, 7)\n",
      "New message: (0, 1, 0, 0, 1, 1)\n"
     ]
    }
   ],
   "source": [
    "## Ex 3.8\n",
    "for x in itertools.product([0, 1], repeat = 6):\n",
    "    teta[str(tetafn(x))] = x\n",
    "   \n",
    "t1 = tetafn([0, 1, 0, 0, 1, 1])\n",
    "t2 = tetafn([1, 1, 0, 1, 1, 1])\n",
    "print(t1)\n",
    "print(t2)\n",
    "reunion = list(set(t1 + t2))\n",
    "print(reunion)\n",
    "for x in itertools.combinations(reunion, 4):\n",
    "    print(\"Candidate tetafn\", x)\n",
    "    if str(sorted(x)) in teta:\n",
    "        print(\"New message:\", teta[str(sorted(x))])"
   ]
  }
 ],
 "metadata": {
  "kernelspec": {
   "display_name": "Python 3",
   "language": "python",
   "name": "python3"
  },
  "language_info": {
   "codemirror_mode": {
    "name": "ipython",
    "version": 3
   },
   "file_extension": ".py",
   "mimetype": "text/x-python",
   "name": "python",
   "nbconvert_exporter": "python",
   "pygments_lexer": "ipython3",
   "version": "3.4.3"
  }
 },
 "nbformat": 4,
 "nbformat_minor": 0
}
