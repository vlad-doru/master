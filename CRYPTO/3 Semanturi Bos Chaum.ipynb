{
 "cells": [
  {
   "cell_type": "code",
   "execution_count": 15,
   "metadata": {
    "collapsed": true
   },
   "outputs": [],
   "source": [
    "# %load lib/math.py\n",
    "import fractions\n",
    "import itertools\n",
    "import math\n",
    "\n",
    "def gcd(a, b):\n",
    "    return fractions.gcd(a, b)\n",
    "\n",
    "def egcd(a, b):\n",
    "    if a == 0:\n",
    "        return (b, 0, 1)\n",
    "    else:\n",
    "        g, y, x = egcd(b % a, a)\n",
    "        return (g, x - (b // a) * y, y)\n",
    "\n",
    "# Find the modular inverse.\n",
    "def modinv(a, m):\n",
    "    a = a % m\n",
    "    g, x, y = egcd(a, m)\n",
    "    if g != 1:\n",
    "        raise Exception('modular inverse does not exist')\n",
    "    else:\n",
    "        return x % m\n",
    "\n",
    "def chinese_remainder(n, a):\n",
    "    sum = 0\n",
    "    prod = reduce(lambda a, b: a*b, n)\n",
    "\n",
    "    for n_i, a_i in zip(n, a):\n",
    "        p = prod / n_i\n",
    "        sum += a_i * modinv(p, n_i) * p\n",
    "        print(\"Termenul \", a_i, modinv(p, n_i), p)\n",
    "    return sum % prod\n",
    "\n",
    "def all_chinese_solutions(n, a):\n",
    "    print(itertools.product(a))\n",
    "\n",
    "def pow(a, b, m):\n",
    "    result = 1\n",
    "    pow_value = a\n",
    "    while b > 0:\n",
    "        if b & 1 :\n",
    "            result = (result * pow_value) % m\n",
    "        b = b >> 1\n",
    "        pow_value = (pow_value * pow_value) % m\n",
    "    return result\n",
    "\n",
    "def primes_sieve(limit):\n",
    "    limitn = limit+1\n",
    "    not_prime = set()\n",
    "    primes = []\n",
    "\n",
    "    for i in range(2, limitn):\n",
    "        if i in not_prime:\n",
    "            continue\n",
    "        for f in range(i*2, limitn, i):\n",
    "            not_prime.add(f)\n",
    "        primes.append(i)\n",
    "    return primes\n",
    "\n",
    "def fact(n):\n",
    "    return math.factorial(n)\n"
   ]
  },
  {
   "cell_type": "code",
   "execution_count": 44,
   "metadata": {
    "collapsed": false,
    "scrolled": true
   },
   "outputs": [
    {
     "name": "stdout",
     "output_type": "stream",
     "text": [
      "('k =', 6, 'n =', 4)\n",
      "set([2, 3, 4, 7])\n",
      "('k =', 6, 'n =', 4)\n",
      "set([8, 4, 5, 6])\n"
     ]
    },
    {
     "data": {
      "text/plain": [
       "{4, 5, 6, 8}"
      ]
     },
     "execution_count": 44,
     "metadata": {},
     "output_type": "execute_result"
    }
   ],
   "source": [
    "### Algoritmul de mapare de la k biti la n numere. \n",
    "def tetafn(x):\n",
    "    n = 2\n",
    "    while (fact(2 * n) / (fact(n) * fact(n))) < (1 << len(x)):\n",
    "        n += 1\n",
    "    print(\"k =\", len(x), \"n =\", n) \n",
    "    xval = 0\n",
    "    #print(\"Valaorea lui x\", xval)\n",
    "    p = 1\n",
    "    for i in range(len(x) - 1, -1, -1):\n",
    "        if x[i] == 1:\n",
    "            xval += p\n",
    "        p = p * 2\n",
    "    s = set()\n",
    "    t = 2 * n\n",
    "    e = n\n",
    "    while t > 0:\n",
    "        t -= 1\n",
    "        comb_t_e = fact(t) / (fact(e) * fact(t - e))\n",
    "        if xval > comb_t_e:\n",
    "            xval = xval - comb_t_e\n",
    "            e -= 1\n",
    "            s.add(t + 1)\n",
    "    print(s)\n",
    "    return s\n",
    "\n",
    "\n",
    "tetafn(x = [0, 1, 0, 0, 1, 1])\n",
    "tetafn(x = [1, 1, 0, 1, 1, 1])"
   ]
  }
 ],
 "metadata": {
  "kernelspec": {
   "display_name": "Python 2",
   "language": "python",
   "name": "python2"
  },
  "language_info": {
   "codemirror_mode": {
    "name": "ipython",
    "version": 2
   },
   "file_extension": ".py",
   "mimetype": "text/x-python",
   "name": "python",
   "nbconvert_exporter": "python",
   "pygments_lexer": "ipython2",
   "version": "2.7.9"
  }
 },
 "nbformat": 4,
 "nbformat_minor": 0
}
