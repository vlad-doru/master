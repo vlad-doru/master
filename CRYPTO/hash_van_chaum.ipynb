{
 "cells": [
  {
   "cell_type": "code",
   "execution_count": 1,
   "metadata": {
    "collapsed": false
   },
   "outputs": [
    {
     "name": "stdout",
     "output_type": "stream",
     "text": [
      "Introduceti variabila p:\n",
      "15083\n",
      "Variabila p = 15083\n",
      "Introduceti variabila alpha:\n",
      "154\n",
      "Variabila alpha = 154\n",
      "Introduceti variabila beta:\n",
      "2307\n",
      "Variabila beta = 2307\n",
      "Introduceti variabila x1:\n",
      "7431\n",
      "Variabila x1 = 7431\n",
      "Introduceti variabila x2:\n",
      "5564\n",
      "Variabila x2 = 5564\n",
      "Introduceti variabila x3:\n",
      "1459\n",
      "Variabila x3 = 1459\n",
      "Introduceti variabila x4:\n",
      "954\n",
      "Variabila x4 = 954\n",
      "('q = ', 7541)\n",
      "Incepem rezolvarea:\n",
      "----------------------\n",
      "Calculam d = (x4 - x2, p - 1)\n",
      "d = 2\n",
      "Calculam y = (x4 - x2)^-1(mod q)\n",
      "y = 4680\n",
      "Calculam posibilitatea 1 pt log_alpha(beta) = (x1 - x3) * y (mod p - 1)\n",
      "('Verficam posibilitatea 1 pentru log_alpha(beta)', 2014)\n",
      "Calculam posibilitatea 1 pt log_alpha(beta) = (x1 - x3) * y  + q (mod p - 1)\n",
      "('Verficam posibilitatea 2 pentru log_alpha(beta)', 9555)\n",
      "Raspunsul 9555 verifica!!!!\n"
     ]
    }
   ],
   "source": [
    "from lib import math\n",
    "from lib import input\n",
    "\n",
    "p = input.read_int('p')\n",
    "alpha = input.read_int('alpha')\n",
    "beta = input.read_int('beta')\n",
    "x1 = input.read_int('x1')\n",
    "x2 = input.read_int('x2')\n",
    "x3 = input.read_int('x3')\n",
    "x4 = input.read_int('x4')\n",
    "\n",
    "q = (p - 1)/2\n",
    "print(\"q = \", q)\n",
    "\n",
    "def check(alpha, beta, log_value):\n",
    "    check = 1\n",
    "    for i in range(0, log_value):\n",
    "        check = check * alpha\n",
    "        check = check % p\n",
    "    if (check == beta):\n",
    "        print(\"Raspunsul {0} verifica!!!!\".format(log_value))\n",
    "\n",
    "print(\"Incepem rezolvarea:\")\n",
    "print(\"----------------------\")\n",
    "print(\"Calculam d = (x4 - x2, p - 1)\")\n",
    "d = math.gcd(x4 - x2, p - 1)\n",
    "print(\"d = {0}\".format(d))\n",
    "if (d == 1):\n",
    "    print(\"Calculam y = (x4 - x2)^-1(mod p - 1)\")\n",
    "    y = math.modinv(x4 - x2, p - 1)\n",
    "    print(\"y = {0}\".format(y))\n",
    "    print(\"Calculam log_alpha(beta) = (x1 - x3) * y (mod p - 1)\")\n",
    "    log_value = ((x1 - x3) * y) % (p - 1)\n",
    "    print(\"Verificam logaritmului: {0}\".format(log_value))\n",
    "    checl(alpha, beta, log_value)\n",
    "elif (d == 2):\n",
    "    print(\"Calculam y = (x4 - x2)^-1(mod q)\")\n",
    "    y = math.modinv(x4 - x2, q)\n",
    "    print(\"y = {0}\".format(y))\n",
    "    print(\"Calculam posibilitatea 1 pt log_alpha(beta) = (x1 - x3) * y (mod p - 1)\")\n",
    "    log_value = ((x1 - x3) * y) % (p - 1)\n",
    "    print(\"Verficam posibilitatea 1 pentru log_alpha(beta)\", log_value)\n",
    "    check(alpha, beta, log_value)\n",
    "    print(\"Calculam posibilitatea 1 pt log_alpha(beta) = (x1 - x3) * y  + q (mod p - 1)\")\n",
    "    log_value = (log_value + q) % (p - 1)\n",
    "    print(\"Verficam posibilitatea 2 pentru log_alpha(beta)\", log_value)\n",
    "    check(alpha, beta, log_value)\n",
    "else:\n",
    "    print (\"Ceva e gresit, d poate fi doar 1 sau 2\")"
   ]
  }
 ],
 "metadata": {
  "kernelspec": {
   "display_name": "Python 2",
   "language": "python",
   "name": "python2"
  },
  "language_info": {
   "codemirror_mode": {
    "name": "ipython",
    "version": 2
   },
   "file_extension": ".py",
   "mimetype": "text/x-python",
   "name": "python",
   "nbconvert_exporter": "python",
   "pygments_lexer": "ipython2",
   "version": "2.7.9"
  }
 },
 "nbformat": 4,
 "nbformat_minor": 0
}
