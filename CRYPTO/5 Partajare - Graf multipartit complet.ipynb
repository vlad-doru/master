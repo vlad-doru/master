{
 "cells": [
  {
   "cell_type": "code",
   "execution_count": 29,
   "metadata": {
    "collapsed": true
   },
   "outputs": [],
   "source": [
    "# %load lib/math.py\n",
    "import fractions\n",
    "import itertools\n",
    "import math\n",
    "\n",
    "def gcd(a, b):\n",
    "    return fractions.gcd(a, b)\n",
    "\n",
    "def egcd(a, b):\n",
    "    if a == 0:\n",
    "        return (b, 0, 1)\n",
    "    else:\n",
    "        g, y, x = egcd(b % a, a)\n",
    "        return (g, x - (b // a) * y, y)\n",
    "\n",
    "# Find the modular inverse.\n",
    "def modinv(a, m):\n",
    "    a = a % m\n",
    "    g, x, y = egcd(a, m)\n",
    "    if g != 1:\n",
    "        raise Exception('modular inverse does not exist')\n",
    "    else:\n",
    "        return x % m"
   ]
  },
  {
   "cell_type": "code",
   "execution_count": 4,
   "metadata": {
    "collapsed": true
   },
   "outputs": [],
   "source": [
    "k = [2, 3, 3]\n",
    "q = 13\n",
    "r = 5\n",
    "x = [1, 2, 3]\n",
    "S = 8 \n",
    "assert(len(x) == len(k))"
   ]
  },
  {
   "cell_type": "code",
   "execution_count": 24,
   "metadata": {
    "collapsed": false
   },
   "outputs": [
    {
     "name": "stdout",
     "output_type": "stream",
     "text": [
      "S[1] = S[2] = 0, x[1] = 1\n",
      "S[3] = S[4] = S[5] = 8, x[2] = 2\n",
      "S[6] = S[7] = S[8] = 3, x[3] = 3\n"
     ]
    }
   ],
   "source": [
    "# Generam schema\n",
    "counter = 0\n",
    "index = 0\n",
    "schema = {}\n",
    "for comp, xi in zip(k, x):\n",
    "    index += 1\n",
    "    Si = (S * xi + r) % q\n",
    "    vals = []\n",
    "    for i in range(1, comp + 1):\n",
    "        counter += 1\n",
    "        schema[counter] = (Si, xi)\n",
    "        vals.append(\"S[{0}]\".format(counter))\n",
    "    vals.append(str(Si) + \", \" + \"x[{0}]\".format(index) + \" = \" + str(xi))\n",
    "    print(\" = \".join(vals))"
   ]
  },
  {
   "cell_type": "code",
   "execution_count": 30,
   "metadata": {
    "collapsed": false
   },
   "outputs": [
    {
     "name": "stdout",
     "output_type": "stream",
     "text": [
      "('Decoded', 8)\n"
     ]
    }
   ],
   "source": [
    "# Decodare pentru 2 varfuri din componente diferite\n",
    "u1 = 2\n",
    "u2 = 7\n",
    "\n",
    "s1, x1 = schema[u1]\n",
    "s2, x2 = schema[u2]\n",
    "\n",
    "decode = ((s1 - s2) * modinv(x1 - x2, q)) % q\n",
    "print(\"Decoded\", decode)"
   ]
  }
 ],
 "metadata": {
  "kernelspec": {
   "display_name": "Python 2",
   "language": "python",
   "name": "python2"
  },
  "language_info": {
   "codemirror_mode": {
    "name": "ipython",
    "version": 2
   },
   "file_extension": ".py",
   "mimetype": "text/x-python",
   "name": "python",
   "nbconvert_exporter": "python",
   "pygments_lexer": "ipython2",
   "version": "2.7.11"
  }
 },
 "nbformat": 4,
 "nbformat_minor": 0
}
