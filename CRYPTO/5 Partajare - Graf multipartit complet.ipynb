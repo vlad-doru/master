{
 "cells": [
  {
   "cell_type": "code",
   "execution_count": 1,
   "metadata": {
    "collapsed": true
   },
   "outputs": [],
   "source": [
    "from lib.math import *"
   ]
  },
  {
   "cell_type": "code",
   "execution_count": 2,
   "metadata": {
    "collapsed": true
   },
   "outputs": [],
   "source": [
    "k = [2, 3, 3]\n",
    "q = 13\n",
    "r = 5\n",
    "x = [1, 2, 3]\n",
    "S = 8 \n",
    "assert(len(x) == len(k))"
   ]
  },
  {
   "cell_type": "code",
   "execution_count": 3,
   "metadata": {
    "collapsed": false
   },
   "outputs": [
    {
     "name": "stdout",
     "output_type": "stream",
     "text": [
      "S[1] = S[2] = 0, x[1] = 1\n",
      "S[3] = S[4] = S[5] = 8, x[2] = 2\n",
      "S[6] = S[7] = S[8] = 3, x[3] = 3\n"
     ]
    }
   ],
   "source": [
    "# Generam schema\n",
    "counter = 0\n",
    "index = 0\n",
    "schema = {}\n",
    "for comp, xi in zip(k, x):\n",
    "    index += 1\n",
    "    Si = (S * xi + r) % q\n",
    "    vals = []\n",
    "    for i in range(1, comp + 1):\n",
    "        counter += 1\n",
    "        schema[counter] = (Si, xi)\n",
    "        vals.append(\"S[{0}]\".format(counter))\n",
    "    vals.append(str(Si) + \", \" + \"x[{0}]\".format(index) + \" = \" + str(xi))\n",
    "    print(\" = \".join(vals))"
   ]
  },
  {
   "cell_type": "code",
   "execution_count": 4,
   "metadata": {
    "collapsed": false
   },
   "outputs": [
    {
     "name": "stdout",
     "output_type": "stream",
     "text": [
      "Decoded 8\n"
     ]
    }
   ],
   "source": [
    "# Decodare pentru 2 varfuri din componente diferite\n",
    "u1 = 2\n",
    "u2 = 7\n",
    "\n",
    "s1, x1 = schema[u1]\n",
    "s2, x2 = schema[u2]\n",
    "\n",
    "decode = ((s1 - s2) * modinv(x1 - x2, q)) % q\n",
    "print(\"Decoded\", decode)"
   ]
  }
 ],
 "metadata": {
  "kernelspec": {
   "display_name": "Python 3",
   "language": "python",
   "name": "python3"
  },
  "language_info": {
   "codemirror_mode": {
    "name": "ipython",
    "version": 3
   },
   "file_extension": ".py",
   "mimetype": "text/x-python",
   "name": "python",
   "nbconvert_exporter": "python",
   "pygments_lexer": "ipython3",
   "version": "3.4.3"
  }
 },
 "nbformat": 4,
 "nbformat_minor": 0
}
