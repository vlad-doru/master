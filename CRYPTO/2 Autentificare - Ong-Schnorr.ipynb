{
 "cells": [
  {
   "cell_type": "code",
   "execution_count": 1,
   "metadata": {
    "collapsed": false
   },
   "outputs": [],
   "source": [
    "from lib.math import *"
   ]
  },
  {
   "cell_type": "markdown",
   "metadata": {},
   "source": [
    "### Exercitiul 4"
   ]
  },
  {
   "cell_type": "code",
   "execution_count": 2,
   "metadata": {
    "collapsed": false
   },
   "outputs": [
    {
     "name": "stdout",
     "output_type": "stream",
     "text": [
      "14 14 True\n",
      "Autentic\n",
      "Mesajul este 266\n",
      "11 0 False\n",
      "8 8 True\n",
      "Autentic\n",
      "Mesajul este 80\n"
     ]
    }
   ],
   "source": [
    "n = 21\n",
    "k = 5\n",
    "triples =[(14, 12, 11), (11, 1, 5), (8, 18, 5)]\n",
    "for x, alpha, beta in triples:\n",
    "    xprime = (alpha * alpha - (beta * beta) * modinv(k * k, n)) % n\n",
    "    print(x, xprime, x == xprime)\n",
    "    if (x == xprime):\n",
    "        print(\"Autentic\")\n",
    "        y = x * modinv(alpha + beta * modinv(k, n), n)\n",
    "        print(\"Mesajul este\", y)"
   ]
  }
 ],
 "metadata": {
  "kernelspec": {
   "display_name": "Python 3",
   "language": "python",
   "name": "python3"
  },
  "language_info": {
   "codemirror_mode": {
    "name": "ipython",
    "version": 3
   },
   "file_extension": ".py",
   "mimetype": "text/x-python",
   "name": "python",
   "nbconvert_exporter": "python",
   "pygments_lexer": "ipython3",
   "version": "3.4.3"
  }
 },
 "nbformat": 4,
 "nbformat_minor": 0
}
