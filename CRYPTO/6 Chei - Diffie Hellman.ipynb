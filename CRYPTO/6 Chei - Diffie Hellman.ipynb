{
 "cells": [
  {
   "cell_type": "code",
   "execution_count": 5,
   "metadata": {
    "collapsed": false
   },
   "outputs": [
    {
     "name": "stdout",
     "output_type": "stream",
     "text": [
      "alpha ^ 1 = 2\n",
      "alpha ^ 2 = 4\n",
      "alpha ^ 3 = 8\n",
      "alpha ^ 4 = 5\n",
      "alpha ^ 5 = 10\n",
      "alpha ^ 6 = 9\n",
      "Valoarea lui a: 6\n",
      "rA ^ 1 = 9\n",
      "rA ^ 2 = 4\n",
      "rA ^ 3 = 3\n",
      "Valoarea lui b: 3\n"
     ]
    }
   ],
   "source": [
    "from lib.math import *\n",
    "\n",
    "### Ex 5.3\n",
    "p = 11\n",
    "alpha = 2\n",
    "# Subpunctul 1\n",
    "rA = 9\n",
    "a = 1\n",
    "while True:\n",
    "    x = pow(alpha, a, p)\n",
    "    print(\"alpha ^ {0} = {1}\".format(a, x))\n",
    "    if x == rA:\n",
    "        break\n",
    "    a += 1\n",
    "print(\"Valoarea lui a: \" + str(a))\n",
    "kAB = 3\n",
    "b = 1\n",
    "while True:\n",
    "    k = pow(rA, b, p)\n",
    "    print(\"rA ^ {0} = {1}\".format(b, k))\n",
    "    if k == kAB:\n",
    "        break\n",
    "    b += 1\n",
    "print(\"Valoarea lui b: \" + str(b))\n"
   ]
  },
  {
   "cell_type": "code",
   "execution_count": 13,
   "metadata": {
    "collapsed": false
   },
   "outputs": [
    {
     "name": "stdout",
     "output_type": "stream",
     "text": [
      "Cheia k = 10141\n"
     ]
    }
   ],
   "source": [
    "# 5.4\n",
    "p = 27001\n",
    "alpha = 101\n",
    "a = 21768\n",
    "b = 9898\n",
    "k = pow(alpha, a * b, p)\n",
    "print(\"Cheia k = \" + str(k))"
   ]
  },
  {
   "cell_type": "code",
   "execution_count": 15,
   "metadata": {
    "collapsed": false
   },
   "outputs": [
    {
     "name": "stdout",
     "output_type": "stream",
     "text": [
      "yA 19392\n",
      "yB 7592\n",
      "tA 13456\n",
      "tB 7267\n"
     ]
    },
    {
     "ename": "OverflowError",
     "evalue": "math range error",
     "output_type": "error",
     "traceback": [
      "\u001b[0;31m---------------------------------------------------------------------------\u001b[0m",
      "\u001b[0;31mOverflowError\u001b[0m                             Traceback (most recent call last)",
      "\u001b[0;32m<ipython-input-15-84ed76d5348c>\u001b[0m in \u001b[0;36m<module>\u001b[0;34m()\u001b[0m\n\u001b[1;32m     18\u001b[0m \u001b[0mprint\u001b[0m\u001b[0;34m(\u001b[0m\u001b[0;34m\"tA\"\u001b[0m\u001b[0;34m,\u001b[0m \u001b[0mtA\u001b[0m\u001b[0;34m)\u001b[0m\u001b[0;34m\u001b[0m\u001b[0m\n\u001b[1;32m     19\u001b[0m \u001b[0mprint\u001b[0m\u001b[0;34m(\u001b[0m\u001b[0;34m\"tB\"\u001b[0m\u001b[0;34m,\u001b[0m \u001b[0mtB\u001b[0m\u001b[0;34m)\u001b[0m\u001b[0;34m\u001b[0m\u001b[0m\n\u001b[0;32m---> 20\u001b[0;31m \u001b[0mkBA\u001b[0m \u001b[0;34m=\u001b[0m \u001b[0mmath\u001b[0m\u001b[0;34m.\u001b[0m\u001b[0mpow\u001b[0m\u001b[0;34m(\u001b[0m\u001b[0mtA\u001b[0m\u001b[0;34m,\u001b[0m \u001b[0;34m(\u001b[0m\u001b[0mmodinv\u001b[0m\u001b[0;34m(\u001b[0m\u001b[0mb\u001b[0m\u001b[0;34m,\u001b[0m \u001b[0mp\u001b[0m\u001b[0;34m)\u001b[0m \u001b[0;34m*\u001b[0m \u001b[0my\u001b[0m\u001b[0;34m)\u001b[0m \u001b[0;34m%\u001b[0m \u001b[0;34m(\u001b[0m\u001b[0mp\u001b[0m \u001b[0;34m-\u001b[0m \u001b[0;36m1\u001b[0m\u001b[0;34m)\u001b[0m\u001b[0;34m)\u001b[0m \u001b[0;34m%\u001b[0m \u001b[0mp\u001b[0m\u001b[0;34m\u001b[0m\u001b[0m\n\u001b[0m\u001b[1;32m     21\u001b[0m \u001b[0mkAB\u001b[0m \u001b[0;34m=\u001b[0m \u001b[0mpow\u001b[0m\u001b[0;34m(\u001b[0m\u001b[0mtB\u001b[0m\u001b[0;34m,\u001b[0m \u001b[0mmodinv\u001b[0m\u001b[0;34m(\u001b[0m\u001b[0ma\u001b[0m\u001b[0;34m,\u001b[0m \u001b[0mp\u001b[0m\u001b[0;34m)\u001b[0m \u001b[0;34m*\u001b[0m \u001b[0mx\u001b[0m\u001b[0;34m,\u001b[0m \u001b[0mp\u001b[0m\u001b[0;34m)\u001b[0m\u001b[0;34m\u001b[0m\u001b[0m\n\u001b[1;32m     22\u001b[0m \u001b[0mprint\u001b[0m\u001b[0;34m(\u001b[0m\u001b[0mkBA\u001b[0m\u001b[0;34m,\u001b[0m \u001b[0mkAB\u001b[0m\u001b[0;34m)\u001b[0m\u001b[0;34m\u001b[0m\u001b[0m\n",
      "\u001b[0;31mOverflowError\u001b[0m: math range error"
     ]
    }
   ],
   "source": [
    "import math\n",
    "\n",
    "# 5.7\n",
    "p = 30113\n",
    "alpha = 52\n",
    "a = 8642\n",
    "x = 28654\n",
    "b = 24673\n",
    "y = 12385\n",
    "\n",
    "yA = pow(alpha, a, p)\n",
    "yB = pow(alpha, b, p)\n",
    "print(\"yA\", yA)\n",
    "print(\"yB\", yB)\n",
    "\n",
    "tA = pow(yB, x, p)\n",
    "tB = pow(yA, y, p)\n",
    "print(\"tA\", tA)\n",
    "print(\"tB\", tB)\n",
    "kBA = math.pow(tA, (modinv(b, p) * y) % (p - 1)) % p \n",
    "kAB = pow(tB, modinv(a, p) * x, p)\n",
    "print(kBA, kAB)\n",
    "print(pow(alpha, x * y, p))"
   ]
  },
  {
   "cell_type": "code",
   "execution_count": null,
   "metadata": {
    "collapsed": true
   },
   "outputs": [],
   "source": []
  }
 ],
 "metadata": {
  "kernelspec": {
   "display_name": "Python 3",
   "language": "python",
   "name": "python3"
  },
  "language_info": {
   "codemirror_mode": {
    "name": "ipython",
    "version": 3
   },
   "file_extension": ".py",
   "mimetype": "text/x-python",
   "name": "python",
   "nbconvert_exporter": "python",
   "pygments_lexer": "ipython3",
   "version": "3.5.1"
  }
 },
 "nbformat": 4,
 "nbformat_minor": 0
}
