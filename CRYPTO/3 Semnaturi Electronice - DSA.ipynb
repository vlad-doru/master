{
 "cells": [
  {
   "cell_type": "code",
   "execution_count": 1,
   "metadata": {
    "collapsed": true
   },
   "outputs": [],
   "source": [
    "from lib.math import *"
   ]
  },
  {
   "cell_type": "code",
   "execution_count": 2,
   "metadata": {
    "collapsed": true
   },
   "outputs": [],
   "source": [
    "q = 101\n",
    "p = 7879\n",
    "alpha = 170\n",
    "a = 75 \n",
    "beta = 4567\n",
    "x = 5001\n",
    "k = 49"
   ]
  },
  {
   "cell_type": "markdown",
   "metadata": {},
   "source": [
    "Determinati semnatura si efectuati verificarea."
   ]
  },
  {
   "cell_type": "code",
   "execution_count": 3,
   "metadata": {
    "collapsed": false
   },
   "outputs": [
    {
     "name": "stdout",
     "output_type": "stream",
     "text": [
      "Gamma 59\n",
      "Delta 79\n",
      "Semantura pentru x = 5001 este (59, 79)\n"
     ]
    }
   ],
   "source": [
    "gamma = pow(alpha, k, p) % q\n",
    "print(\"Gamma\", gamma)\n",
    "delta = ((x + a * gamma) * modinv(k, q)) % q\n",
    "print(\"Delta\", delta)\n",
    "print(\"Semantura pentru x = {0} este {1}\".format(x, (gamma, delta)))"
   ]
  },
  {
   "cell_type": "code",
   "execution_count": 4,
   "metadata": {
    "collapsed": false
   },
   "outputs": [],
   "source": [
    "def checkDSA(x, gamma, delta, p, q, alpha, beta):\n",
    "    e1 = (x * modinv(delta, q)) % q\n",
    "    print(\"e1 = \", e1)\n",
    "    e2 = (gamma * modinv(delta, q)) % q\n",
    "    print(\"e2 = \", e2)\n",
    "    check = ((pow(alpha, e1, p) * pow(beta, e2, p)) % p) % q\n",
    "    print(\"alpha ^ e1\", pow(alpha, e1, p))\n",
    "    print(\"beta ^ e2\", pow(beta, e2, p))\n",
    "    print(\"Check term\", check)\n",
    "    if check == gamma:\n",
    "        print(\"Semantura este valida\")\n",
    "    else:\n",
    "        print(\"Semnatura nu este valida\")"
   ]
  },
  {
   "cell_type": "code",
   "execution_count": 5,
   "metadata": {
    "collapsed": false
   },
   "outputs": [
    {
     "name": "stdout",
     "output_type": "stream",
     "text": [
      "e1 =  16\n",
      "e2 =  57\n",
      "alpha ^ e1 219\n",
      "beta ^ e2 6484\n",
      "Check term 59\n",
      "Semantura este valida\n"
     ]
    }
   ],
   "source": [
    "checkDSA(x, gamma, delta, p, q, alpha, beta)"
   ]
  }
 ],
 "metadata": {
  "kernelspec": {
   "display_name": "Python 3",
   "language": "python",
   "name": "python3"
  },
  "language_info": {
   "codemirror_mode": {
    "name": "ipython",
    "version": 3
   },
   "file_extension": ".py",
   "mimetype": "text/x-python",
   "name": "python",
   "nbconvert_exporter": "python",
   "pygments_lexer": "ipython3",
   "version": "3.4.3"
  }
 },
 "nbformat": 4,
 "nbformat_minor": 0
}
