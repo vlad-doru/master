{
 "cells": [
  {
   "cell_type": "code",
   "execution_count": 4,
   "metadata": {
    "collapsed": true
   },
   "outputs": [],
   "source": [
    "# %load lib/math.py\n",
    "import fractions\n",
    "import itertools\n",
    "\n",
    "def gcd(a, b):\n",
    "    return fractions.gcd(a, b)\n",
    "\n",
    "def egcd(a, b):\n",
    "    if a == 0:\n",
    "        return (b, 0, 1)\n",
    "    else:\n",
    "        g, y, x = egcd(b % a, a)\n",
    "        return (g, x - (b // a) * y, y)\n",
    "\n",
    "# Find the modular inverse.\n",
    "def modinv(a, m):\n",
    "    a = a % m\n",
    "    g, x, y = egcd(a, m)\n",
    "    if g != 1:\n",
    "        raise Exception('modular inverse does not exist')\n",
    "    else:\n",
    "        return x % m\n",
    "\n",
    "def chinese_remainder(n, a):\n",
    "    sum = 0\n",
    "    prod = reduce(lambda a, b: a*b, n)\n",
    "\n",
    "    for n_i, a_i in zip(n, a):\n",
    "        p = prod / n_i\n",
    "        sum += a_i * modinv(p, n_i) * p\n",
    "        print(\"Termenul \", a_i, modinv(p, n_i), p)\n",
    "    return sum % prod\n",
    "\n",
    "def all_chinese_solutions(n, a):\n",
    "    print(itertools.product(a))\n",
    "\n",
    "def pow(a, b, m):\n",
    "    result = 1\n",
    "    pow_value = a\n",
    "    while b > 0:\n",
    "        if b & 1 :\n",
    "            result = (result * pow_value) % m\n",
    "        b = b >> 1\n",
    "        pow_value = (pow_value * pow_value) % m\n",
    "    return result\n",
    "\n",
    "def primes_sieve(limit):\n",
    "    limitn = limit+1\n",
    "    not_prime = set()\n",
    "    primes = []\n",
    "\n",
    "    for i in range(2, limitn):\n",
    "        if i in not_prime:\n",
    "            continue\n",
    "        for f in range(i*2, limitn, i):\n",
    "            not_prime.add(f)\n",
    "        primes.append(i)\n",
    "    return primes\n"
   ]
  },
  {
   "cell_type": "code",
   "execution_count": 5,
   "metadata": {
    "collapsed": true
   },
   "outputs": [],
   "source": [
    "q = 101\n",
    "p = 7879\n",
    "alpha = 170\n",
    "a = 75 \n",
    "beta = 4567\n",
    "x = 5001\n",
    "k = 49"
   ]
  },
  {
   "cell_type": "markdown",
   "metadata": {},
   "source": [
    "Determinati semnatura si efectuati verificarea."
   ]
  },
  {
   "cell_type": "code",
   "execution_count": 20,
   "metadata": {
    "collapsed": false
   },
   "outputs": [
    {
     "name": "stdout",
     "output_type": "stream",
     "text": [
      "('Gamma', 59)\n",
      "('Delta', 79)\n",
      "Semantura pentru x = 5001 este (59, 79)\n"
     ]
    }
   ],
   "source": [
    "gamma = pow(alpha, k, p) % q\n",
    "print(\"Gamma\", gamma)\n",
    "delta = ((x + a * gamma) * modinv(k, q)) % q\n",
    "print(\"Delta\", delta)\n",
    "print(\"Semantura pentru x = {0} este {1}\".format(x, (gamma, delta)))"
   ]
  },
  {
   "cell_type": "code",
   "execution_count": 26,
   "metadata": {
    "collapsed": false
   },
   "outputs": [],
   "source": [
    "def checkDSA(x, gamma, delta, p, q, alpha, beta):\n",
    "    e1 = (x * modinv(delta, q)) % q\n",
    "    print(\"e1 = \", e1)\n",
    "    e2 = (gamma * modinv(delta, q)) % q\n",
    "    print(\"e2 = \", e2)\n",
    "    check = ((pow(alpha, e1, p) * pow(beta, e2, p)) % p) % q\n",
    "    print(\"alpha ^ e1\", pow(alpha, e1, p))\n",
    "    print(\"beta ^ e2\", pow(beta, e2, p))\n",
    "    print(\"Check term\", check)\n",
    "    if check == gamma:\n",
    "        print(\"Semantura este valida\")\n",
    "    else:\n",
    "        print(\"Semnatura nu este valida\")"
   ]
  },
  {
   "cell_type": "code",
   "execution_count": 27,
   "metadata": {
    "collapsed": false
   },
   "outputs": [
    {
     "name": "stdout",
     "output_type": "stream",
     "text": [
      "('e1 = ', 16)\n",
      "('e2 = ', 57)\n",
      "('alpha ^ e1', 219)\n",
      "('beta ^ e2', 6484)\n",
      "('Check term', 59)\n",
      "Semantura este valida\n"
     ]
    }
   ],
   "source": [
    "checkDSA(x, gamma, delta, p, q, alpha, beta)"
   ]
  }
 ],
 "metadata": {
  "kernelspec": {
   "display_name": "Python 2",
   "language": "python",
   "name": "python2"
  },
  "language_info": {
   "codemirror_mode": {
    "name": "ipython",
    "version": 2
   },
   "file_extension": ".py",
   "mimetype": "text/x-python",
   "name": "python",
   "nbconvert_exporter": "python",
   "pygments_lexer": "ipython2",
   "version": "2.7.9"
  }
 },
 "nbformat": 4,
 "nbformat_minor": 0
}
