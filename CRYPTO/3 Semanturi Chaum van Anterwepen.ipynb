{
 "cells": [
  {
   "cell_type": "code",
   "execution_count": 3,
   "metadata": {
    "collapsed": true
   },
   "outputs": [],
   "source": [
    "# %load lib/math.py\n",
    "import fractions\n",
    "import itertools\n",
    "import math\n",
    "\n",
    "def gcd(a, b):\n",
    "    return fractions.gcd(a, b)\n",
    "\n",
    "def egcd(a, b):\n",
    "    if a == 0:\n",
    "        return (b, 0, 1)\n",
    "    else:\n",
    "        g, y, x = egcd(b % a, a)\n",
    "        return (g, x - (b // a) * y, y)\n",
    "\n",
    "# Find the modular inverse.\n",
    "def modinv(a, m):\n",
    "    a = a % m\n",
    "    g, x, y = egcd(a, m)\n",
    "    if g != 1:\n",
    "        raise Exception('modular inverse does not exist')\n",
    "    else:\n",
    "        return x % m\n",
    "\n",
    "def chinese_remainder(n, a):\n",
    "    sum = 0\n",
    "    prod = reduce(lambda a, b: a*b, n)\n",
    "\n",
    "    for n_i, a_i in zip(n, a):\n",
    "        p = prod / n_i\n",
    "        sum += a_i * modinv(p, n_i) * p\n",
    "        print(\"Termenul \", a_i, modinv(p, n_i), p)\n",
    "    return sum % prod\n",
    "\n",
    "def all_chinese_solutions(n, a):\n",
    "    print(itertools.product(a))\n",
    "\n",
    "def pow(a, b, m):\n",
    "    result = 1\n",
    "    pow_value = a\n",
    "    while b > 0:\n",
    "        if b & 1 :\n",
    "            result = (result * pow_value) % m\n",
    "        b = b >> 1\n",
    "        pow_value = (pow_value * pow_value) % m\n",
    "    return result\n",
    "\n",
    "def primes_sieve(limit):\n",
    "    limitn = limit+1\n",
    "    not_prime = set()\n",
    "    primes = []\n",
    "\n",
    "    for i in range(2, limitn):\n",
    "        if i in not_prime:\n",
    "            continue\n",
    "        for f in range(i*2, limitn, i):\n",
    "            not_prime.add(f)\n",
    "        primes.append(i)\n",
    "    return primes\n",
    "\n",
    "def fact(n):\n",
    "    return math.factorial(n)\n"
   ]
  },
  {
   "cell_type": "code",
   "execution_count": 16,
   "metadata": {
    "collapsed": true
   },
   "outputs": [],
   "source": [
    "p = 467\n",
    "q = (p - 1) / 2\n",
    "alpha = 4\n",
    "a = 101\n",
    "beta = 449\n",
    "y = 25\n",
    "x = 157\n",
    "e1 = 46\n",
    "e2 = 123\n",
    "f1 = 198\n",
    "f2 = 11\n"
   ]
  },
  {
   "cell_type": "code",
   "execution_count": 31,
   "metadata": {
    "collapsed": false
   },
   "outputs": [
    {
     "name": "stdout",
     "output_type": "stream",
     "text": [
      "c = 40 * 7 mod p => c = 280\n",
      "('a^ -1 (mod q)', 30)\n",
      "('d = ', 193)\n",
      "('COMPARISON 1', 193, 22)\n",
      "C = 430 * 68 mod p => C = 286\n",
      "('D = ', 208)\n",
      "('Alpha inv', 117)\n",
      "('d * pow(alpha_inv, e2, p)', 85499)\n",
      "('Termenul din stanga', 251)\n"
     ]
    }
   ],
   "source": [
    "## DEZIMINTIRE\n",
    "from random import randint\n",
    "\n",
    "c = (pow(y, e1, p) * pow(beta, e2, p)) % p\n",
    "print(\"c = {0} * {1} mod p => c = {2}\".format(pow(y, e1, p), pow(beta, e2, p), c))\n",
    "a_inv = modinv(a, q)\n",
    "print(\"a^ -1 (mod q)\", a_inv)\n",
    "d = pow(c, a_inv, p)\n",
    "print(\"d = \", d)\n",
    "\n",
    "check1 = (pow(x, e1, p) * pow(alpha, e2, p)) % p\n",
    "print(\"COMPARISON 1\", d, check1)\n",
    "if d == check1:\n",
    "    print(\"Trebuie alese alte numere aleatoare\")\n",
    "C = (pow(y, f1, p) * pow(beta, f2, p)) % p\n",
    "print(\"C = {0} * {1} mod p => C = {2}\".format(pow(y, f1, p), pow(beta, f2, p), C))\n",
    "D = pow(C, a_inv, p)\n",
    "print(\"D = \", D)\n",
    "check2 = (pow(x, f1, p) * pow(alpha, f2, p)) % p\n",
    "if D == check2:\n",
    "    print(\"Trebuie alese alte numere aleatoare\")\n",
    "    \n",
    "# Final check\n",
    "alpha_inv = modinv(alpha, p)\n",
    "print(\"Alpha inv\", alpha_inv)\n",
    "left = d * pow(alpha_inv, e2, p) \n",
    "print(\"d * pow(alpha_inv, e2, p)\", left)\n",
    "left = pow(left, f1, p)\n",
    "print(\"Termenul din stanga\", left)\n",
    "right =  D * pow(alpha_inv, f2, p)"
   ]
  },
  {
   "cell_type": "code",
   "execution_count": null,
   "metadata": {
    "collapsed": true
   },
   "outputs": [],
   "source": []
  }
 ],
 "metadata": {
  "kernelspec": {
   "display_name": "Python 2",
   "language": "python",
   "name": "python2"
  },
  "language_info": {
   "codemirror_mode": {
    "name": "ipython",
    "version": 2
   },
   "file_extension": ".py",
   "mimetype": "text/x-python",
   "name": "python",
   "nbconvert_exporter": "python",
   "pygments_lexer": "ipython2",
   "version": "2.7.9"
  }
 },
 "nbformat": 4,
 "nbformat_minor": 0
}
