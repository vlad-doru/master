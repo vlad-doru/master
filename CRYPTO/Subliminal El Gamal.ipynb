{
 "cells": [
  {
   "cell_type": "code",
   "execution_count": 3,
   "metadata": {
    "collapsed": false
   },
   "outputs": [],
   "source": [
    "# %load lib/math.py\n",
    "import fractions\n",
    "import itertools\n",
    "\n",
    "def gcd(a, b):\n",
    "    return fractions.gcd(a, b)\n",
    "\n",
    "def egcd(a, b):\n",
    "    if a == 0:\n",
    "        return (b, 0, 1)\n",
    "    else:\n",
    "        g, y, x = egcd(b % a, a)\n",
    "        return (g, x - (b // a) * y, y)\n",
    "\n",
    "# Find the modular inverse.\n",
    "def modinv(a, m):\n",
    "    a = a % m\n",
    "    g, x, y = egcd(a, m)\n",
    "    if g != 1:\n",
    "        raise Exception('modular inverse does not exist')\n",
    "    else:\n",
    "        return x % m\n",
    "\n",
    "def chinese_remainder(n, a):\n",
    "    sum = 0\n",
    "    prod = reduce(lambda a, b: a*b, n)\n",
    "\n",
    "    for n_i, a_i in zip(n, a):\n",
    "        p = prod / n_i\n",
    "        sum += a_i * modinv(p, n_i) * p\n",
    "        print(\"Termenul \", a_i, modinv(p, n_i), p)\n",
    "    return sum % prod\n",
    "\n",
    "def all_chinese_solutions(n, a):\n",
    "    sols = []\n",
    "    for l in list(itertools.product(*a)):\n",
    "        print(\"Pentru sistemul:\", l)\n",
    "        c = chinese_remainder(n, l)\n",
    "        print(\"Solutia fiind:\", c)\n",
    "        sols.append(c)\n",
    "    return sorted(sols)\n",
    "\n",
    "def pow(a, b, m):\n",
    "    result = 1\n",
    "    pow_value = a\n",
    "    while b > 0:\n",
    "        if b & 1 :\n",
    "            result = (result * pow_value) % m\n",
    "        b = b >> 1\n",
    "        pow_value = (pow_value * pow_value) % m\n",
    "    return result\n",
    "\n",
    "def primes_sieve(limit):\n",
    "    limitn = limit+1\n",
    "    not_prime = set()\n",
    "    primes = []\n",
    "\n",
    "    for i in range(2, limitn):\n",
    "        if i in not_prime:\n",
    "            continue\n",
    "        for f in range(i*2, limitn, i):\n",
    "            not_prime.add(f)\n",
    "        primes.append(i)\n",
    "    return primes\n"
   ]
  },
  {
   "cell_type": "markdown",
   "metadata": {},
   "source": [
    "### Exercitiul 5\n",
    "\n",
    "Sa se determine beta si gamma"
   ]
  },
  {
   "cell_type": "code",
   "execution_count": 5,
   "metadata": {
    "collapsed": false
   },
   "outputs": [],
   "source": [
    "q = 13\n",
    "alpha = 6\n",
    "y = 9 \n",
    "x = 11\n",
    "p = 10"
   ]
  },
  {
   "cell_type": "code",
   "execution_count": 13,
   "metadata": {
    "collapsed": false
   },
   "outputs": [
    {
     "name": "stdout",
     "output_type": "stream",
     "text": [
      "('Beta', 5)\n",
      "(11, 50, 9)\n",
      "('Gamma', 1)\n"
     ]
    }
   ],
   "source": [
    "beta = pow(alpha, y, q)\n",
    "print (\"Beta\", beta)\n",
    "gamma = None\n",
    "\n",
    "for i in range(q - 1):\n",
    "    if x  == (p * beta + y * i) % (q - 1):\n",
    "        gamma = i\n",
    "        break\n",
    "print(x, p * beta, y * gamma)\n",
    "print (\"Gamma\", gamma)"
   ]
  },
  {
   "cell_type": "markdown",
   "metadata": {},
   "source": [
    "### Exercitiul 4\n",
    "\n",
    "Sa se determine daca tripletul e bun"
   ]
  },
  {
   "cell_type": "code",
   "execution_count": 19,
   "metadata": {
    "collapsed": false
   },
   "outputs": [
    {
     "name": "stdout",
     "output_type": "stream",
     "text": [
      "11\n",
      "Mesajul autentic\n",
      "('Mesajul este:', 9)\n"
     ]
    }
   ],
   "source": [
    "c, beta, gamma = 11, 5, 1\n",
    "a = (pow(pow(alpha, p, q), beta, q) * pow(beta, gamma, q)) % q\n",
    "print(a)\n",
    "if a == c:\n",
    "    print(\"Mesajul autentic\")\n",
    "    y = ((x - p * beta) * modinv(gamma, q - 1)) % (q - 1)\n",
    "    print(\"Mesajul este:\", y)\n",
    "else:\n",
    "    print(\"Mesajul NU este autentic\")"
   ]
  }
 ],
 "metadata": {
  "kernelspec": {
   "display_name": "Python 2",
   "language": "python",
   "name": "python2"
  },
  "language_info": {
   "codemirror_mode": {
    "name": "ipython",
    "version": 2
   },
   "file_extension": ".py",
   "mimetype": "text/x-python",
   "name": "python",
   "nbconvert_exporter": "python",
   "pygments_lexer": "ipython2",
   "version": "2.7.9"
  }
 },
 "nbformat": 4,
 "nbformat_minor": 0
}
