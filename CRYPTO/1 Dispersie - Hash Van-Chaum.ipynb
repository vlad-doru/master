{
 "cells": [
  {
   "cell_type": "code",
   "execution_count": 5,
   "metadata": {
    "collapsed": false
   },
   "outputs": [
    {
     "name": "stdout",
     "output_type": "stream",
     "text": [
      "('q = ', 7541)\n",
      "Incepem rezolvarea:\n",
      "----------------------\n",
      "Calculam d = (x4 - x2, p - 1)\n",
      "d = 2\n",
      "Calculam y = (x4 - x2)^-1(mod q)\n",
      "y = 4680\n",
      "Calculam posibilitatea 1 pt log_alpha(beta) = (x1 - x3) * y (mod p - 1)\n",
      "('Verficam posibilitatea 1 pentru log_alpha(beta)', 2014)\n",
      "Calculam posibilitatea 1 pt log_alpha(beta) = (x1 - x3) * y  + q (mod p - 1)\n",
      "('Verficam posibilitatea 2 pentru log_alpha(beta)', 9555)\n",
      "Raspunsul 9555 verifica!!!!\n"
     ]
    }
   ],
   "source": [
    "### REZOLVAREA PROBLEMEI LOGARITMULUI PLECAND DE LA O COLIZIUNE\n",
    "from lib.math import *\n",
    "\n",
    "p = 15083\n",
    "alpha = 154\n",
    "beta = 2307\n",
    "x1 = 7431 \n",
    "x2 = 5564\n",
    "x3 = 1459\n",
    "x4 = 954\n",
    "\n",
    "q = (p - 1)/2\n",
    "print(\"q = \", q)\n",
    "\n",
    "### Verificam daca am rezolvat problema logaritmului discret log_alpha (beta)\n",
    "def check(alpha, beta, log_value):\n",
    "    check = 1\n",
    "    if pow(alpha, log_value, p) == beta:\n",
    "        print(\"Raspunsul {0} verifica!!!!\".format(log_value))\n",
    "\n",
    "print(\"Incepem rezolvarea:\")\n",
    "print(\"----------------------\")\n",
    "print(\"Calculam d = (x4 - x2, p - 1)\")\n",
    "d = gcd(x4 - x2, p - 1)\n",
    "print(\"d = {0}\".format(d))\n",
    "if (d == 1):\n",
    "    print(\"Calculam y = (x4 - x2)^-1(mod p - 1)\")\n",
    "    y = modinv(x4 - x2, p - 1)\n",
    "    print(\"y = {0}\".format(y))\n",
    "    print(\"Calculam log_alpha(beta) = (x1 - x3) * y (mod p - 1)\")\n",
    "    log_value = ((x1 - x3) * y) % (p - 1)\n",
    "    print(\"Verificam logaritmului: {0}\".format(log_value))\n",
    "    check(alpha, beta, log_value)\n",
    "elif (d == 2):\n",
    "    print(\"Calculam y = (x4 - x2)^-1(mod q)\")\n",
    "    y = modinv(x4 - x2, q)\n",
    "    print(\"y = {0}\".format(y))\n",
    "    print(\"Calculam posibilitatea 1 pt log_alpha(beta) = (x1 - x3) * y (mod p - 1)\")\n",
    "    log_value = ((x1 - x3) * y) % (p - 1)\n",
    "    print(\"Verficam posibilitatea 1 pentru log_alpha(beta)\", log_value)\n",
    "    check(alpha, beta, log_value)\n",
    "    print(\"Calculam posibilitatea 1 pt log_alpha(beta) = (x1 - x3) * y  + q (mod p - 1)\")\n",
    "    log_value = (log_value + q) % (p - 1)\n",
    "    print(\"Verficam posibilitatea 2 pentru log_alpha(beta)\", log_value)\n",
    "    check(alpha, beta, log_value)\n",
    "else:\n",
    "    print (\"Ceva e gresit, d poate fi doar 1 sau 2\")"
   ]
  }
 ],
 "metadata": {
  "kernelspec": {
   "display_name": "Python 3",
   "language": "python",
   "name": "python3"
  },
  "language_info": {
   "codemirror_mode": {
    "name": "ipython",
    "version": 3
   },
   "file_extension": ".py",
   "mimetype": "text/x-python",
   "name": "python",
   "nbconvert_exporter": "python",
   "pygments_lexer": "ipython3",
   "version": "3.4.3"
  }
 },
 "nbformat": 4,
 "nbformat_minor": 0
}
