{
 "cells": [
  {
   "cell_type": "code",
   "execution_count": 1,
   "metadata": {
    "collapsed": false
   },
   "outputs": [],
   "source": [
    "from lib.math import *"
   ]
  },
  {
   "cell_type": "markdown",
   "metadata": {},
   "source": [
    "### Simmons\n",
    "\n",
    "Vom calcula manual radacinile pentru x^2 = c pentru fiecare p, q, r"
   ]
  },
  {
   "cell_type": "code",
   "execution_count": 11,
   "metadata": {
    "collapsed": false
   },
   "outputs": [
    {
     "name": "stdout",
     "output_type": "stream",
     "text": [
      "[1, 4]\n",
      "[2, 5]\n",
      "[5, 6]\n",
      "[5, 7, 11]\n",
      "[[1, 4], [2, 5], [5, 6]]\n"
     ]
    }
   ],
   "source": [
    "p = 5\n",
    "q = 7\n",
    "r = 11\n",
    "\n",
    "c = 256\n",
    "def unity_root(c, n):\n",
    "    sols = []\n",
    "    for i in range(n):\n",
    "        if (i * i) % n == (c % n):\n",
    "            sols.append(i)\n",
    "    return sols\n",
    "\n",
    "print(unity_root(c, p))\n",
    "print(unity_root(c, q))\n",
    "print(unity_root(c, r))\n",
    "n = [p, q, r]\n",
    "sols = [unity_root(c, p), unity_root(c, q), unity_root(c, r)]\n",
    "print(n)\n",
    "print(sols)"
   ]
  },
  {
   "cell_type": "code",
   "execution_count": 12,
   "metadata": {
    "collapsed": false
   },
   "outputs": [
    {
     "name": "stdout",
     "output_type": "stream",
     "text": [
      "Termenul  1 3.0 77.0\n",
      "Termenul  2 6.0 55.0\n",
      "Termenul  5 6.0 35.0\n",
      "Sistemul (1, 2, 5) cu solutia 16.0\n",
      "Termenul  1 3.0 77.0\n",
      "Termenul  2 6.0 55.0\n",
      "Termenul  6 6.0 35.0\n",
      "Sistemul (1, 2, 6) cu solutia 226.0\n",
      "Termenul  1 3.0 77.0\n",
      "Termenul  5 6.0 55.0\n",
      "Termenul  5 6.0 35.0\n",
      "Sistemul (1, 5, 5) cu solutia 236.0\n",
      "Termenul  1 3.0 77.0\n",
      "Termenul  5 6.0 55.0\n",
      "Termenul  6 6.0 35.0\n",
      "Sistemul (1, 5, 6) cu solutia 61.0\n",
      "Termenul  4 3.0 77.0\n",
      "Termenul  2 6.0 55.0\n",
      "Termenul  5 6.0 35.0\n",
      "Sistemul (4, 2, 5) cu solutia 324.0\n",
      "Termenul  4 3.0 77.0\n",
      "Termenul  2 6.0 55.0\n",
      "Termenul  6 6.0 35.0\n",
      "Sistemul (4, 2, 6) cu solutia 149.0\n",
      "Termenul  4 3.0 77.0\n",
      "Termenul  5 6.0 55.0\n",
      "Termenul  5 6.0 35.0\n",
      "Sistemul (4, 5, 5) cu solutia 159.0\n",
      "Termenul  4 3.0 77.0\n",
      "Termenul  5 6.0 55.0\n",
      "Termenul  6 6.0 35.0\n",
      "Sistemul (4, 5, 6) cu solutia 369.0\n",
      "[16.0, 61.0, 149.0, 159.0, 226.0, 236.0, 324.0, 369.0]\n"
     ]
    }
   ],
   "source": [
    "sols = all_chinese_solutions(n, sols)\n",
    "print(sorted(sols))"
   ]
  }
 ],
 "metadata": {
  "kernelspec": {
   "display_name": "Python 3",
   "language": "python",
   "name": "python3"
  },
  "language_info": {
   "codemirror_mode": {
    "name": "ipython",
    "version": 3
   },
   "file_extension": ".py",
   "mimetype": "text/x-python",
   "name": "python",
   "nbconvert_exporter": "python",
   "pygments_lexer": "ipython3",
   "version": "3.4.3"
  }
 },
 "nbformat": 4,
 "nbformat_minor": 0
}
