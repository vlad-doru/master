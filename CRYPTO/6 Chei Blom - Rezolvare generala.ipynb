{
 "cells": [
  {
   "cell_type": "code",
   "execution_count": 1,
   "metadata": {
    "collapsed": false
   },
   "outputs": [],
   "source": [
    "p = 97\n",
    "r = {\n",
    "    'A': 14,\n",
    "    'B': 38,\n",
    "    'C': 92,\n",
    "    'D': 69,\n",
    "    'E': 70,\n",
    "} "
   ]
  },
  {
   "cell_type": "code",
   "execution_count": 2,
   "metadata": {
    "collapsed": false
   },
   "outputs": [],
   "source": [
    "polys = {\n",
    "    'A': (15, 15, 2),\n",
    "    'B': (95, 77, 83),\n",
    "    'C': (88, 32, 18),\n",
    "    'D': (62, 91, 59),\n",
    "    'E': (10, 82, 52),\n",
    "}   \n",
    "\n",
    "g = {}\n",
    "\n",
    "def generateFn(coeffs):\n",
    "    def fn(x, coeffs = coeffs):\n",
    "        return coeffs[0] + coeffs[1] * x + coeffs[2] * x * x\n",
    "    return fn\n",
    "\n",
    "for i, coeffs in polys.items():\n",
    "    g[i] = generateFn(coeffs)"
   ]
  },
  {
   "cell_type": "code",
   "execution_count": 3,
   "metadata": {
    "collapsed": false
   },
   "outputs": [
    {
     "name": "stdout",
     "output_type": "stream",
     "text": [
      "Key C-D : 15\n"
     ]
    }
   ],
   "source": [
    "def computeKey(x, y):\n",
    "    kxy = g[x](r[y]) % p\n",
    "    kyx = g[y](r[x]) % p \n",
    "    assert(kyx == kxy)\n",
    "    print(\"Key {0}-{1} : {2}\".format(x, y, kxy))\n",
    "    \n",
    "from itertools import combinations\n",
    "\n",
    "for x, y in combinations(['C', 'D'], 2):\n",
    "    computeKey(x, y)\n",
    "    "
   ]
  },
  {
   "cell_type": "code",
   "execution_count": 4,
   "metadata": {
    "collapsed": true
   },
   "outputs": [],
   "source": [
    "from lib.math import *\n"
   ]
  },
  {
   "cell_type": "code",
   "execution_count": 9,
   "metadata": {
    "collapsed": false
   },
   "outputs": [
    {
     "name": "stdout",
     "output_type": "stream",
     "text": [
      "Matricea sistemului pentru aflarea indicilor este: \n",
      " [[ 1 92 25]\n",
      " [ 1 69  8]\n",
      " [ 1 70 50]]\n",
      "Printam coeficientii generali\n",
      "a[0][0] = 15\n",
      "a[0][1] = 26\n",
      "a[0][2] = 12\n",
      "a[1][0] = 26\n",
      "a[1][1] = 83\n",
      "a[1][2] = 44\n",
      "a[2][0] = 12\n",
      "a[2][1] = 44\n",
      "a[2][2] = 75\n",
      "Key C-D : 15\n"
     ]
    }
   ],
   "source": [
    "import numpy as np\n",
    "\n",
    "def decode(alliance):\n",
    "    k = len(alliance)\n",
    "    m = []\n",
    "    b = [[] for i in range(k)]\n",
    "    for l in alliance:\n",
    "        row = [pow(r[l], i, p) for i in range(k)]\n",
    "        m.append(row)\n",
    "        for i, c in enumerate(polys[l]):\n",
    "            b[i].append(c)\n",
    "    ma = np.matrix(m)\n",
    "    print(\"Matricea sistemului pentru aflarea indicilor este: \\n\", ma)\n",
    "    print(\"Determinantul acesteia e\")\n",
    "    all_sols = []\n",
    "    for i in range(k):\n",
    "        sols = solveByCramer(ma, np.matrix(b[i]).transpose(), p)\n",
    "        all_sols.append(sols)\n",
    "    \n",
    "    print(\"Printam coeficientii generali\")\n",
    "    for i, sol in enumerate(all_sols):\n",
    "        for j, s in enumerate(sol):\n",
    "            print(\"a[{0}][{1}] = {2}\".format(i, j, s))\n",
    "        \n",
    "    def genPoly(sols):\n",
    "        def poly(x, y, sols = sols):\n",
    "            result = 0\n",
    "            for i, sol in enumerate(sols):\n",
    "                t = 0\n",
    "                for j, s in enumerate(sol):\n",
    "                    t += (pow(y, j, p) * s)\n",
    "                    t %= p\n",
    "                result += (pow(x, i, p) * t) \n",
    "                result %= p\n",
    "            return result\n",
    "        return poly\n",
    "    \n",
    "    return genPoly(all_sols)\n",
    "\n",
    "poly = decode(['C', 'D', 'E'])\n",
    "for x, y in combinations(['C', 'D'], 2):\n",
    "    print(\"Key {0}-{1} : {2}\".format(x, y, poly(r[x], r[y])))"
   ]
  },
  {
   "cell_type": "code",
   "execution_count": null,
   "metadata": {
    "collapsed": true
   },
   "outputs": [],
   "source": []
  }
 ],
 "metadata": {
  "kernelspec": {
   "display_name": "Python 3",
   "language": "python",
   "name": "python3"
  },
  "language_info": {
   "codemirror_mode": {
    "name": "ipython",
    "version": 3
   },
   "file_extension": ".py",
   "mimetype": "text/x-python",
   "name": "python",
   "nbconvert_exporter": "python",
   "pygments_lexer": "ipython3",
   "version": "3.4.3"
  }
 },
 "nbformat": 4,
 "nbformat_minor": 0
}
