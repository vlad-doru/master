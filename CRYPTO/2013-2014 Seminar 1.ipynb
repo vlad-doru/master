{
 "cells": [
  {
   "cell_type": "code",
   "execution_count": 1,
   "metadata": {
    "collapsed": false
   },
   "outputs": [],
   "source": [
    "from lib.math import *"
   ]
  },
  {
   "cell_type": "markdown",
   "metadata": {},
   "source": [
    "### Exercitiul 1\n",
    "\n",
    "a) Calculati"
   ]
  },
  {
   "cell_type": "code",
   "execution_count": 2,
   "metadata": {
    "collapsed": false
   },
   "outputs": [],
   "source": [
    "def h(x, n): \n",
    "    result = 0\n",
    "    for i in x:\n",
    "        result += i\n",
    "        result %= n\n",
    "    return result"
   ]
  },
  {
   "cell_type": "code",
   "execution_count": 3,
   "metadata": {
    "collapsed": false
   },
   "outputs": [
    {
     "name": "stdout",
     "output_type": "stream",
     "text": [
      "814\n"
     ]
    }
   ],
   "source": [
    "m = [189, 632, 900, 722, 349]\n",
    "n = 989\n",
    "print(h(m, n))"
   ]
  },
  {
   "cell_type": "markdown",
   "metadata": {},
   "source": [
    "b) Coliziuni sunt usor de gasit: (x1, x2) si (x2, x1)"
   ]
  },
  {
   "cell_type": "markdown",
   "metadata": {},
   "source": [
    "### Exercitiul 2\n",
    "\n",
    "Calculati logaritmul pt o coliziune a functii de hash van chaum"
   ]
  },
  {
   "cell_type": "code",
   "execution_count": 4,
   "metadata": {
    "collapsed": false
   },
   "outputs": [],
   "source": [
    "# %load hash_chaum_van.py\n",
    "\n",
    "def check(p, alpha, beta, log_value):\n",
    "    print(log_value)\n",
    "    check = 1\n",
    "    for i in range(0, log_value):\n",
    "        check = check * alpha\n",
    "        check = check % p\n",
    "    if (check == beta):\n",
    "        print(\"Raspunsul {0} verifica!!!!\".format(log_value))\n",
    "\n",
    "def calculate_log(p, alpha, beta, x1, x2, x3, x4):\n",
    "    print(\"Incepem rezolvarea:\")\n",
    "    print(\"----------------------\")\n",
    "    q = (p - 1)/2\n",
    "    print(\"q = \", q)\n",
    "    print(\"Calculam d = (x4 - x2, p - 1)\")\n",
    "    d = gcd(x4 - x2, p - 1)\n",
    "    print(\"d = {0}\".format(d))\n",
    "    if (d == 1):\n",
    "        print(\"Calculam y = (x4 - x2)^-1(mod p - 1)\")\n",
    "        y = modinv(x4 - x2, p - 1)\n",
    "        print(\"y = {0}\".format(y))\n",
    "        print(\"Calculam log_alpha(beta) = (x1 - x3) * y (mod p - 1)\")\n",
    "        log_value = int(((x1 - x3) * y)) % (p - 1)\n",
    "        print(\"Verificam logaritmului: {0}\".format(log_value))\n",
    "        checl(alpha, beta, log_value)\n",
    "    elif (d == 2):\n",
    "        print(\"Calculam y = (x4 - x2)^-1(mod q)\")\n",
    "        y = modinv(x4 - x2, q)\n",
    "        print(\"y = {0}\".format(y))\n",
    "        print(\"Calculam posibilitatea 1 pt log_alpha(beta) = (x1 - x3) * y (mod p - 1)\")\n",
    "        log_value = int(((x1 - x3) * y)) % (p - 1)\n",
    "        print(\"Verficam posibilitatea 1 pentru log_alpha(beta)\", log_value)\n",
    "        check(p, alpha, beta, log_value)\n",
    "        print(\"Calculam posibilitatea 1 pt log_alpha(beta) = (x1 - x3) * y  + q (mod p - 1)\")\n",
    "        log_value = int(log_value + q) % (p - 1)\n",
    "        print(\"Verficam posibilitatea 2 pentru log_alpha(beta)\", log_value)\n",
    "        check(p, alpha, beta, log_value)\n",
    "    else:\n",
    "        print (\"Ceva e gresit, d poate fi doar 1 sau 2\")\n"
   ]
  },
  {
   "cell_type": "code",
   "execution_count": 5,
   "metadata": {
    "collapsed": false,
    "scrolled": true
   },
   "outputs": [
    {
     "name": "stdout",
     "output_type": "stream",
     "text": [
      "Incepem rezolvarea:\n",
      "----------------------\n",
      "q =  7541.0\n",
      "Calculam d = (x4 - x2, p - 1)\n",
      "d = 2\n",
      "Calculam y = (x4 - x2)^-1(mod q)\n",
      "y = 4680.0\n",
      "Calculam posibilitatea 1 pt log_alpha(beta) = (x1 - x3) * y (mod p - 1)\n",
      "Verficam posibilitatea 1 pentru log_alpha(beta) 2014\n",
      "2014\n",
      "Calculam posibilitatea 1 pt log_alpha(beta) = (x1 - x3) * y  + q (mod p - 1)\n",
      "Verficam posibilitatea 2 pentru log_alpha(beta) 9555\n",
      "9555\n",
      "Raspunsul 9555 verifica!!!!\n"
     ]
    }
   ],
   "source": [
    "calculate_log(p = 15083, alpha = 154, beta = 2307, x1 = 7431, x2 = 5564, x3 = 1459, x4 = 954)"
   ]
  },
  {
   "cell_type": "markdown",
   "metadata": {},
   "source": [
    "### Exercitiul 3\n",
    "\n",
    "Avem urmatoarele date:"
   ]
  },
  {
   "cell_type": "code",
   "execution_count": 6,
   "metadata": {
    "collapsed": true
   },
   "outputs": [],
   "source": [
    "x1 = 1294755\n",
    "x2 = 80115359\n",
    "x3 = 52738737\n",
    "alpha = 11\n",
    "n = 603241"
   ]
  },
  {
   "cell_type": "markdown",
   "metadata": {},
   "source": [
    "Stim ca **n = p * q **, p si q sunt prime, iar p = 2p1 + 1, q = 2q1 + 1 unde p1, q1 sunt prime.\n",
    "De asemenea ord(alpha) = 2p1q1\n",
    "h(x1) = h(x2) = h(x3)\n",
    "\n",
    "**Solutie**\n",
    "Avem alpha ^ x1 = alpha ^ x2 => alpha ^ abs(x1 - x2) = 1\n",
    "La fel pentru (x2, x3) si (x1, x3)\n",
    "Dar daca alpha ^ abs(x1 - x2) = 1 => abs(x1 - x2) = k * 2p1q1\n",
    "Vom incerca astfel sa aflam gcd(abs(x1 - x2), abs(x2 - x3), abs(x1 - x3)). alpha ^ aceasta valoare va trebui sa fie egal cu 1.\n"
   ]
  },
  {
   "cell_type": "code",
   "execution_count": 7,
   "metadata": {
    "collapsed": false
   },
   "outputs": [
    {
     "name": "stdout",
     "output_type": "stream",
     "text": [
      "150421.0\n",
      "Verificare 1\n"
     ]
    }
   ],
   "source": [
    "y = gcd(abs(x1 - x2), abs(x2 - x3))\n",
    "y = gcd(y, abs(x1 - x3))\n",
    "print(y / 2)\n",
    "print(\"Verificare\", pow(alpha, y, n))"
   ]
  },
  {
   "cell_type": "markdown",
   "metadata": {},
   "source": [
    "n = p * q = (2p1 + 1) (2q1 + 1) = 603241 \n",
    "\n",
    "Deci vom avea 2(p1 + q1) = (n - 4p1q1 - 1) / 2"
   ]
  },
  {
   "cell_type": "code",
   "execution_count": 8,
   "metadata": {
    "collapsed": false
   },
   "outputs": [
    {
     "name": "stdout",
     "output_type": "stream",
     "text": [
      "778.0\n"
     ]
    }
   ],
   "source": [
    "z = (n - 2 * y - 1) / 2\n",
    "print(z)"
   ]
  },
  {
   "cell_type": "code",
   "execution_count": 17,
   "metadata": {
    "collapsed": false
   },
   "outputs": [
    {
     "name": "stdout",
     "output_type": "stream",
     "text": [
      "778.0\n",
      "150421.0\n",
      "This equation has two solutions:  359.0  or 419.0\n",
      "359 419\n",
      "True\n",
      "True\n",
      "True\n",
      "True\n"
     ]
    }
   ],
   "source": [
    "from lib.math import *\n",
    "\n",
    "# z = p1 + q1\n",
    "print(z)\n",
    "# y = 2 * p1 * q1\n",
    "print(y / 2)\n",
    "import math\n",
    "a, b = solve_quadratic(-1, z, - (y / 2))\n",
    "p1 = int(a)\n",
    "q1 = int(z - p1)\n",
    "print(p1, q1)\n",
    "# Checking the solution\n",
    "print(is_prime(p1))\n",
    "print(is_prime(2 * p1 + 1))\n",
    "# Checking q\n",
    "print(is_prime(q1))\n",
    "print(is_prime(2 * q1 + 1))\n",
    "# Testam\n",
    "assert(n == (2 * p1 + 1) * (2 * q1 + 1))\n"
   ]
  }
 ],
 "metadata": {
  "kernelspec": {
   "display_name": "Python 3",
   "language": "python",
   "name": "python3"
  },
  "language_info": {
   "codemirror_mode": {
    "name": "ipython",
    "version": 3
   },
   "file_extension": ".py",
   "mimetype": "text/x-python",
   "name": "python",
   "nbconvert_exporter": "python",
   "pygments_lexer": "ipython3",
   "version": "3.4.3"
  }
 },
 "nbformat": 4,
 "nbformat_minor": 0
}
