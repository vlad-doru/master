{
 "cells": [
  {
   "cell_type": "code",
   "execution_count": 34,
   "metadata": {
    "collapsed": true
   },
   "outputs": [],
   "source": [
    "# %load lib/math.py\n",
    "import fractions\n",
    "import itertools\n",
    "import math\n",
    "\n",
    "def gcd(a, b):\n",
    "    return fractions.gcd(a, b)\n",
    "\n",
    "def egcd(a, b):\n",
    "    if a == 0:\n",
    "        return (b, 0, 1)\n",
    "    else:\n",
    "        g, y, x = egcd(b % a, a)\n",
    "        return (g, x - (b // a) * y, y)\n",
    "\n",
    "# Find the modular inverse.\n",
    "def modinv(a, m):\n",
    "    a = a % m\n",
    "    g, x, y = egcd(a, m)\n",
    "    if g != 1:\n",
    "        raise Exception('modular inverse does not exist')\n",
    "    else:\n",
    "        return x % m\n",
    "\n",
    "def chinese_remainder(n, a):\n",
    "    sum = 0\n",
    "    prod = reduce(lambda a, b: a*b, n)\n",
    "\n",
    "    for n_i, a_i in zip(n, a):\n",
    "        p = prod / n_i\n",
    "        sum += a_i * modinv(p, n_i) * p\n",
    "        print(\"Termenul \", a_i, modinv(p, n_i), p)\n",
    "    return sum % prod\n",
    "\n",
    "def all_chinese_solutions(n, a):\n",
    "    print(itertools.product(a))\n",
    "\n",
    "def pow(a, b, m):\n",
    "    result = 1\n",
    "    pow_value = a\n",
    "    while b > 0:\n",
    "        if b & 1 :\n",
    "            result = (result * pow_value) % m\n",
    "        b = b >> 1\n",
    "        pow_value = (pow_value * pow_value) % m\n",
    "    return result\n",
    "\n",
    "def primes_sieve(limit):\n",
    "    limitn = limit+1\n",
    "    not_prime = set()\n",
    "    primes = []\n",
    "\n",
    "    for i in range(2, limitn):\n",
    "        if i in not_prime:\n",
    "            continue\n",
    "        for f in range(i*2, limitn, i):\n",
    "            not_prime.add(f)\n",
    "        primes.append(i)\n",
    "    return primes\n",
    "\n",
    "def fact(n):\n",
    "    return math.factorial(n)\n"
   ]
  },
  {
   "cell_type": "code",
   "execution_count": 39,
   "metadata": {
    "collapsed": false
   },
   "outputs": [],
   "source": [
    "def check_mignotte(s, k):\n",
    "    left = 1\n",
    "    right = 1\n",
    "    n = len(s)\n",
    "    for i in range(n - k + 1, n):\n",
    "        left *= s[i]\n",
    "    for i in range(0, k):\n",
    "        right *= s[i]\n",
    "    if left < right:\n",
    "        return True, left, right\n",
    "    else:\n",
    "        return False, left, right"
   ]
  },
  {
   "cell_type": "code",
   "execution_count": 40,
   "metadata": {
    "collapsed": false
   },
   "outputs": [
    {
     "name": "stdout",
     "output_type": "stream",
     "text": [
      "(2, (True, 19, 63))\n",
      "(3, (True, 323, 693))\n",
      "(4, (True, 4845, 8316))\n",
      "(5, (True, 62985, 108108))\n",
      "(6, (True, 755820, 1621620))\n",
      "(7, (True, 8314020, 27567540))\n",
      "(8, (True, 74826180, 523783260))\n"
     ]
    }
   ],
   "source": [
    "s = [7, 9, 11, 12, 13, 15, 17, 19]\n",
    "n = len(s)\n",
    "for k in range (2, n + 1):\n",
    "    print(k, check_mignotte(s, k))"
   ]
  },
  {
   "cell_type": "code",
   "execution_count": 45,
   "metadata": {
    "collapsed": false
   },
   "outputs": [
    {
     "name": "stdout",
     "output_type": "stream",
     "text": [
      "('Alpha', 4845)\n",
      "('Beta', 8316)\n",
      "('S = ', 1735)\n",
      "('Schema', [6, 7, 8, 7, 6, 10, 1, 6])\n",
      "('Termenul ', 6, 5, 2145)\n",
      "('Termenul ', 8, 1, 1365)\n",
      "('Termenul ', 6, 6, 1155)\n",
      "('Termenul ', 10, 11, 1001)\n",
      "1735\n"
     ]
    }
   ],
   "source": [
    "k = 4\n",
    "_, alpha, beta = check_mignotte(s, k)\n",
    "print(\"Alpha\", alpha)\n",
    "print(\"Beta\", beta)\n",
    "S = (beta - alpha) / 2\n",
    "print(\"S = \", S)\n",
    "\n",
    "schema = []\n",
    "for i in s:\n",
    "    schema.append(S % i)\n",
    "print(\"Schema\", schema)\n",
    "    \n",
    "# Decodare pentru participanti.\n",
    "participants = [0, 2, 4, 5]\n",
    "assert(len(participants) == k)\n",
    "Pi = []\n",
    "Si = []\n",
    "for participant in participants:\n",
    "    pi = s[participant]\n",
    "    si = S % pi\n",
    "    Pi.append(pi)\n",
    "    Si.append(si)\n",
    "print(chinese_remainder(Pi, Si))"
   ]
  }
 ],
 "metadata": {
  "kernelspec": {
   "display_name": "Python 2",
   "language": "python",
   "name": "python2"
  },
  "language_info": {
   "codemirror_mode": {
    "name": "ipython",
    "version": 2
   },
   "file_extension": ".py",
   "mimetype": "text/x-python",
   "name": "python",
   "nbconvert_exporter": "python",
   "pygments_lexer": "ipython2",
   "version": "2.7.11"
  }
 },
 "nbformat": 4,
 "nbformat_minor": 0
}
