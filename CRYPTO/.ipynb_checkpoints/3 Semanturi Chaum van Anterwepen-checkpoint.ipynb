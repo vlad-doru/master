{
 "cells": [
  {
   "cell_type": "code",
   "execution_count": 1,
   "metadata": {
    "collapsed": true
   },
   "outputs": [],
   "source": [
    "from lib.math import *"
   ]
  },
  {
   "cell_type": "code",
   "execution_count": 5,
   "metadata": {
    "collapsed": true
   },
   "outputs": [],
   "source": [
    "p = 467\n",
    "q = int((p - 1) / 2)\n",
    "alpha = 4\n",
    "a = 101\n",
    "beta = 449\n",
    "y = 25\n",
    "x = 157\n",
    "e1 = 46\n",
    "e2 = 123\n",
    "f1 = 198\n",
    "f2 = 11\n"
   ]
  },
  {
   "cell_type": "code",
   "execution_count": 7,
   "metadata": {
    "collapsed": false
   },
   "outputs": [
    {
     "name": "stdout",
     "output_type": "stream",
     "text": [
      "c = 40 * 7 mod p => c = 280\n",
      "a^ -1 (mod q) 30\n",
      "d =  193\n",
      "COMPARISON 1 193 22\n",
      "C = 141 * 434 mod p => C = 17\n",
      "D =  21\n",
      "Alpha inv 117\n",
      "d * pow(alpha_inv, e2, p) 85499\n",
      "Termenul din stanga 137\n",
      "D * pow(alpha_inv, f2, p) 7203\n",
      "Termenul din drepata 137\n",
      "Semantura este falsa\n"
     ]
    }
   ],
   "source": [
    "## DEZIMINTIRE\n",
    "from random import randint\n",
    "\n",
    "c = (pow(y, e1, p) * pow(beta, e2, p)) % p\n",
    "print(\"c = {0} * {1} mod p => c = {2}\".format(pow(y, e1, p), pow(beta, e2, p), c))\n",
    "a_inv = modinv(a, q)\n",
    "print(\"a^ -1 (mod q)\", a_inv)\n",
    "d = pow(c, a_inv, p)\n",
    "print(\"d = \", d)\n",
    "\n",
    "check1 = (pow(x, e1, p) * pow(alpha, e2, p)) % p\n",
    "print(\"COMPARISON 1\", d, check1)\n",
    "if d == check1:\n",
    "    print(\"Trebuie alese alte numere aleatoare\")\n",
    "C = (pow(y, f1, p) * pow(beta, f2, p)) % p\n",
    "print(\"C = {0} * {1} mod p => C = {2}\".format(pow(y, f1, p), pow(beta, f2, p), C))\n",
    "D = pow(C, a_inv, p)\n",
    "print(\"D = \", D)\n",
    "check2 = (pow(x, f1, p) * pow(alpha, f2, p)) % p\n",
    "if D == check2:\n",
    "    print(\"Trebuie alese alte numere aleatoare\")\n",
    "    \n",
    "# Final check\n",
    "alpha_inv = modinv(alpha, p)\n",
    "print(\"Alpha inv\", alpha_inv)\n",
    "left = d * pow(alpha_inv, e2, p) \n",
    "print(\"d * pow(alpha_inv, e2, p)\", left)\n",
    "left = pow(left, f1, p)\n",
    "print(\"Termenul din stanga\", left)\n",
    "right =  D * pow(alpha_inv, f2, p)\n",
    "print(\"D * pow(alpha_inv, f2, p)\", right)\n",
    "right = pow(right, e1, p)\n",
    "print(\"Termenul din drepata\", right)\n",
    "\n",
    "if left == right:\n",
    "    print(\"Semantura este falsa\")"
   ]
  },
  {
   "cell_type": "code",
   "execution_count": null,
   "metadata": {
    "collapsed": true
   },
   "outputs": [],
   "source": []
  }
 ],
 "metadata": {
  "kernelspec": {
   "display_name": "Python 3",
   "language": "python",
   "name": "python3"
  },
  "language_info": {
   "codemirror_mode": {
    "name": "ipython",
    "version": 3
   },
   "file_extension": ".py",
   "mimetype": "text/x-python",
   "name": "python",
   "nbconvert_exporter": "python",
   "pygments_lexer": "ipython3",
   "version": "3.4.3"
  }
 },
 "nbformat": 4,
 "nbformat_minor": 0
}
