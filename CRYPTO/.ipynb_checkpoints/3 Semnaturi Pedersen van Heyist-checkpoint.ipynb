{
 "cells": [
  {
   "cell_type": "code",
   "execution_count": 1,
   "metadata": {
    "collapsed": true
   },
   "outputs": [],
   "source": [
    "from lib.math import *"
   ]
  },
  {
   "cell_type": "code",
   "execution_count": 5,
   "metadata": {
    "collapsed": true
   },
   "outputs": [],
   "source": [
    "# Publice pentru toti\n",
    "p = 3467\n",
    "alpha = 4\n",
    "q = int((p - 1) / 2)\n",
    "beta = 514\n",
    "# Generata de arbitru si secreta pentru toata lumea.\n",
    "a0 = 1567\n"
   ]
  },
  {
   "cell_type": "code",
   "execution_count": 7,
   "metadata": {
    "collapsed": true
   },
   "outputs": [],
   "source": [
    "### Exercitiul 3.11. \n",
    "\n",
    "# Punctul 1 : Determinam toate cheile folsind-une de a0.\n",
    "x, y1, y2 = 42, 1118, 1449\n",
    "# Habar n-am cum s-ar face asta"
   ]
  },
  {
   "cell_type": "code",
   "execution_count": 22,
   "metadata": {
    "collapsed": false
   },
   "outputs": [
    {
     "name": "stdout",
     "output_type": "stream",
     "text": [
      "1313 1357\n",
      "753 1502\n",
      "1235 2112\n"
     ]
    }
   ],
   "source": [
    "# Punctul 2 : Fara sa folosim a0\n",
    "x, y1, y2 = 42, 1118, 1449\n",
    "xprim, y1prim, y2prim = 969, 899, 471\n",
    "# y1 = a1 + x * b1 mod q\n",
    "# y2 = a2 + x * b2 mod q\n",
    "\n",
    "# b1 = (y1 - y1prim) * (x - xprim) ^ -1\n",
    "b1 = (((y1 - y1prim) % q) * modinv((x - xprim) % q, q)) % q\n",
    "# a1 = y1 - x * b1\n",
    "a1 = (y1 - ((x * b1)) % q) % q\n",
    "print(a1, b1)\n",
    "assert((a1 + b1 * x) % q == y1)\n",
    "assert((a1 + b1 * xprim) % q == y1prim)\n",
    "\n",
    "# b2 = (y2 - y2prim) * (x - xprim) ^ -1\n",
    "b2 = (((y2 - y2prim) % q) * modinv((x - xprim) % q, q)) % q\n",
    "# a2 = y2 - x * b2\n",
    "a2 = (y2 - ((x * b2)) % q) % q\n",
    "print(a2, b2)\n",
    "assert((a2 + b2 * x) % q == y2)\n",
    "assert((a2 + b2 * xprim) % q == y2prim)\n",
    "\n",
    "gamma1 = (pow(alpha, a1, p) * pow(beta, a2, p)) % p\n",
    "gamma2 = (pow(alpha, b1, p) * pow(beta, b2, p)) % p\n",
    "print(gamma1, gamma2)\n"
   ]
  },
  {
   "cell_type": "code",
   "execution_count": 49,
   "metadata": {
    "collapsed": false
   },
   "outputs": [
    {
     "name": "stdout",
     "output_type": "stream",
     "text": [
      "True\n",
      "Semnatura autentica a lui A 917 1983\n",
      "True\n",
      "A a calculat a0 ca fiind 2187\n",
      "alpha ^ ao_A 1866\n",
      "A a putut calcula logaritmul discret => semantura e falsa\n"
     ]
    }
   ],
   "source": [
    "### Exerctiul 3.12\n",
    "p = 5087\n",
    "q = int((p - 1) / 2)\n",
    "alpha = 25 \n",
    "beta = 1866\n",
    "gamma1, gamma2, a1, a2, b1, b2 = (5065, 5076, 144, 874, 1873, 2345)\n",
    "\n",
    "x, y1fake, y2fake = 4785, 2219, 458\n",
    "\n",
    "def checkPedersen(p, alpha, beta, gamma1, gamma2, x, y1, y2):\n",
    "    return (gamma1 * pow(gamma2, x, p)) % p == (pow(alpha, y1, p) * pow(beta, y2, p)) % p\n",
    "\n",
    "print(checkPedersen(p, alpha, beta, gamma1, gamma2, x, y1fake, y2fake))\n",
    "\n",
    "y1 = (a1 + x * b1) % q\n",
    "y2 = (a2 + x * b2) % q\n",
    "print(\"Semnatura autentica a lui A\", y1, y2)\n",
    "print(checkPedersen(p, alpha, beta, gamma1, gamma2, x, y1, y2))\n",
    "\n",
    "# A va calcula a0 pentru a arata ca smenatura intiala e contrafacuta\n",
    "a0_A = ((y1fake - y1) * modinv(y2 - y2fake, q)) % q\n",
    "print(\"A a calculat a0 ca fiind\", a0_A)\n",
    "print(\"alpha ^ ao_A\", pow(alpha, a0_A, p))\n",
    "if (pow(alpha, a0_A, p) == beta):\n",
    "    print(\"A a putut calcula logaritmul discret => semantura e falsa\")"
   ]
  }
 ],
 "metadata": {
  "kernelspec": {
   "display_name": "Python 3",
   "language": "python",
   "name": "python3"
  },
  "language_info": {
   "codemirror_mode": {
    "name": "ipython",
    "version": 3
   },
   "file_extension": ".py",
   "mimetype": "text/x-python",
   "name": "python",
   "nbconvert_exporter": "python",
   "pygments_lexer": "ipython3",
   "version": "3.4.3"
  }
 },
 "nbformat": 4,
 "nbformat_minor": 0
}
