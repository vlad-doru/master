{
 "cells": [
  {
   "cell_type": "code",
   "execution_count": 3,
   "metadata": {
    "collapsed": false
   },
   "outputs": [],
   "source": [
    "# %load lib/math.py\n",
    "import fractions\n",
    "import itertools\n",
    "\n",
    "def gcd(a, b):\n",
    "    return fractions.gcd(a, b)\n",
    "\n",
    "def egcd(a, b):\n",
    "    if a == 0:\n",
    "        return (b, 0, 1)\n",
    "    else:\n",
    "        g, y, x = egcd(b % a, a)\n",
    "        return (g, x - (b // a) * y, y)\n",
    "\n",
    "# Find the modular inverse.\n",
    "def modinv(a, m):\n",
    "    a = a % m\n",
    "    g, x, y = egcd(a, m)\n",
    "    if g != 1:\n",
    "        raise Exception('modular inverse does not exist')\n",
    "    else:\n",
    "        return x % m\n",
    "\n",
    "def chinese_remainder(n, a):\n",
    "    sum = 0\n",
    "    prod = reduce(lambda a, b: a*b, n)\n",
    "\n",
    "    for n_i, a_i in zip(n, a):\n",
    "        p = prod / n_i\n",
    "        sum += a_i * modinv(p, n_i) * p\n",
    "        print(\"Termenul \", a_i, modinv(p, n_i), p)\n",
    "    return sum % prod\n",
    "\n",
    "def all_chinese_solutions(n, a):\n",
    "    sols = []\n",
    "    for l in list(itertools.product(*a)):\n",
    "        print(\"Pentru sistemul:\", l)\n",
    "        c = chinese_remainder(n, l)\n",
    "        print(\"Solutia fiind:\", c)\n",
    "        sols.append(c)\n",
    "    return sorted(sols)\n",
    "\n",
    "def pow(a, b, m):\n",
    "    result = 1\n",
    "    pow_value = a\n",
    "    while b > 0:\n",
    "        if b & 1 :\n",
    "            result = (result * pow_value) % m\n",
    "        b = b >> 1\n",
    "        pow_value = (pow_value * pow_value) % m\n",
    "    return result\n",
    "\n",
    "def primes_sieve(limit):\n",
    "    limitn = limit+1\n",
    "    not_prime = set()\n",
    "    primes = []\n",
    "\n",
    "    for i in range(2, limitn):\n",
    "        if i in not_prime:\n",
    "            continue\n",
    "        for f in range(i*2, limitn, i):\n",
    "            not_prime.add(f)\n",
    "        primes.append(i)\n",
    "    return primes\n"
   ]
  },
  {
   "cell_type": "markdown",
   "metadata": {},
   "source": [
    "### Exercitiul 4"
   ]
  },
  {
   "cell_type": "code",
   "execution_count": 5,
   "metadata": {
    "collapsed": false
   },
   "outputs": [
    {
     "name": "stdout",
     "output_type": "stream",
     "text": [
      "(14, 14, True)\n",
      "Autentic\n",
      "('Mesajul este', 266)\n",
      "(11, 0, False)\n",
      "(8, 8, True)\n",
      "Autentic\n",
      "('Mesajul este', 80)\n"
     ]
    }
   ],
   "source": [
    "n = 21\n",
    "k = 5\n",
    "triples =[(14, 12, 11), (11, 1, 5), (8, 18, 5)]\n",
    "for x, alpha, beta in triples:\n",
    "    xprime = (alpha * alpha - (beta * beta) * modinv(k * k, n)) % n\n",
    "    print(x, xprime, x == xprime)\n",
    "    if (x == xprime):\n",
    "        print(\"Autentic\")\n",
    "        y = x * modinv(alpha + beta * modinv(k, n), n)\n",
    "        print(\"Mesajul este\", y)"
   ]
  }
 ],
 "metadata": {
  "kernelspec": {
   "display_name": "Python 2",
   "language": "python",
   "name": "python2"
  },
  "language_info": {
   "codemirror_mode": {
    "name": "ipython",
    "version": 2
   },
   "file_extension": ".py",
   "mimetype": "text/x-python",
   "name": "python",
   "nbconvert_exporter": "python",
   "pygments_lexer": "ipython2",
   "version": "2.7.9"
  }
 },
 "nbformat": 4,
 "nbformat_minor": 0
}
