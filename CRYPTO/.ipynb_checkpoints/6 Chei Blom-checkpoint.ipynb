{
 "cells": [
  {
   "cell_type": "code",
   "execution_count": 18,
   "metadata": {
    "collapsed": false
   },
   "outputs": [],
   "source": [
    "p = 7873\n",
    "r = {\n",
    "    'A': 2365,\n",
    "    'B': 6648,\n",
    "    'C': 1837,\n",
    "    'D': 2186,\n",
    "} "
   ]
  },
  {
   "cell_type": "code",
   "execution_count": 32,
   "metadata": {
    "collapsed": false
   },
   "outputs": [],
   "source": [
    "polys = {\n",
    "    'A': (6018, 6351),\n",
    "    'B': (3749, 7121),\n",
    "    'C': (7601, 7802),\n",
    "    'D': (635, 6828), \n",
    "}   \n",
    "\n",
    "for i, coeffs in polys.items():\n",
    "    g[i] = lambda x, coeffs = coeffs: coeffs[0] + (coeffs[1] * x)"
   ]
  },
  {
   "cell_type": "code",
   "execution_count": 30,
   "metadata": {
    "collapsed": false
   },
   "outputs": [
    {
     "name": "stdout",
     "output_type": "stream",
     "text": [
      "Key A-B : 4567\n",
      "Key A-C : 5019\n",
      "Key A-D : 1332\n",
      "Key B-C : 100\n",
      "Key B-D : 5334\n",
      "Key C-D : 1982\n"
     ]
    }
   ],
   "source": [
    "def computeKey(x, y):\n",
    "    kxy = g[x](r[y]) % p\n",
    "    kyx = g[y](r[x]) % p \n",
    "    assert(kyx == kxy)\n",
    "    print(\"Key {0}-{1} : {2}\".format(x, y, kxy))\n",
    "    \n",
    "from itertools import combinations\n",
    "\n",
    "for x, y in combinations(['A', 'B', 'C', 'D'], 2):\n",
    "    computeKey(x, y)\n",
    "    "
   ]
  },
  {
   "cell_type": "code",
   "execution_count": 4,
   "metadata": {
    "collapsed": true
   },
   "outputs": [],
   "source": [
    "from lib.math import *\n"
   ]
  },
  {
   "cell_type": "code",
   "execution_count": 5,
   "metadata": {
    "collapsed": false
   },
   "outputs": [
    {
     "name": "stdout",
     "output_type": "stream",
     "text": [
      "Polynom: 1135 + 2845 * (rA +rB) + 877 * rArB\n",
      "Key A-B : 4567\n",
      "Key A-C : 5019\n",
      "Key A-D : 1332\n",
      "Key B-C : 100\n",
      "Key B-D : 5334\n",
      "Key C-D : 1982\n"
     ]
    }
   ],
   "source": [
    "# Decode by using an alliance of 2.\n",
    "def decode(x, y):\n",
    "    ax, bx = polys[x]\n",
    "    ay, by = polys[y]\n",
    "    rx = r[x]\n",
    "    ry = r[y]\n",
    "    b = ((ax - ay) * modinv(rx - ry, p)) % p\n",
    "    a = (ax - b * rx) % p\n",
    "    c = ((bx - b) * modinv(rx, p)) % p\n",
    "    print(\"Polynom: {0} + {1} * (rA +rB) + {2} * rArB\".format(a, b, c))\n",
    "    return lambda x, y : (a + b * (x + y) + c * x * y) % p\n",
    "\n",
    "poly = decode('C', 'D')\n",
    "for x, y in combinations(['A', 'B', 'C', 'D'], 2):\n",
    "    print(\"Key {0}-{1} : {2}\".format(x, y, poly(r[x], r[y])))"
   ]
  },
  {
   "cell_type": "code",
   "execution_count": null,
   "metadata": {
    "collapsed": true
   },
   "outputs": [],
   "source": []
  }
 ],
 "metadata": {
  "kernelspec": {
   "display_name": "Python 3",
   "language": "python",
   "name": "python3"
  },
  "language_info": {
   "codemirror_mode": {
    "name": "ipython",
    "version": 3
   },
   "file_extension": ".py",
   "mimetype": "text/x-python",
   "name": "python",
   "nbconvert_exporter": "python",
   "pygments_lexer": "ipython3",
   "version": "3.4.3"
  }
 },
 "nbformat": 4,
 "nbformat_minor": 0
}
