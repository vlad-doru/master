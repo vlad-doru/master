{
 "cells": [
  {
   "cell_type": "code",
   "execution_count": 103,
   "metadata": {
    "collapsed": true
   },
   "outputs": [],
   "source": [
    "# %load lib/math.py\n",
    "import fractions\n",
    "\n",
    "def gcd(a, b):\n",
    "    return fractions.gcd(a, b)\n",
    "\n",
    "def egcd(a, b):\n",
    "    if a == 0:\n",
    "        return (b, 0, 1)\n",
    "    else:\n",
    "        g, y, x = egcd(b % a, a)\n",
    "        return (g, x - (b // a) * y, y)\n",
    "\n",
    "# Find the modular inverse.\n",
    "def modinv(a, m):\n",
    "    a = a % m\n",
    "    g, x, y = egcd(a, m)\n",
    "    if g != 1:\n",
    "        raise Exception('modular inverse does not exist')\n",
    "    else:\n",
    "        return x % m\n",
    "\n",
    "def pow(a, b, m):\n",
    "    result = 1\n",
    "    pow_value = a\n",
    "    while b > 0:\n",
    "        if b & 1 :\n",
    "            result = (result * pow_value) % m\n",
    "        b = b >> 1\n",
    "        pow_value = (pow_value * pow_value) % m\n",
    "    return result\n",
    "\n",
    "def primes_sieve(limit):\n",
    "    limitn = limit+1\n",
    "    not_prime = set()\n",
    "    primes = []\n",
    "\n",
    "    for i in range(2, limitn):\n",
    "        if i in not_prime:\n",
    "            continue\n",
    "        for f in range(i*2, limitn, i):\n",
    "            not_prime.add(f)\n",
    "        primes.append(i)\n",
    "    return primes\n"
   ]
  },
  {
   "cell_type": "markdown",
   "metadata": {},
   "source": [
    "### Exercitiul 1\n",
    "\n",
    "a) Calculati"
   ]
  },
  {
   "cell_type": "code",
   "execution_count": 104,
   "metadata": {
    "collapsed": false
   },
   "outputs": [],
   "source": [
    "def h(x, n): \n",
    "    result = 0\n",
    "    for i in x:\n",
    "        result += i\n",
    "        result %= n\n",
    "    return result"
   ]
  },
  {
   "cell_type": "code",
   "execution_count": 105,
   "metadata": {
    "collapsed": false
   },
   "outputs": [
    {
     "name": "stdout",
     "output_type": "stream",
     "text": [
      "814\n"
     ]
    }
   ],
   "source": [
    "m = [189, 632, 900, 722, 349]\n",
    "n = 989\n",
    "print(h(m, n))"
   ]
  },
  {
   "cell_type": "markdown",
   "metadata": {},
   "source": [
    "b) Coliziuni sunt usor de gasit: (x1, x2) si (x2, x1)"
   ]
  },
  {
   "cell_type": "markdown",
   "metadata": {},
   "source": [
    "### Exercitiul 2\n",
    "\n",
    "Calculati logaritmul pt o coliziune a functii de hash van chaum"
   ]
  },
  {
   "cell_type": "code",
   "execution_count": 106,
   "metadata": {
    "collapsed": false
   },
   "outputs": [],
   "source": [
    "# %load hash_chaum_van.py\n",
    "\n",
    "def check(p, alpha, beta, log_value):\n",
    "    check = 1\n",
    "    for i in range(0, log_value):\n",
    "        check = check * alpha\n",
    "        check = check % p\n",
    "    if (check == beta):\n",
    "        print(\"Raspunsul {0} verifica!!!!\".format(log_value))\n",
    "\n",
    "def calculate_log(p, alpha, beta, x1, x2, x3, x4):\n",
    "    print(\"Incepem rezolvarea:\")\n",
    "    print(\"----------------------\")\n",
    "    q = (p - 1)/2\n",
    "    print(\"q = \", q)\n",
    "    print(\"Calculam d = (x4 - x2, p - 1)\")\n",
    "    d = math.gcd(x4 - x2, p - 1)\n",
    "    print(\"d = {0}\".format(d))\n",
    "    if (d == 1):\n",
    "        print(\"Calculam y = (x4 - x2)^-1(mod p - 1)\")\n",
    "        y = math.modinv(x4 - x2, p - 1)\n",
    "        print(\"y = {0}\".format(y))\n",
    "        print(\"Calculam log_alpha(beta) = (x1 - x3) * y (mod p - 1)\")\n",
    "        log_value = ((x1 - x3) * y) % (p - 1)\n",
    "        print(\"Verificam logaritmului: {0}\".format(log_value))\n",
    "        checl(alpha, beta, log_value)\n",
    "    elif (d == 2):\n",
    "        print(\"Calculam y = (x4 - x2)^-1(mod q)\")\n",
    "        y = math.modinv(x4 - x2, q)\n",
    "        print(\"y = {0}\".format(y))\n",
    "        print(\"Calculam posibilitatea 1 pt log_alpha(beta) = (x1 - x3) * y (mod p - 1)\")\n",
    "        log_value = ((x1 - x3) * y) % (p - 1)\n",
    "        print(\"Verficam posibilitatea 1 pentru log_alpha(beta)\", log_value)\n",
    "        check(p, alpha, beta, log_value)\n",
    "        print(\"Calculam posibilitatea 1 pt log_alpha(beta) = (x1 - x3) * y  + q (mod p - 1)\")\n",
    "        log_value = (log_value + q) % (p - 1)\n",
    "        print(\"Verficam posibilitatea 2 pentru log_alpha(beta)\", log_value)\n",
    "        check(p, alpha, beta, log_value)\n",
    "    else:\n",
    "        print (\"Ceva e gresit, d poate fi doar 1 sau 2\")\n"
   ]
  },
  {
   "cell_type": "code",
   "execution_count": 107,
   "metadata": {
    "collapsed": false,
    "scrolled": true
   },
   "outputs": [
    {
     "name": "stdout",
     "output_type": "stream",
     "text": [
      "Incepem rezolvarea:\n",
      "----------------------\n",
      "('q = ', 7541)\n",
      "Calculam d = (x4 - x2, p - 1)\n",
      "d = 2\n",
      "Calculam y = (x4 - x2)^-1(mod q)\n",
      "y = 4680\n",
      "Calculam posibilitatea 1 pt log_alpha(beta) = (x1 - x3) * y (mod p - 1)\n",
      "('Verficam posibilitatea 1 pentru log_alpha(beta)', 2014)\n",
      "Calculam posibilitatea 1 pt log_alpha(beta) = (x1 - x3) * y  + q (mod p - 1)\n",
      "('Verficam posibilitatea 2 pentru log_alpha(beta)', 9555)\n",
      "Raspunsul 9555 verifica!!!!\n"
     ]
    }
   ],
   "source": [
    "calculate_log(p = 15083, alpha = 154, beta = 2307, x1 = 7431, x2 = 5564, x3 = 1459, x4 = 954)"
   ]
  },
  {
   "cell_type": "markdown",
   "metadata": {},
   "source": [
    "### Exercitiul 3\n",
    "\n",
    "Avem urmatoarele date:"
   ]
  },
  {
   "cell_type": "code",
   "execution_count": 108,
   "metadata": {
    "collapsed": true
   },
   "outputs": [],
   "source": [
    "x1 = 1294755\n",
    "x2 = 80115359\n",
    "x3 = 52738737\n",
    "alpha = 11\n",
    "n = 603241"
   ]
  },
  {
   "cell_type": "markdown",
   "metadata": {},
   "source": [
    "Stim ca **n = p * q **, p si q sunt prime, iar p = 2p1 + 1, q = 2q1 + 1 unde p1, q1 sunt prime.\n",
    "De asemenea ord(alpha) = 2p1q1\n",
    "h(x1) = h(x2) = h(x3)\n",
    "\n",
    "**Solutie**\n",
    "Avem alpha ^ x1 = alpha ^ x2 => alpha ^ abs(x1 - x2) = 1\n",
    "La fel pentru (x2, x3) si (x1, x3)\n",
    "Dar daca alpha ^ abs(x1 - x2) = 1 => abs(x1 - x2) = k * 2p1q1\n",
    "Vom incerca astfel sa aflam gcd(abs(x1 - x2), abs(x2 - x3), abs(x1 - x3)). alpha ^ aceasta valoare va trebui sa fie egal cu 1.\n"
   ]
  },
  {
   "cell_type": "code",
   "execution_count": 109,
   "metadata": {
    "collapsed": false
   },
   "outputs": [
    {
     "name": "stdout",
     "output_type": "stream",
     "text": [
      "150421\n",
      "('Verificare', 1)\n"
     ]
    }
   ],
   "source": [
    "y = gcd(abs(x1 - x2), abs(x2 - x3))\n",
    "y = gcd(y, abs(x1 - x3))\n",
    "print(y / 2)\n",
    "print(\"Verificare\", pow(alpha, y, n))"
   ]
  },
  {
   "cell_type": "markdown",
   "metadata": {},
   "source": [
    "n = p * q = (2p1 + 1) (2q1 + 1) = 603241 \n",
    "\n",
    "Deci vom avea 2(p1 + q1) = (n - 4p1q1 - 1) / 2"
   ]
  },
  {
   "cell_type": "code",
   "execution_count": 110,
   "metadata": {
    "collapsed": false
   },
   "outputs": [
    {
     "name": "stdout",
     "output_type": "stream",
     "text": [
      "778\n"
     ]
    }
   ],
   "source": [
    "z = (n - 2 * y - 1) / 2\n",
    "print(z)"
   ]
  },
  {
   "cell_type": "code",
   "execution_count": 114,
   "metadata": {
    "collapsed": false
   },
   "outputs": [
    {
     "name": "stdout",
     "output_type": "stream",
     "text": [
      "(719, 839, 603241, 603241)\n"
     ]
    }
   ],
   "source": [
    "# Facem ciurul si incercam sa vedem daca p1, q1 prime si p1 + q1 = 778\n",
    "sieve = primes_sieve(z + 1)\n",
    "for i in range(2, z):\n",
    "    p1 = i\n",
    "    q1 = z - i\n",
    "    if (p1 in sieve) and (q1 in sieve):\n",
    "        # Check if the factorization works.\n",
    "        p = 2 * p1 + 1\n",
    "        q = 2 * q1 + 1\n",
    "        if p * q == n :\n",
    "            print(p, q, n, p * q)\n",
    "            break"
   ]
  }
 ],
 "metadata": {
  "kernelspec": {
   "display_name": "Python 2",
   "language": "python",
   "name": "python2"
  },
  "language_info": {
   "codemirror_mode": {
    "name": "ipython",
    "version": 2
   },
   "file_extension": ".py",
   "mimetype": "text/x-python",
   "name": "python",
   "nbconvert_exporter": "python",
   "pygments_lexer": "ipython2",
   "version": "2.7.9"
  }
 },
 "nbformat": 4,
 "nbformat_minor": 0
}
