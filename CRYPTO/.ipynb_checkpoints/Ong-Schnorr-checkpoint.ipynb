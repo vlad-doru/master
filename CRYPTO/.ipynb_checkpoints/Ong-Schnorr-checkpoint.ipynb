{
 "cells": [
  {
   "cell_type": "code",
   "execution_count": 24,
   "metadata": {
    "collapsed": false
   },
   "outputs": [],
   "source": [
    "# %load lib/math.py\n",
    "import fractions\n",
    "import itertools\n",
    "\n",
    "def gcd(a, b):\n",
    "    return fractions.gcd(a, b)\n",
    "\n",
    "def egcd(a, b):\n",
    "    if a == 0:\n",
    "        return (b, 0, 1)\n",
    "    else:\n",
    "        g, y, x = egcd(b % a, a)\n",
    "        return (g, x - (b // a) * y, y)\n",
    "\n",
    "# Find the modular inverse.\n",
    "def modinv(a, m):\n",
    "    a = a % m\n",
    "    g, x, y = egcd(a, m)\n",
    "    if g != 1:\n",
    "        raise Exception('modular inverse does not exist')\n",
    "    else:\n",
    "        return x % m\n",
    "\n",
    "def chinese_remainder(n, a):\n",
    "    sum = 0\n",
    "    prod = reduce(lambda a, b: a*b, n)\n",
    "\n",
    "    for n_i, a_i in zip(n, a):\n",
    "        p = prod / n_i\n",
    "        sum += a_i * modinv(p, n_i) * p\n",
    "        print(\"Termenul \", a_i, modinv(p, n_i), p)\n",
    "    return sum % prod\n",
    "\n",
    "def all_chinese_solutions(n, a):\n",
    "    sols = []\n",
    "    for l in list(itertools.product(*a)):\n",
    "        print(\"Pentru sistemul:\", l)\n",
    "        c = chinese_remainder(n, l)\n",
    "        print(\"Solutia fiind:\", c)\n",
    "        sols.append(c)\n",
    "    return sorted(sols)\n",
    "\n",
    "def pow(a, b, m):\n",
    "    result = 1\n",
    "    pow_value = a\n",
    "    while b > 0:\n",
    "        if b & 1 :\n",
    "            result = (result * pow_value) % m\n",
    "        b = b >> 1\n",
    "        pow_value = (pow_value * pow_value) % m\n",
    "    return result\n",
    "\n",
    "def primes_sieve(limit):\n",
    "    limitn = limit+1\n",
    "    not_prime = set()\n",
    "    primes = []\n",
    "\n",
    "    for i in range(2, limitn):\n",
    "        if i in not_prime:\n",
    "            continue\n",
    "        for f in range(i*2, limitn, i):\n",
    "            not_prime.add(f)\n",
    "        primes.append(i)\n",
    "    return primes\n"
   ]
  },
  {
   "cell_type": "markdown",
   "metadata": {},
   "source": [
    "### Exercitiul 3"
   ]
  },
  {
   "cell_type": "code",
   "execution_count": 22,
   "metadata": {
    "collapsed": true
   },
   "outputs": [],
   "source": [
    "p = 5\n",
    "q = 7\n",
    "r = 11\n",
    "\n",
    "c = 256"
   ]
  },
  {
   "cell_type": "code",
   "execution_count": 25,
   "metadata": {
    "collapsed": false
   },
   "outputs": [
    {
     "name": "stdout",
     "output_type": "stream",
     "text": [
      "('Pentru sistemul:', (1, 2, 5))\n",
      "('Termenul ', 1, 3, 77)\n",
      "('Termenul ', 2, 6, 55)\n",
      "('Termenul ', 5, 6, 35)\n",
      "('Solutia fiind:', 16)\n",
      "('Pentru sistemul:', (1, 2, 6))\n",
      "('Termenul ', 1, 3, 77)\n",
      "('Termenul ', 2, 6, 55)\n",
      "('Termenul ', 6, 6, 35)\n",
      "('Solutia fiind:', 226)\n",
      "('Pentru sistemul:', (1, 5, 5))\n",
      "('Termenul ', 1, 3, 77)\n",
      "('Termenul ', 5, 6, 55)\n",
      "('Termenul ', 5, 6, 35)\n",
      "('Solutia fiind:', 236)\n",
      "('Pentru sistemul:', (1, 5, 6))\n",
      "('Termenul ', 1, 3, 77)\n",
      "('Termenul ', 5, 6, 55)\n",
      "('Termenul ', 6, 6, 35)\n",
      "('Solutia fiind:', 61)\n",
      "('Pentru sistemul:', (4, 2, 5))\n",
      "('Termenul ', 4, 3, 77)\n",
      "('Termenul ', 2, 6, 55)\n",
      "('Termenul ', 5, 6, 35)\n",
      "('Solutia fiind:', 324)\n",
      "('Pentru sistemul:', (4, 2, 6))\n",
      "('Termenul ', 4, 3, 77)\n",
      "('Termenul ', 2, 6, 55)\n",
      "('Termenul ', 6, 6, 35)\n",
      "('Solutia fiind:', 149)\n",
      "('Pentru sistemul:', (4, 5, 5))\n",
      "('Termenul ', 4, 3, 77)\n",
      "('Termenul ', 5, 6, 55)\n",
      "('Termenul ', 5, 6, 35)\n",
      "('Solutia fiind:', 159)\n",
      "('Pentru sistemul:', (4, 5, 6))\n",
      "('Termenul ', 4, 3, 77)\n",
      "('Termenul ', 5, 6, 55)\n",
      "('Termenul ', 6, 6, 35)\n",
      "('Solutia fiind:', 369)\n"
     ]
    },
    {
     "data": {
      "text/plain": [
       "[16, 61, 149, 159, 226, 236, 324, 369]"
      ]
     },
     "execution_count": 25,
     "metadata": {},
     "output_type": "execute_result"
    }
   ],
   "source": [
    "all_chinese_solutions([5, 7, 11], [[1, 4], [2, 5], [5, 6]])"
   ]
  }
 ],
 "metadata": {
  "kernelspec": {
   "display_name": "Python 2",
   "language": "python",
   "name": "python2"
  },
  "language_info": {
   "codemirror_mode": {
    "name": "ipython",
    "version": 2
   },
   "file_extension": ".py",
   "mimetype": "text/x-python",
   "name": "python",
   "nbconvert_exporter": "python",
   "pygments_lexer": "ipython2",
   "version": "2.7.9"
  }
 },
 "nbformat": 4,
 "nbformat_minor": 0
}
