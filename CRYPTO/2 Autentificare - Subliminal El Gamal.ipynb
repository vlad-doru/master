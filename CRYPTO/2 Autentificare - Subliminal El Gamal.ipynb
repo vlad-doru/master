{
 "cells": [
  {
   "cell_type": "code",
   "execution_count": 1,
   "metadata": {
    "collapsed": false
   },
   "outputs": [],
   "source": [
    "from lib.math import *"
   ]
  },
  {
   "cell_type": "markdown",
   "metadata": {},
   "source": [
    "### Exercitiul 5\n",
    "\n",
    "Sa se determine beta si gamma"
   ]
  },
  {
   "cell_type": "code",
   "execution_count": 5,
   "metadata": {
    "collapsed": false
   },
   "outputs": [],
   "source": [
    "q = 13\n",
    "alpha = 6\n",
    "y = 9 \n",
    "x = 11\n",
    "p = 10"
   ]
  },
  {
   "cell_type": "code",
   "execution_count": 13,
   "metadata": {
    "collapsed": false
   },
   "outputs": [
    {
     "name": "stdout",
     "output_type": "stream",
     "text": [
      "('Beta', 5)\n",
      "(11, 50, 9)\n",
      "('Gamma', 1)\n"
     ]
    }
   ],
   "source": [
    "beta = pow(alpha, y, q)\n",
    "print (\"Beta\", beta)\n",
    "gamma = None\n",
    "\n",
    "for i in range(q - 1):\n",
    "    if x  == (p * beta + y * i) % (q - 1):\n",
    "        gamma = i\n",
    "        break\n",
    "print(x, p * beta, y * gamma)\n",
    "print (\"Gamma\", gamma)"
   ]
  },
  {
   "cell_type": "markdown",
   "metadata": {},
   "source": [
    "### Exercitiul 6\n",
    "\n",
    "Sa se determine daca tripletul e bun"
   ]
  },
  {
   "cell_type": "code",
   "execution_count": 19,
   "metadata": {
    "collapsed": false
   },
   "outputs": [
    {
     "name": "stdout",
     "output_type": "stream",
     "text": [
      "11\n",
      "Mesajul autentic\n",
      "('Mesajul este:', 9)\n"
     ]
    }
   ],
   "source": [
    "c, beta, gamma = 11, 5, 1\n",
    "a = (pow(pow(alpha, p, q), beta, q) * pow(beta, gamma, q)) % q\n",
    "print(a)\n",
    "if a == c:\n",
    "    print(\"Mesajul autentic\")\n",
    "    y = ((x - p * beta) * modinv(gamma, q - 1)) % (q - 1)\n",
    "    print(\"Mesajul este:\", y)\n",
    "else:\n",
    "    print(\"Mesajul NU este autentic\")"
   ]
  }
 ],
 "metadata": {
  "kernelspec": {
   "display_name": "Python 3",
   "language": "python",
   "name": "python3"
  },
  "language_info": {
   "codemirror_mode": {
    "name": "ipython",
    "version": 3
   },
   "file_extension": ".py",
   "mimetype": "text/x-python",
   "name": "python",
   "nbconvert_exporter": "python",
   "pygments_lexer": "ipython3",
   "version": "3.4.3"
  }
 },
 "nbformat": 4,
 "nbformat_minor": 0
}
