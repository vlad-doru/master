{
 "cells": [
  {
   "cell_type": "markdown",
   "metadata": {},
   "source": [
    "### Generare automata a functiei $$\\phi$$ descrisa in curs pe care el o scoate de nicaieri"
   ]
  },
  {
   "cell_type": "code",
   "execution_count": 2,
   "metadata": {
    "collapsed": true
   },
   "outputs": [],
   "source": [
    "d = 3 \n",
    "n = 4\n",
    "q = 3\n",
    "Amin = [frozenset([1, 2, 3]), frozenset([1, 2, 4]), frozenset([3, 4])]"
   ]
  },
  {
   "cell_type": "code",
   "execution_count": 3,
   "metadata": {
    "collapsed": true
   },
   "outputs": [],
   "source": [
    "from itertools import chain, combinations\n",
    "\n",
    "def powerset(iterable):\n",
    "  xs = list(iterable)\n",
    "  # note we return an iterator rather than a list\n",
    "  return chain.from_iterable( combinations(xs,n) for n in range(len(xs)+1) )"
   ]
  },
  {
   "cell_type": "code",
   "execution_count": 4,
   "metadata": {
    "collapsed": false
   },
   "outputs": [
    {
     "name": "stdout",
     "output_type": "stream",
     "text": [
      "Multimile maximal neautorizate sunt:\n",
      "[1, 2]\n",
      "[1, 3]\n",
      "[1, 4]\n",
      "[2, 3]\n",
      "[2, 4]\n"
     ]
    }
   ],
   "source": [
    "# Vedem daca o multime e autorizata sau nu\n",
    "def isAuthorized(candidate, Amin):\n",
    "    for allowed in Amin:\n",
    "        if len(allowed.difference(candidate)) == 0:\n",
    "            return True\n",
    "    return False\n",
    "\n",
    "# Cautam toate multimile MAXIMAL NEAUTORIZATE.\n",
    "NAmax = []\n",
    "for candidate in powerset(range(1, n + 1)):\n",
    "    # E maximal neautroizata daca orice element adaugam devine autorizata\n",
    "    ok = True\n",
    "    c = frozenset(candidate)\n",
    "    if isAuthorized(c, Amin):\n",
    "        continue\n",
    "    for element in range(1, n + 1):\n",
    "        if element in c:\n",
    "              continue\n",
    "        aux = list(c)\n",
    "        aux.append(element)\n",
    "        added = frozenset(aux)\n",
    "        if not isAuthorized(added, Amin):\n",
    "            ok = False\n",
    "            break\n",
    "    if ok == False:\n",
    "        continue\n",
    "    NAmax.append(c)\n",
    "print(\"Multimile maximal neautorizate sunt:\")\n",
    "for i in NAmax:\n",
    "    print(list(i))"
   ]
  },
  {
   "cell_type": "code",
   "execution_count": 5,
   "metadata": {
    "collapsed": false
   },
   "outputs": [],
   "source": [
    "# Cautam sa face un sistem \n",
    "# Brute force maxim ^^\n",
    "# Scoatem o lista de solutii care pot fi\n",
    "\n",
    "from itertools import product\n",
    "import numpy as np\n",
    "\n",
    "# Incercam sa avem vectori doar cu 1, 0, si -1 ca si componente.\n",
    "# Contains all possible vector values\n",
    "all_vectors = list(product([-1, 0 , 1], repeat = d))\n",
    "for solution in product(all_vectors, repeat = n):\n",
    "    sol = [np.array(x) for x in solution]\n",
    "    combinations = list(product([-1, 1], repeat = n))\n",
    "    all_ok = False\n",
    "    for c in combinations:\n",
    "        continue\n",
    "        ok = False\n",
    "        for allowed in Amin:\n",
    "            result = np.array([0] * d)\n",
    "            for a in allowed:\n",
    "                result += c[a - 1] * sol[a - 1]\n",
    "            if result[0] == 1 and np.sum(result[1:]) == 0:\n",
    "                ok = True\n",
    "                continue\n",
    "            else:\n",
    "                ok = False\n",
    "                break\n",
    "        if ok == True:\n",
    "            print(sol)\n",
    "            print(c)\n",
    "            all_ok = True\n",
    "            break\n",
    "    if all_ok == True:\n",
    "        break\n",
    "            "
   ]
  }
 ],
 "metadata": {
  "kernelspec": {
   "display_name": "Python 3",
   "language": "python",
   "name": "python3"
  },
  "language_info": {
   "codemirror_mode": {
    "name": "ipython",
    "version": 3
   },
   "file_extension": ".py",
   "mimetype": "text/x-python",
   "name": "python",
   "nbconvert_exporter": "python",
   "pygments_lexer": "ipython3",
   "version": "3.5.1"
  }
 },
 "nbformat": 4,
 "nbformat_minor": 0
}
