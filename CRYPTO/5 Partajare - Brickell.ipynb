{
 "cells": [
  {
   "cell_type": "markdown",
   "metadata": {},
   "source": [
    "### Generare automata a functiei $$\\phi$$ descrisa in curs pe care el o scoate de nicaieri"
   ]
  },
  {
   "cell_type": "code",
   "execution_count": 28,
   "metadata": {
    "collapsed": true
   },
   "outputs": [],
   "source": [
    "d = 3 \n",
    "n = 4\n",
    "q = 3\n",
    "Amin = [frozenset([1, 2, 3]), frozenset([1, 2, 4]), frozenset([3, 4])]"
   ]
  },
  {
   "cell_type": "code",
   "execution_count": 29,
   "metadata": {
    "collapsed": true
   },
   "outputs": [],
   "source": [
    "from itertools import chain, combinations\n",
    "\n",
    "def powerset(iterable):\n",
    "  xs = list(iterable)\n",
    "  # note we return an iterator rather than a list\n",
    "  return chain.from_iterable( combinations(xs,n) for n in range(len(xs)+1) )"
   ]
  },
  {
   "cell_type": "code",
   "execution_count": 30,
   "metadata": {
    "collapsed": false
   },
   "outputs": [
    {
     "name": "stdout",
     "output_type": "stream",
     "text": [
      "Multimile maximal neautorizate sunt:\n",
      "[1, 2]\n",
      "[1, 3]\n",
      "[1, 4]\n",
      "[2, 3]\n",
      "[2, 4]\n"
     ]
    }
   ],
   "source": [
    "# Vedem daca o multime e autorizata sau nu\n",
    "def isAuthorized(candidate, Amin):\n",
    "    for allowed in Amin:\n",
    "        if len(allowed.difference(candidate)) == 0:\n",
    "            return True\n",
    "    return False\n",
    "\n",
    "# Cautam toate multimile MAXIMAL NEAUTORIZATE.\n",
    "NAmax = []\n",
    "for candidate in powerset(range(1, n + 1)):\n",
    "    # E maximal neautroizata daca orice element adaugam devine autorizata\n",
    "    ok = True\n",
    "    c = frozenset(candidate)\n",
    "    if isAuthorized(c, Amin):\n",
    "        continue\n",
    "    for element in range(1, n + 1):\n",
    "        if element in c:\n",
    "              continue\n",
    "        aux = list(c)\n",
    "        aux.append(element)\n",
    "        added = frozenset(aux)\n",
    "        if not isAuthorized(added, Amin):\n",
    "            ok = False\n",
    "            break\n",
    "    if ok == False:\n",
    "        continue\n",
    "    NAmax.append(c)\n",
    "print(\"Multimile maximal neautorizate sunt:\")\n",
    "for i in NAmax:\n",
    "    print(list(i))"
   ]
  },
  {
   "cell_type": "code",
   "execution_count": 44,
   "metadata": {
    "collapsed": false
   },
   "outputs": [
    {
     "name": "stdout",
     "output_type": "stream",
     "text": [
      "[[ 1  1  1  1]\n",
      " [ 1  1  0  0]\n",
      " [ 1  0  1 -1]]\n",
      "Solutiile pentru baza\n",
      "frozenset({1, 2, 3})\n",
      "Combinatia lineara este \n",
      " [[-1]\n",
      " [ 1]\n",
      " [ 1]]\n",
      "Print solutia da vectorul \n",
      " [[1]\n",
      " [0]\n",
      " [0]]\n",
      "Care modulo q este: \n",
      " [[1]\n",
      " [0]\n",
      " [0]]\n",
      "frozenset({1, 2, 4})\n",
      "Combinatia lineara este \n",
      " [[ 1]\n",
      " [-1]\n",
      " [ 1]]\n",
      "Print solutia da vectorul \n",
      " [[1]\n",
      " [0]\n",
      " [0]]\n",
      "Care modulo q este: \n",
      " [[1]\n",
      " [0]\n",
      " [0]]\n",
      "frozenset({3, 4})\n",
      "Combinatia lineara este \n",
      " [[-1]\n",
      " [-1]]\n",
      "Print solutia da vectorul \n",
      " [[-2]\n",
      " [ 0]\n",
      " [ 0]]\n",
      "Care modulo q este: \n",
      " [[1]\n",
      " [0]\n",
      " [0]]\n",
      "Alta posibila solutie\n",
      "DONE\n"
     ]
    }
   ],
   "source": [
    "# Cautam sa face un sistem \n",
    "# Brute force maxim ^^\n",
    "# Scoatem o lista de solutii care pot fi\n",
    "\n",
    "from itertools import product, combinations\n",
    "import numpy as np\n",
    "\n",
    "aux = np.array([0] * d)\n",
    "aux[0] = 1\n",
    "e = np.matrix(aux).transpose()\n",
    "\n",
    "def hasSolution(ma, givesol = False):\n",
    "    for c in product([-1, 0, 1], repeat = len(indexes)):\n",
    "        cn = np.matrix([c]).transpose()\n",
    "        x = np.count_nonzero(abs((((ma * cn) % q) - e)))\n",
    "        if x == 0:\n",
    "            if givesol == True:\n",
    "                return cn\n",
    "            return True\n",
    "    return False\n",
    "\n",
    "# Cate solutii vrem sa determinam\n",
    "SOLS = 1\n",
    "\n",
    "# Incercam sa avem vectori doar cu 1, 0, si -1 ca si componente.\n",
    "all_vectors = list(product([1, 0, -1], repeat = d))\n",
    "for solution in combinations(all_vectors, n):\n",
    "    m = np.matrix(list(solution)).transpose()\n",
    "    ok = True\n",
    "    for A in Amin:\n",
    "        indexes = list(np.array(sorted(list(A))) - 1)\n",
    "        ma = m[:, indexes]\n",
    "        if hasSolution(ma) == False:\n",
    "            ok = False\n",
    "            break\n",
    "    if ok == False:\n",
    "        continue\n",
    "    for A in NAmax:\n",
    "        indexes = list(np.array(sorted(list(A))) - 1)\n",
    "        ma = m[:, indexes]\n",
    "        if hasSolution(ma) == True:\n",
    "            ok = False\n",
    "            break\n",
    "    if ok == False:\n",
    "        continue\n",
    "    print(m)\n",
    "    print(\"Solutiile pentru baza\")\n",
    "    for A in Amin:\n",
    "        indexes = list(np.array(sorted(list(A))) - 1)\n",
    "        ma = m[:, indexes]\n",
    "        x = hasSolution(ma, True)\n",
    "        print(A)\n",
    "        print(\"Combinatia lineara este \\n\",x)\n",
    "        print(\"Print solutia da vectorul \\n\", ma * x)\n",
    "        print(\"Care modulo q este: \\n\", (ma * x) % q)\n",
    "    print(\"Alta posibila solutie\")\n",
    "    SOLS -= 1\n",
    "    if SOLS == 0:\n",
    "        break\n",
    "print(\"DONE\")\n",
    "# Construim matricea sistemului"
   ]
  }
 ],
 "metadata": {
  "kernelspec": {
   "display_name": "Python 3",
   "language": "python",
   "name": "python3"
  },
  "language_info": {
   "codemirror_mode": {
    "name": "ipython",
    "version": 3
   },
   "file_extension": ".py",
   "mimetype": "text/x-python",
   "name": "python",
   "nbconvert_exporter": "python",
   "pygments_lexer": "ipython3",
   "version": "3.4.3"
  }
 },
 "nbformat": 4,
 "nbformat_minor": 0
}
