{
 "cells": [
  {
   "cell_type": "code",
   "execution_count": 1,
   "metadata": {
    "collapsed": false
   },
   "outputs": [
    {
     "name": "stdout",
     "output_type": "stream",
     "text": [
      "Read the data file from ./airline-twitter-sentiment/Tweets.csv\n",
      "We have 14640 labelled examples.\n"
     ]
    }
   ],
   "source": [
    "import matplotlib\n",
    "import numpy as np\n",
    "import matplotlib.pyplot as plt\n",
    "%matplotlib inline  \n",
    "\n",
    "import pandas \n",
    "\n",
    "from lib import loading\n",
    "\n",
    "df = loading.load_data()\n",
    "print(\"We have {0} labelled examples.\".format(len(df)))"
   ]
  },
  {
   "cell_type": "markdown",
   "metadata": {},
   "source": [
    "## Sentiment distribution"
   ]
  },
  {
   "cell_type": "code",
   "execution_count": 2,
   "metadata": {
    "collapsed": false
   },
   "outputs": [
    {
     "data": {
      "text/plain": [
       "(-1.0134973589447356,\n",
       " 1.0000000209436062,\n",
       " -1.0104870255027887,\n",
       " 1.0085293797545596)"
      ]
     },
     "execution_count": 2,
     "metadata": {},
     "output_type": "execute_result"
    },
    {
     "data": {
      "image/png": "[encoded data removed]",
      "text/plain": [
       "<matplotlib.figure.Figure at 0x1069dfac8>"
      ]
     },
     "metadata": {},
     "output_type": "display_data"
    }
   ],
   "source": [
    "%matplotlib inline\n",
    "labels = ['positive', 'negative', 'neutral']\n",
    "sizes = [sum(df['airline_sentiment'] == label) for label in labels]\n",
    "colors = ['yellowgreen', 'red', 'lightskyblue']\n",
    "plt.pie(sizes, labels=labels, colors=colors, autopct='%1.1f%%')\n",
    "plt.axis('equal')\n"
   ]
  },
  {
   "cell_type": "markdown",
   "metadata": {
    "collapsed": true
   },
   "source": [
    "## Word frequency distribution\n",
    "\n",
    "We are interested in the terms frequency distribution since we want to know what frequency we should make the cut-off.\n",
    "We eliminated stop words and tokenized the tweets using the TweetTokenizer provided by NLTK.\n"
   ]
  },
  {
   "cell_type": "code",
   "execution_count": 3,
   "metadata": {
    "collapsed": false
   },
   "outputs": [
    {
     "name": "stdout",
     "output_type": "stream",
     "text": [
      "Using a total of 14640 tweets\n",
      "Training sample size: 13097\n",
      "Testing sample size: 1543\n"
     ]
    }
   ],
   "source": [
    "from lib import processing\n",
    "\n",
    "training_data, testing_data = processing.process_data(df, sample_size=1)"
   ]
  },
  {
   "cell_type": "markdown",
   "metadata": {},
   "source": [
    "## Visualizing most used unigrams and bigrams"
   ]
  },
  {
   "cell_type": "code",
   "execution_count": 33,
   "metadata": {
    "collapsed": false
   },
   "outputs": [
    {
     "name": "stdout",
     "output_type": "stream",
     "text": [
      "We have 111877 unigrams and bigrams.\n"
     ]
    }
   ],
   "source": [
    "from collections import defaultdict\n",
    "\n",
    "freq = defaultdict(int)\n",
    "unigram_freq = defaultdict(int)\n",
    "bigram_freq = defaultdict(int)\n",
    "for tokens, _ in training_data:\n",
    "    for i, token in enumerate(tokens):\n",
    "        freq[\"unigram: {0}\".format(token)] += 1\n",
    "        unigram_freq[\"{0}\".format(token)] += 1\n",
    "        if i > 0:\n",
    "            freq[\"bigram: {0} {1}\".format(tokens[i-1], tokens[i])] += 1\n",
    "            bigram_freq[\"{0} {1}\".format(tokens[i-1], tokens[i])] += 1\n",
    "\n",
    "print(\"We have {0} unigrams and bigrams.\".format(len(freq))) \n",
    "freq_list = sorted([(value, key) for key, value in freq.items()], reverse = True)\n",
    "unigram_freq_list = sorted([(value, key) for key, value in unigram_freq.items()], reverse = True)\n",
    "bigram_freq_list = sorted([(value, key) for key, value in bigram_freq.items()], reverse = True)"
   ]
  },
  {
   "cell_type": "markdown",
   "metadata": {},
   "source": [
    "## Most frequent unigrams"
   ]
  },
  {
   "cell_type": "code",
   "execution_count": 50,
   "metadata": {
    "collapsed": false
   },
   "outputs": [
    {
     "name": "stdout",
     "output_type": "stream",
     "text": [
      "* .\n",
      "* !\n",
      "* ?\n",
      "* ,\n",
      "* @united\n",
      "* flight\n",
      "* @usairways\n",
      "* @americanair\n",
      "* @southwestair\n",
      "* @jetblue\n",
      "* get\n",
      "* thanks\n",
      "* cancelled\n",
      "* ...\n",
      "* service\n",
      "* -\n",
      "* \"\n",
      "* help\n",
      "* time\n",
      "* customer\n"
     ]
    }
   ],
   "source": [
    "for unigram in unigram_freq_list[:20]:\n",
    "    print(\"* {0}\".format(unigram[1]))"
   ]
  },
  {
   "cell_type": "markdown",
   "metadata": {},
   "source": [
    "## Most frequent bigrams"
   ]
  },
  {
   "cell_type": "code",
   "execution_count": 35,
   "metadata": {
    "collapsed": false
   },
   "outputs": [
    {
     "name": "stdout",
     "output_type": "stream",
     "text": [
      "* ! !\n",
      "* customer service\n",
      "* cancelled flightled\n",
      "* ? ?\n",
      "* flight .\n",
      "* . thanks\n",
      "* late flight\n",
      "* ? !\n",
      "* cancelled flighted\n",
      "* thanks !\n"
     ]
    }
   ],
   "source": [
    "for bigram in bigram_freq_list[:10]:\n",
    "    print(\"* {0}\".format(bigram[1], 10))"
   ]
  },
  {
   "cell_type": "markdown",
   "metadata": {},
   "source": [
    "## Visualizing features frequency distribution"
   ]
  },
  {
   "cell_type": "code",
   "execution_count": 44,
   "metadata": {
    "collapsed": false
   },
   "outputs": [
    {
     "data": {
      "image/png": "[encoded data removed]",
      "text/plain": [
       "<matplotlib.figure.Figure at 0x10f5902e8>"
      ]
     },
     "metadata": {},
     "output_type": "display_data"
    }
   ],
   "source": [
    "freq_list = pandas.Series(list(freq.values()))\n",
    "freq_list.plot(kind='hist', bins = 20, range=(0, 100))\n",
    "plt.ylabel(\"# of Features\")\n",
    "plt.xlabel(\"Frequency\")\n",
    "plt.yscale('log', nonposy='clip')"
   ]
  },
  {
   "cell_type": "markdown",
   "metadata": {},
   "source": [
    "### Viewing number of features based on word min frequency"
   ]
  },
  {
   "cell_type": "code",
   "execution_count": 45,
   "metadata": {
    "collapsed": false
   },
   "outputs": [
    {
     "data": {
      "text/plain": [
       "[<matplotlib.lines.Line2D at 0x1120a5128>]"
      ]
     },
     "execution_count": 45,
     "metadata": {},
     "output_type": "execute_result"
    },
    {
     "data": {
      "image/png": "[encoded data removed]",
      "text/plain": [
       "<matplotlib.figure.Figure at 0x10ab41c88>"
      ]
     },
     "metadata": {},
     "output_type": "display_data"
    }
   ],
   "source": [
    "min_freq_range = list(range(1, 51))\n",
    "features_count = [sum(freq_list > x) for x in min_freq_range]\n",
    "plt.plot(min_freq_range, features_count)"
   ]
  },
  {
   "cell_type": "markdown",
   "metadata": {},
   "source": [
    "## Exploring accuracy with various min_freq values\n",
    "\n",
    "We will use a NaiveBayes classifier, with the default parameters, since it trains faster."
   ]
  },
  {
   "cell_type": "code",
   "execution_count": 48,
   "metadata": {
    "collapsed": false
   },
   "outputs": [
    {
     "name": "stdout",
     "output_type": "stream",
     "text": [
      "Using min frequency of 5\n",
      "Unigram features 2759\n",
      "Bigram features:  2875\n",
      "Training classifier\n",
      "Evaluating NaiveBayesClassifier results...\n",
      "Using min frequency of 10\n",
      "Unigram features 1710\n",
      "Bigram features:  1187\n",
      "Training classifier\n",
      "Evaluating NaiveBayesClassifier results...\n",
      "Using min frequency of 15\n",
      "Unigram features 1267\n",
      "Bigram features:  670\n",
      "Training classifier\n",
      "Evaluating NaiveBayesClassifier results...\n",
      "Using min frequency of 20\n",
      "Unigram features 1017\n",
      "Bigram features:  436\n",
      "Training classifier\n",
      "Evaluating NaiveBayesClassifier results...\n"
     ]
    }
   ],
   "source": [
    "from nltk.sentiment import SentimentAnalyzer\n",
    "from nltk.classify import NaiveBayesClassifier\n",
    "from lib import classify\n",
    "\n",
    "min_freq_range = list([5, 10, 15, 20])\n",
    "accuracy = []\n",
    "for x in min_freq_range:\n",
    "    print(\"Using min frequency of\", x)\n",
    "    sentim_analyzer = SentimentAnalyzer()\n",
    "    classify.add_features(training_data, sentim_analyzer, min_freq = x)\n",
    "    train, test = classify.extract_features(training_data, testing_data, sentim_analyzer)\n",
    "    trainer = {\n",
    "        'train': NaiveBayesClassifier.train,\n",
    "    }\n",
    "    _, evaluation, _ = classify.train_model(train, test, sentim_analyzer, trainer)\n",
    "    accuracy.append(evaluation['Accuracy'])\n"
   ]
  },
  {
   "cell_type": "code",
   "execution_count": 49,
   "metadata": {
    "collapsed": false
   },
   "outputs": [
    {
     "data": {
      "text/plain": [
       "[<matplotlib.lines.Line2D at 0x1124dfe80>]"
      ]
     },
     "execution_count": 49,
     "metadata": {},
     "output_type": "execute_result"
    },
    {
     "data": {
      "image/png": "[encoded data removed]",
      "text/plain": [
       "<matplotlib.figure.Figure at 0x111799710>"
      ]
     },
     "metadata": {},
     "output_type": "display_data"
    }
   ],
   "source": [
    "acc = [round(x, 2) for x in accuracy]\n",
    "plt.plot(min_freq_range, accuracy)"
   ]
  },
  {
   "cell_type": "markdown",
   "metadata": {},
   "source": [
    "## Conclusion\n",
    "\n",
    "We will chose to have as features only terms with frequency higher than 10, since it constitues a nice trade-off between accuracy and feature space. \n",
    "\n",
    "## Bigrams\n",
    "\n",
    "We will also use bigrams as features, since improving the feature space will results in better accuracy for our classifiers."
   ]
  }
 ],
 "metadata": {
  "kernelspec": {
   "display_name": "Python 3",
   "language": "python",
   "name": "python3"
  },
  "language_info": {
   "codemirror_mode": {
    "name": "ipython",
    "version": 3
   },
   "file_extension": ".py",
   "mimetype": "text/x-python",
   "name": "python",
   "nbconvert_exporter": "python",
   "pygments_lexer": "ipython3",
   "version": "3.5.1"
  }
 },
 "nbformat": 4,
 "nbformat_minor": 0
}
