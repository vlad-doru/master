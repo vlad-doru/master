{
 "cells": [
  {
   "cell_type": "code",
   "execution_count": 1,
   "metadata": {
    "collapsed": false
   },
   "outputs": [
    {
     "name": "stdout",
     "output_type": "stream",
     "text": [
      "Read the data file from ./airline-twitter-sentiment/Tweets.csv\n",
      "We have 14640 labelled examples.\n"
     ]
    }
   ],
   "source": [
    "import matplotlib\n",
    "import numpy as np\n",
    "import matplotlib.pyplot as plt\n",
    "%matplotlib inline  \n",
    "\n",
    "import pandas \n",
    "\n",
    "from lib import loading\n",
    "\n",
    "df = loading.load_data()\n",
    "print(\"We have {0} labelled examples.\".format(len(df)))"
   ]
  },
  {
   "cell_type": "markdown",
   "metadata": {},
   "source": [
    "## We will try various classification algorithms\n",
    "\n",
    "We will try the following:\n",
    "* Naive Bayes\n",
    "* kNearest Neighbours\n",
    "* SVM\n",
    "* Gradient Descent\n",
    "\n",
    "We mention that in this docuemnt we take the best options that we have found, after exploring the hyperparameter space for each algorithm in its own separate Notebook."
   ]
  },
  {
   "cell_type": "code",
   "execution_count": 2,
   "metadata": {
    "collapsed": false
   },
   "outputs": [
    {
     "name": "stdout",
     "output_type": "stream",
     "text": [
      "Using a total of 14640 tweets\n",
      "Training sample size: 13208\n",
      "Testing sample size: 1432\n"
     ]
    }
   ],
   "source": [
    "from lib import processing\n",
    "\n",
    "training_data, testing_data = processing.process_data(df, sample_size=1)"
   ]
  },
  {
   "cell_type": "code",
   "execution_count": 3,
   "metadata": {
    "collapsed": false
   },
   "outputs": [
    {
     "name": "stdout",
     "output_type": "stream",
     "text": [
      "Unigram features 1730\n",
      "Bigram features:  1205\n"
     ]
    }
   ],
   "source": [
    "from sklearn.metrics import confusion_matrix\n",
    "from lib import classify\n",
    "from nltk.sentiment import SentimentAnalyzer\n",
    "\n",
    "sentim_analyzer = SentimentAnalyzer()\n",
    "classify.add_features(training_data, sentim_analyzer)\n",
    "train, test = classify.extract_features(training_data, testing_data, sentim_analyzer)\n",
    "\n",
    "def plot_confusion_matrix(cm, title='Confusion matrix', cmap=plt.cm.Blues):\n",
    "    plt.imshow(cm, interpolation='nearest', cmap=cmap)\n",
    "    plt.title(title)\n",
    "    plt.colorbar()\n",
    "    tick_marks = np.arange(3)\n",
    "    plt.xticks(tick_marks, ['negative', 'neutal', 'positive'], rotation=45)\n",
    "    plt.yticks(tick_marks, ['negative', 'neutal', 'positive'])\n",
    "    plt.tight_layout()\n",
    "    plt.ylabel('True label')\n",
    "    plt.xlabel('Predicted label')\n",
    "\n",
    "def print_evaluation(evaluation):\n",
    "    for key, value in sorted(evaluation.items()):\n",
    "        print(key, \":\", value)\n",
    "\n",
    "def evaluate_trainer(trainer):\n",
    "    classifier, evaluation, _ = classify.train_model(train, test, sentim_analyzer, trainer)\n",
    "    y_test = [y for _, y in test]\n",
    "    y_pred = [classifier.classify(f) for f, _ in test]\n",
    "    cm = confusion_matrix(y_test, y_pred)\n",
    "    plot_confusion_matrix(cm)\n",
    "    print_evaluation(evaluation)\n",
    "    return classifier"
   ]
  },
  {
   "cell_type": "markdown",
   "metadata": {},
   "source": [
    "## Naive Bayes"
   ]
  },
  {
   "cell_type": "code",
   "execution_count": 8,
   "metadata": {
    "collapsed": false
   },
   "outputs": [
    {
     "name": "stdout",
     "output_type": "stream",
     "text": [
      "Training: Naive Bayes Classifier\n",
      "Training classifier\n",
      "Evaluating SklearnClassifier results...\n",
      "Accuracy : 0.7515233581584293\n",
      "F-measure [negative] : 0.8313183649971214\n",
      "F-measure [neutral] : 0.5928057553956835\n",
      "F-measure [positive] : 0.6973180076628352\n",
      "Precision [negative] : 0.87409200968523\n",
      "Precision [neutral] : 0.544973544973545\n",
      "Precision [positive] : 0.6666666666666666\n",
      "Recall [negative] : 0.7925356750823271\n",
      "Recall [neutral] : 0.6498422712933754\n",
      "Recall [positive] : 0.7309236947791165\n"
     ]
    },
    {
     "data": {
      "image/png": "[encoded data removed]",
      "text/plain": [
       "<matplotlib.figure.Figure at 0x10b09ba90>"
      ]
     },
     "metadata": {},
     "output_type": "display_data"
    }
   ],
   "source": [
    "from nltk.classify import SklearnClassifier\n",
    "from sklearn.naive_bayes import BernoulliNB\n",
    "\n",
    "trainer = {\n",
    "    'name': 'Naive Bayes Classifier',\n",
    "    'train': SklearnClassifier(BernoulliNB(\n",
    "        fit_prior = True,\n",
    "        )).train,\n",
    "}\n",
    "naive_bayes = evaluate_trainer(trainer)\n"
   ]
  },
  {
   "cell_type": "markdown",
   "metadata": {},
   "source": [
    "## K Nearest Neighbours"
   ]
  },
  {
   "cell_type": "code",
   "execution_count": 5,
   "metadata": {
    "collapsed": false
   },
   "outputs": [
    {
     "name": "stdout",
     "output_type": "stream",
     "text": [
      "Training: K Nearest Neighbours Classifier\n",
      "Training classifier\n",
      "Evaluating SklearnClassifier results...\n",
      "Accuracy : 0.5219672131147541\n",
      "F-measure [negative] : 0.5983827493261455\n",
      "F-measure [neutral] : 0.4224364592462752\n",
      "F-measure [positive] : 0.5223529411764706\n",
      "Precision [negative] : 0.7971274685816876\n",
      "Precision [neutral] : 0.30238393977415307\n",
      "Precision [positive] : 0.6491228070175439\n",
      "Recall [negative] : 0.47896440129449835\n",
      "Recall [neutral] : 0.7005813953488372\n",
      "Recall [positive] : 0.43700787401574803\n"
     ]
    },
    {
     "data": {
      "image/png": "[encoded data removed]",
      "text/plain": [
       "<matplotlib.figure.Figure at 0x10e00bd30>"
      ]
     },
     "metadata": {},
     "output_type": "display_data"
    }
   ],
   "source": [
    "from sklearn.neighbors import KNeighborsClassifier\n",
    "from nltk.classify import SklearnClassifier\n",
    "trainer = {\n",
    "    \"name\": \"K Nearest Neighbours Classifier\",\n",
    "    \"train\": SklearnClassifier(KNeighborsClassifier()).train,\n",
    "}\n",
    "knn = evaluate_trainer(trainer)"
   ]
  },
  {
   "cell_type": "markdown",
   "metadata": {},
   "source": [
    "## SVM"
   ]
  },
  {
   "cell_type": "code",
   "execution_count": 5,
   "metadata": {
    "collapsed": false
   },
   "outputs": [
    {
     "name": "stdout",
     "output_type": "stream",
     "text": [
      "Training: Linear SVC Classifier\n",
      "Training classifier\n",
      "Evaluating SklearnClassifier results...\n",
      "Accuracy : 0.7667597765363129\n",
      "F-measure [negative] : 0.8488636363636364\n",
      "F-measure [neutral] : 0.5921259842519685\n",
      "F-measure [positive] : 0.6950959488272922\n",
      "Precision [negative] : 0.8459796149490374\n",
      "Precision [neutral] : 0.5714285714285714\n",
      "Precision [positive] : 0.740909090909091\n",
      "Recall [negative] : 0.8517673888255416\n",
      "Recall [neutral] : 0.6143790849673203\n",
      "Recall [positive] : 0.6546184738955824\n"
     ]
    },
    {
     "data": {
      "image/png": "[encoded data removed]",
      "text/plain": [
       "<matplotlib.figure.Figure at 0x109956c88>"
      ]
     },
     "metadata": {},
     "output_type": "display_data"
    }
   ],
   "source": [
    "from sklearn.svm import LinearSVC\n",
    "from nltk.classify import SklearnClassifier\n",
    "trainer = {\n",
    "    \"name\": \"Linear SVC Classifier\",\n",
    "    \"train\": SklearnClassifier(LinearSVC(dual = False, # because number of samples > number of features,\n",
    "                                         C = 2,\n",
    "                                        )).train,\n",
    "}\n",
    "svm = evaluate_trainer(trainer)"
   ]
  }
 ],
 "metadata": {
  "kernelspec": {
   "display_name": "Python 3",
   "language": "python",
   "name": "python3"
  },
  "language_info": {
   "codemirror_mode": {
    "name": "ipython",
    "version": 3
   },
   "file_extension": ".py",
   "mimetype": "text/x-python",
   "name": "python",
   "nbconvert_exporter": "python",
   "pygments_lexer": "ipython3",
   "version": "3.5.1"
  }
 },
 "nbformat": 4,
 "nbformat_minor": 0
}
