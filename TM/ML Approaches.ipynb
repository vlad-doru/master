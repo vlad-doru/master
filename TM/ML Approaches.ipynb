{
 "cells": [
  {
   "cell_type": "code",
   "execution_count": 1,
   "metadata": {
    "collapsed": false
   },
   "outputs": [
    {
     "name": "stdout",
     "output_type": "stream",
     "text": [
      "Read the data file from ./airline-twitter-sentiment/Tweets.csv\n",
      "We have 14640 labelled examples.\n"
     ]
    }
   ],
   "source": [
    "import matplotlib\n",
    "import numpy as np\n",
    "import matplotlib.pyplot as plt\n",
    "%matplotlib inline  \n",
    "\n",
    "import pandas \n",
    "\n",
    "from lib import loading\n",
    "\n",
    "df = loading.load_data()\n",
    "print(\"We have {0} labelled examples.\".format(len(df)))"
   ]
  },
  {
   "cell_type": "markdown",
   "metadata": {},
   "source": [
    "## We will try various classification algorithms\n",
    "\n",
    "We will try the following:\n",
    "* Naive Bayes\n",
    "* kNearest Neighbours\n",
    "* SVM\n",
    "* Gradient Descent"
   ]
  },
  {
   "cell_type": "code",
   "execution_count": 2,
   "metadata": {
    "collapsed": false
   },
   "outputs": [
    {
     "name": "stdout",
     "output_type": "stream",
     "text": [
      "Using a total of 14640 tweets\n",
      "Training sample size: 13151\n",
      "Testing sample size: 1489\n"
     ]
    }
   ],
   "source": [
    "from lib import processing\n",
    "\n",
    "training_data, testing_data = processing.process_data(df, sample_size=1)"
   ]
  },
  {
   "cell_type": "code",
   "execution_count": 3,
   "metadata": {
    "collapsed": false
   },
   "outputs": [
    {
     "name": "stdout",
     "output_type": "stream",
     "text": [
      "Number of features: 1725\n"
     ]
    }
   ],
   "source": [
    "from sklearn.metrics import confusion_matrix\n",
    "from lib import classify\n",
    "from nltk.sentiment import SentimentAnalyzer\n",
    "\n",
    "sentim_analyzer = SentimentAnalyzer()\n",
    "classify.add_features(training_data, sentim_analyzer)\n",
    "train, test = classify.extract_features(training_data, testing_data, sentim_analyzer)\n",
    "\n",
    "def plot_confusion_matrix(cm, title='Confusion matrix', cmap=plt.cm.Blues):\n",
    "    plt.imshow(cm, interpolation='nearest', cmap=cmap)\n",
    "    plt.title(title)\n",
    "    plt.colorbar()\n",
    "    tick_marks = np.arange(3)\n",
    "    plt.xticks(tick_marks, ['negative', 'neutal', 'positive'], rotation=45)\n",
    "    plt.yticks(tick_marks, ['negative', 'neutal', 'positive'])\n",
    "    plt.tight_layout()\n",
    "    plt.ylabel('True label')\n",
    "    plt.xlabel('Predicted label')\n",
    "\n",
    "def print_evaluation(evaluation):\n",
    "    for key, value in sorted(evaluation.items()):\n",
    "        print(key, \":\", value)\n",
    "\n",
    "def evaluate_trainer(trainer):\n",
    "    classifier, evaluation, _ = classify.train_model(train, test, sentim_analyzer, trainer)\n",
    "    y_test = [y for _, y in test]\n",
    "    y_pred = [classifier.classify(f) for f, _ in test]\n",
    "    cm = confusion_matrix(y_test, y_pred)\n",
    "    plot_confusion_matrix(cm)\n",
    "    print_evaluation(evaluation)\n",
    "    return classifier"
   ]
  },
  {
   "cell_type": "markdown",
   "metadata": {},
   "source": [
    "## Naive Bayes"
   ]
  },
  {
   "cell_type": "code",
   "execution_count": 4,
   "metadata": {
    "collapsed": false
   },
   "outputs": [
    {
     "name": "stdout",
     "output_type": "stream",
     "text": [
      "Training: Naive Bayes Classifier\n",
      "Training classifier\n",
      "Evaluating NaiveBayesClassifier results...\n",
      "Accuracy : 0.7797179314976495\n",
      "F-measure [negative] : 0.8576122672508215\n",
      "F-measure [neutral] : 0.6206896551724138\n",
      "F-measure [positive] : 0.7003891050583657\n",
      "Precision [negative] : 0.8642384105960265\n",
      "Precision [neutral] : 0.6366559485530546\n",
      "Precision [positive] : 0.6617647058823529\n",
      "Recall [negative] : 0.8510869565217392\n",
      "Recall [neutral] : 0.6055045871559633\n",
      "Recall [positive] : 0.743801652892562\n"
     ]
    },
    {
     "data": {
      "image/png": "[encoded data removed]",
      "text/plain": [
       "<matplotlib.figure.Figure at 0x10d360048>"
      ]
     },
     "metadata": {},
     "output_type": "display_data"
    }
   ],
   "source": [
    "from nltk.classify import NaiveBayesClassifier\n",
    "trainer = {\n",
    "    'name': 'Naive Bayes Classifier',\n",
    "    'train': NaiveBayesClassifier.train,\n",
    "}\n",
    "naive_bayes = evaluate_trainer(trainer)\n"
   ]
  },
  {
   "cell_type": "markdown",
   "metadata": {},
   "source": [
    "## K Nearest Neighbours"
   ]
  },
  {
   "cell_type": "code",
   "execution_count": 7,
   "metadata": {
    "collapsed": false
   },
   "outputs": [
    {
     "name": "stdout",
     "output_type": "stream",
     "text": [
      "Training: K Nearest Neighbours Classifier\n",
      "Training classifier\n",
      "Evaluating SklearnClassifier results...\n",
      "Accuracy : 0.5312290127602418\n",
      "F-measure [negative] : 0.614569536423841\n",
      "F-measure [neutral] : 0.4115384615384616\n",
      "F-measure [positive] : 0.5280373831775701\n",
      "Precision [negative] : 0.7864406779661017\n",
      "Precision [neutral] : 0.30014025245441794\n",
      "Precision [positive] : 0.6075268817204301\n",
      "Recall [negative] : 0.5043478260869565\n",
      "Recall [neutral] : 0.654434250764526\n",
      "Recall [positive] : 0.4669421487603306\n"
     ]
    },
    {
     "data": {
      "image/png": "[encoded data removed]",
      "text/plain": [
       "<matplotlib.figure.Figure at 0x172d8c400>"
      ]
     },
     "metadata": {},
     "output_type": "display_data"
    }
   ],
   "source": [
    "from sklearn.neighbors import KNeighborsClassifier\n",
    "from nltk.classify import SklearnClassifier\n",
    "trainer = {\n",
    "    \"name\": \"K Nearest Neighbours Classifier\",\n",
    "    \"train\": SklearnClassifier(KNeighborsClassifier()).train,\n",
    "}\n",
    "knn = evaluate_trainer(trainer)"
   ]
  },
  {
   "cell_type": "markdown",
   "metadata": {},
   "source": [
    "## SVM"
   ]
  },
  {
   "cell_type": "code",
   "execution_count": null,
   "metadata": {
    "collapsed": false
   },
   "outputs": [],
   "source": [
    "from sklearn.svm import LinearSVC\n",
    "from nltk.classify import SklearnClassifier\n",
    "trainer = {\n",
    "    \"name\": \"Linear SVC Classifier\",\n",
    "    \"train\": SklearnClassifier(LinearSVC(dual = False, # because number of samples > number of features,\n",
    "                                        )).train,\n",
    "}\n",
    "svm = evaluate_trainer(trainer)"
   ]
  },
  {
   "cell_type": "markdown",
   "metadata": {},
   "source": [
    "## Gradient Descent"
   ]
  },
  {
   "cell_type": "code",
   "execution_count": 14,
   "metadata": {
    "collapsed": false
   },
   "outputs": [
    {
     "name": "stdout",
     "output_type": "stream",
     "text": [
      "Training: Gradient Descent Classifier\n",
      "Training classifier\n",
      "Evaluating SklearnClassifier results...\n",
      "Accuracy : 0.77367360644728\n",
      "F-measure [negative] : 0.8562334217506631\n",
      "F-measure [neutral] : 0.5801282051282051\n",
      "F-measure [positive] : 0.6993603411513859\n",
      "Precision [negative] : 0.8362694300518134\n",
      "Precision [neutral] : 0.6094276094276094\n",
      "Precision [positive] : 0.7224669603524229\n",
      "Recall [negative] : 0.8771739130434782\n",
      "Recall [neutral] : 0.5535168195718655\n",
      "Recall [positive] : 0.6776859504132231\n"
     ]
    },
    {
     "data": {
      "image/png": "[encoded data removed]",
      "text/plain": [
       "<matplotlib.figure.Figure at 0x176313860>"
      ]
     },
     "metadata": {},
     "output_type": "display_data"
    }
   ],
   "source": [
    "from sklearn.linear_model import SGDClassifier\n",
    "trainer = {\n",
    "    \"name\": \"Gradient Descent Classifier\",\n",
    "    \"train\": SklearnClassifier(SGDClassifier()).train,\n",
    "}\n",
    "gradient_descent = evaluate_trainer(trainer)"
   ]
  },
  {
   "cell_type": "code",
   "execution_count": null,
   "metadata": {
    "collapsed": true
   },
   "outputs": [],
   "source": [
    "## Random Forest"
   ]
  },
  {
   "cell_type": "code",
   "execution_count": null,
   "metadata": {
    "collapsed": true
   },
   "outputs": [],
   "source": [
    "from sklearn.ensemble import RandomForestClassifier"
   ]
  }
 ],
 "metadata": {
  "kernelspec": {
   "display_name": "Python 3",
   "language": "python",
   "name": "python3"
  },
  "language_info": {
   "codemirror_mode": {
    "name": "ipython",
    "version": 3
   },
   "file_extension": ".py",
   "mimetype": "text/x-python",
   "name": "python",
   "nbconvert_exporter": "python",
   "pygments_lexer": "ipython3",
   "version": "3.5.1"
  }
 },
 "nbformat": 4,
 "nbformat_minor": 0
}
