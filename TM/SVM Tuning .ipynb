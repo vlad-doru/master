{
 "cells": [
  {
   "cell_type": "code",
   "execution_count": 2,
   "metadata": {
    "collapsed": false
   },
   "outputs": [
    {
     "name": "stdout",
     "output_type": "stream",
     "text": [
      "Read the data file from ./airline-twitter-sentiment/Tweets.csv\n",
      "We have 14640 labelled examples.\n"
     ]
    }
   ],
   "source": [
    "import matplotlib\n",
    "import numpy as np\n",
    "import matplotlib.pyplot as plt\n",
    "%matplotlib inline  \n",
    "\n",
    "import pandas \n",
    "\n",
    "from lib import loading\n",
    "\n",
    "df = loading.load_data()\n",
    "print(\"We have {0} labelled examples.\".format(len(df)))"
   ]
  },
  {
   "cell_type": "code",
   "execution_count": 3,
   "metadata": {
    "collapsed": false
   },
   "outputs": [
    {
     "name": "stdout",
     "output_type": "stream",
     "text": [
      "Using a total of 14640 tweets\n"
     ]
    }
   ],
   "source": [
    "from lib import processing\n",
    "\n",
    "data = processing.process_data(df)"
   ]
  },
  {
   "cell_type": "code",
   "execution_count": 4,
   "metadata": {
    "collapsed": false
   },
   "outputs": [
    {
     "name": "stdout",
     "output_type": "stream",
     "text": [
      "Unigram features 1332\n",
      "Bigram features:  1385\n"
     ]
    }
   ],
   "source": [
    "from lib import classify\n",
    "from nltk.sentiment import SentimentAnalyzer\n",
    "\n",
    "sentim_analyzer = SentimentAnalyzer()\n",
    "classify.add_features(data, sentim_analyzer, min_freq = 20)"
   ]
  },
  {
   "cell_type": "markdown",
   "metadata": {},
   "source": [
    "## Linear SVC"
   ]
  },
  {
   "cell_type": "code",
   "execution_count": 5,
   "metadata": {
    "collapsed": false
   },
   "outputs": [
    {
     "name": "stdout",
     "output_type": "stream",
     "text": [
      "-------------------------------\n",
      "Training with C =  0.25\n",
      "Training: Linear SVC Classifier\n",
      "Sampled 3000 elements\n",
      "\tTraining fold 1\n",
      "Training classifier\n",
      "\tEvaluating fold 1\n",
      "Evaluating SklearnClassifier results...\n",
      "\tTraining fold 2\n",
      "Training classifier\n",
      "\tEvaluating fold 2\n",
      "Evaluating SklearnClassifier results...\n",
      "\tTraining fold 3\n",
      "Training classifier\n",
      "\tEvaluating fold 3\n",
      "Evaluating SklearnClassifier results...\n",
      "\tTraining fold 4\n",
      "Training classifier\n",
      "\tEvaluating fold 4\n",
      "Evaluating SklearnClassifier results...\n",
      "\tTraining fold 5\n",
      "Training classifier\n",
      "\tEvaluating fold 5\n",
      "Evaluating SklearnClassifier results...\n",
      "\tTraining fold 6\n",
      "Training classifier\n",
      "\tEvaluating fold 6\n",
      "Evaluating SklearnClassifier results...\n",
      "\tTraining fold 7\n",
      "Training classifier\n",
      "\tEvaluating fold 7\n",
      "Evaluating SklearnClassifier results...\n",
      "\tTraining fold 8\n",
      "Training classifier\n",
      "\tEvaluating fold 8\n",
      "Evaluating SklearnClassifier results...\n",
      "\tTraining fold 9\n",
      "Training classifier\n",
      "\tEvaluating fold 9\n",
      "Evaluating SklearnClassifier results...\n",
      "\tTraining fold 10\n",
      "Training classifier\n",
      "\tEvaluating fold 10\n",
      "Evaluating SklearnClassifier results...\n",
      "-------------------------------\n",
      "Training with C =  0.5\n",
      "Training: Linear SVC Classifier\n",
      "Sampled 3000 elements\n",
      "\tTraining fold 1\n",
      "Training classifier\n",
      "\tEvaluating fold 1\n",
      "Evaluating SklearnClassifier results...\n",
      "\tTraining fold 2\n",
      "Training classifier\n",
      "\tEvaluating fold 2\n",
      "Evaluating SklearnClassifier results...\n",
      "\tTraining fold 3\n",
      "Training classifier\n",
      "\tEvaluating fold 3\n",
      "Evaluating SklearnClassifier results...\n",
      "\tTraining fold 4\n",
      "Training classifier\n",
      "\tEvaluating fold 4\n",
      "Evaluating SklearnClassifier results...\n",
      "\tTraining fold 5\n",
      "Training classifier\n",
      "\tEvaluating fold 5\n",
      "Evaluating SklearnClassifier results...\n",
      "\tTraining fold 6\n",
      "Training classifier\n",
      "\tEvaluating fold 6\n",
      "Evaluating SklearnClassifier results...\n",
      "\tTraining fold 7\n",
      "Training classifier\n",
      "\tEvaluating fold 7\n",
      "Evaluating SklearnClassifier results...\n",
      "\tTraining fold 8\n",
      "Training classifier\n",
      "\tEvaluating fold 8\n",
      "Evaluating SklearnClassifier results...\n",
      "\tTraining fold 9\n",
      "Training classifier\n",
      "\tEvaluating fold 9\n",
      "Evaluating SklearnClassifier results...\n",
      "\tTraining fold 10\n",
      "Training classifier\n",
      "\tEvaluating fold 10\n",
      "Evaluating SklearnClassifier results...\n",
      "-------------------------------\n",
      "Training with C =  1\n",
      "Training: Linear SVC Classifier\n",
      "Sampled 3000 elements\n",
      "\tTraining fold 1\n",
      "Training classifier\n",
      "\tEvaluating fold 1\n",
      "Evaluating SklearnClassifier results...\n",
      "\tTraining fold 2\n",
      "Training classifier\n",
      "\tEvaluating fold 2\n",
      "Evaluating SklearnClassifier results...\n",
      "\tTraining fold 3\n",
      "Training classifier\n",
      "\tEvaluating fold 3\n",
      "Evaluating SklearnClassifier results...\n",
      "\tTraining fold 4\n",
      "Training classifier\n",
      "\tEvaluating fold 4\n",
      "Evaluating SklearnClassifier results...\n",
      "\tTraining fold 5\n",
      "Training classifier\n",
      "\tEvaluating fold 5\n",
      "Evaluating SklearnClassifier results...\n",
      "\tTraining fold 6\n",
      "Training classifier\n",
      "\tEvaluating fold 6\n",
      "Evaluating SklearnClassifier results...\n",
      "\tTraining fold 7\n",
      "Training classifier\n",
      "\tEvaluating fold 7\n",
      "Evaluating SklearnClassifier results...\n",
      "\tTraining fold 8\n",
      "Training classifier\n",
      "\tEvaluating fold 8\n",
      "Evaluating SklearnClassifier results...\n",
      "\tTraining fold 9\n",
      "Training classifier\n",
      "\tEvaluating fold 9\n",
      "Evaluating SklearnClassifier results...\n",
      "\tTraining fold 10\n",
      "Training classifier\n",
      "\tEvaluating fold 10\n",
      "Evaluating SklearnClassifier results...\n",
      "-------------------------------\n",
      "Training with C =  2\n",
      "Training: Linear SVC Classifier\n",
      "Sampled 3000 elements\n",
      "\tTraining fold 1\n",
      "Training classifier\n",
      "\tEvaluating fold 1\n",
      "Evaluating SklearnClassifier results...\n",
      "\tTraining fold 2\n",
      "Training classifier\n",
      "\tEvaluating fold 2\n",
      "Evaluating SklearnClassifier results...\n",
      "\tTraining fold 3\n",
      "Training classifier\n",
      "\tEvaluating fold 3\n",
      "Evaluating SklearnClassifier results...\n",
      "\tTraining fold 4\n",
      "Training classifier\n",
      "\tEvaluating fold 4\n",
      "Evaluating SklearnClassifier results...\n",
      "\tTraining fold 5\n",
      "Training classifier\n",
      "\tEvaluating fold 5\n",
      "Evaluating SklearnClassifier results...\n",
      "\tTraining fold 6\n",
      "Training classifier\n",
      "\tEvaluating fold 6\n",
      "Evaluating SklearnClassifier results...\n",
      "\tTraining fold 7\n",
      "Training classifier\n",
      "\tEvaluating fold 7\n",
      "Evaluating SklearnClassifier results...\n",
      "\tTraining fold 8\n",
      "Training classifier\n",
      "\tEvaluating fold 8\n",
      "Evaluating SklearnClassifier results...\n",
      "\tTraining fold 9\n",
      "Training classifier\n",
      "\tEvaluating fold 9\n",
      "Evaluating SklearnClassifier results...\n",
      "\tTraining fold 10\n",
      "Training classifier\n",
      "\tEvaluating fold 10\n",
      "Evaluating SklearnClassifier results...\n",
      "-------------------------------\n",
      "Training with C =  4\n",
      "Training: Linear SVC Classifier\n",
      "Sampled 3000 elements\n",
      "\tTraining fold 1\n",
      "Training classifier\n",
      "\tEvaluating fold 1\n",
      "Evaluating SklearnClassifier results...\n",
      "\tTraining fold 2\n",
      "Training classifier\n",
      "\tEvaluating fold 2\n",
      "Evaluating SklearnClassifier results...\n",
      "\tTraining fold 3\n",
      "Training classifier\n",
      "\tEvaluating fold 3\n",
      "Evaluating SklearnClassifier results...\n",
      "\tTraining fold 4\n",
      "Training classifier\n",
      "\tEvaluating fold 4\n",
      "Evaluating SklearnClassifier results...\n",
      "\tTraining fold 5\n",
      "Training classifier\n",
      "\tEvaluating fold 5\n",
      "Evaluating SklearnClassifier results...\n",
      "\tTraining fold 6\n",
      "Training classifier\n",
      "\tEvaluating fold 6\n",
      "Evaluating SklearnClassifier results...\n",
      "\tTraining fold 7\n",
      "Training classifier\n",
      "\tEvaluating fold 7\n",
      "Evaluating SklearnClassifier results...\n",
      "\tTraining fold 8\n",
      "Training classifier\n",
      "\tEvaluating fold 8\n",
      "Evaluating SklearnClassifier results...\n",
      "\tTraining fold 9\n",
      "Training classifier\n",
      "\tEvaluating fold 9\n",
      "Evaluating SklearnClassifier results...\n",
      "\tTraining fold 10\n",
      "Training classifier\n",
      "\tEvaluating fold 10\n",
      "Evaluating SklearnClassifier results...\n"
     ]
    }
   ],
   "source": [
    "from sklearn.svm import LinearSVC\n",
    "from nltk.classify import SklearnClassifier\n",
    "\n",
    "#evaluations = []\n",
    "c_range = [0.25, 0.5, 1, 2, 4, 0]\n",
    "for c in c_range: \n",
    "    if c != 0 :\n",
    "        continue\n",
    "    trainer = {\n",
    "    \"name\": \"Linear SVC Classifier\",\n",
    "    \"train\": SklearnClassifier(LinearSVC(dual = False, # because number of samples > number of features,\n",
    "                                         C = c,\n",
    "                                        )).train,\n",
    "    }\n",
    "    print(\"-------------------------------\")\n",
    "    print(\"Training with C = \", c)\n",
    "    e = classify.train_model(data, sentim_analyzer, trainer, sample_size = 3000)\n",
    "    evaluations.append(e)\n",
    "\n"
   ]
  },
  {
   "cell_type": "code",
   "execution_count": 7,
   "metadata": {
    "collapsed": false
   },
   "outputs": [
    {
     "data": {
      "text/plain": [
       "<matplotlib.text.Text at 0x10bcd90f0>"
      ]
     },
     "execution_count": 7,
     "metadata": {},
     "output_type": "execute_result"
    },
    {
     "data": {
      "image/png": "[encoded data removed]",
      "text/plain": [
       "<matplotlib.figure.Figure at 0x10bce2eb8>"
      ]
     },
     "metadata": {},
     "output_type": "display_data"
    }
   ],
   "source": [
    "eval_data = [[evaluations[j][i]['Accuracy'] for j in range(len(c_range))] for i in range(10)]\n",
    "eval_df = pandas.DataFrame(eval_data, columns = [\"C \" + str(x) for x in c_range])\n",
    "eval_df.plot.box()\n",
    "plt.xlabel(\"Penalty Parameter\")\n",
    "plt.ylabel(\"Accuracy\")\n",
    "plt.title(\"Linear SVM Tuning\")"
   ]
  },
  {
   "cell_type": "code",
   "execution_count": 9,
   "metadata": {
    "collapsed": false
   },
   "outputs": [
    {
     "data": {
      "text/html": [
       "<table border=\"1\" class=\"dataframe\">\n",
       "  <thead>\n",
       "    <tr style=\"text-align: right;\">\n",
       "      <th></th>\n",
       "      <th>C</th>\n",
       "      <th>Accuracy</th>\n",
       "    </tr>\n",
       "  </thead>\n",
       "  <tbody>\n",
       "    <tr>\n",
       "      <th>0</th>\n",
       "      <td>0.25</td>\n",
       "      <td>76.40</td>\n",
       "    </tr>\n",
       "    <tr>\n",
       "      <th>1</th>\n",
       "      <td>0.50</td>\n",
       "      <td>74.87</td>\n",
       "    </tr>\n",
       "    <tr>\n",
       "      <th>2</th>\n",
       "      <td>1.00</td>\n",
       "      <td>73.07</td>\n",
       "    </tr>\n",
       "    <tr>\n",
       "      <th>3</th>\n",
       "      <td>2.00</td>\n",
       "      <td>71.13</td>\n",
       "    </tr>\n",
       "    <tr>\n",
       "      <th>4</th>\n",
       "      <td>4.00</td>\n",
       "      <td>70.57</td>\n",
       "    </tr>\n",
       "  </tbody>\n",
       "</table>"
      ],
      "text/plain": [
       "<IPython.core.display.HTML object>"
      ]
     },
     "execution_count": 9,
     "metadata": {},
     "output_type": "execute_result"
    }
   ],
   "source": [
    "from IPython.display import display, HTML\n",
    "\n",
    "summary_accuracy =  eval_df.mean(axis = 0).round(4) * 100\n",
    "final_df = pandas.DataFrame(list(zip(c_range, summary_accuracy)), columns=[\"C\", \"Accuracy\"])\n",
    "HTML(final_df.to_html())"
   ]
  },
  {
   "cell_type": "markdown",
   "metadata": {},
   "source": [
    "# Concluzie\n",
    "\n",
    "### Valoarea optima pentru C este 0.25\n"
   ]
  }
 ],
 "metadata": {
  "kernelspec": {
   "display_name": "Python 3",
   "language": "python",
   "name": "python3"
  },
  "language_info": {
   "codemirror_mode": {
    "name": "ipython",
    "version": 3
   },
   "file_extension": ".py",
   "mimetype": "text/x-python",
   "name": "python",
   "nbconvert_exporter": "python",
   "pygments_lexer": "ipython3",
   "version": "3.5.1"
  }
 },
 "nbformat": 4,
 "nbformat_minor": 0
}
