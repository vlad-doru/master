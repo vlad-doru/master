{
 "cells": [
  {
   "cell_type": "code",
   "execution_count": 1,
   "metadata": {
    "collapsed": false
   },
   "outputs": [
    {
     "name": "stdout",
     "output_type": "stream",
     "text": [
      "Read the data file from ./airline-twitter-sentiment/Tweets.csv\n",
      "We have 14640 labelled examples.\n"
     ]
    }
   ],
   "source": [
    "import matplotlib\n",
    "import numpy as np\n",
    "import matplotlib.pyplot as plt\n",
    "%matplotlib inline  \n",
    "\n",
    "import pandas \n",
    "\n",
    "from lib import loading\n",
    "\n",
    "df = loading.load_data()\n",
    "print(\"We have {0} labelled examples.\".format(len(df)))"
   ]
  },
  {
   "cell_type": "code",
   "execution_count": 2,
   "metadata": {
    "collapsed": false
   },
   "outputs": [
    {
     "name": "stdout",
     "output_type": "stream",
     "text": [
      "Using a total of 4392 tweets\n",
      "Training sample size: 3965\n",
      "Testing sample size: 427\n"
     ]
    }
   ],
   "source": [
    "from lib import processing\n",
    "\n",
    "training_data, testing_data = processing.process_data(df, sample_size=0.3)"
   ]
  },
  {
   "cell_type": "code",
   "execution_count": 3,
   "metadata": {
    "collapsed": false
   },
   "outputs": [
    {
     "name": "stdout",
     "output_type": "stream",
     "text": [
      "Unigram features 677\n",
      "Bigram features:  205\n"
     ]
    }
   ],
   "source": [
    "from lib import classify\n",
    "from nltk.sentiment import SentimentAnalyzer\n",
    "\n",
    "sentim_analyzer = SentimentAnalyzer()\n",
    "classify.add_features(training_data, sentim_analyzer)\n",
    "train, test = classify.extract_features(training_data, testing_data, sentim_analyzer)\n",
    "\n",
    "def evaluate_trainer(trainer):\n",
    "    classifier, evaluation, _ = classify.train_model(train, test, sentim_analyzer, trainer)\n",
    "    return {\n",
    "        'classifier': classifier,\n",
    "        'evaluation': evaluation,\n",
    "        'trainer': trainer,\n",
    "    }"
   ]
  },
  {
   "cell_type": "markdown",
   "metadata": {},
   "source": [
    "## Linear SVC"
   ]
  },
  {
   "cell_type": "code",
   "execution_count": 17,
   "metadata": {
    "collapsed": false
   },
   "outputs": [
    {
     "name": "stdout",
     "output_type": "stream",
     "text": [
      "Training with c =  0.5 \n",
      "\n",
      "Training: Linear SVC Classifier\n",
      "Training classifier\n",
      "[LibLinear]Evaluating SklearnClassifier results...\n",
      "Training with c =  1.0 \n",
      "\n",
      "Training: Linear SVC Classifier\n",
      "Training classifier\n",
      "[LibLinear]Evaluating SklearnClassifier results...\n",
      "Training with c =  1.5 \n",
      "\n",
      "Training: Linear SVC Classifier\n",
      "Training classifier\n",
      "[LibLinear]Evaluating SklearnClassifier results...\n",
      "Training with c =  2.0 \n",
      "\n",
      "Training: Linear SVC Classifier\n",
      "Training classifier\n",
      "[LibLinear]Evaluating SklearnClassifier results...\n",
      "Training with c =  2.5 \n",
      "\n",
      "Training: Linear SVC Classifier\n",
      "Training classifier\n",
      "[LibLinear]Evaluating SklearnClassifier results...\n",
      "Training with c =  3.0 \n",
      "\n",
      "Training: Linear SVC Classifier\n",
      "Training classifier\n",
      "[LibLinear]Evaluating SklearnClassifier results...\n",
      "Training with c =  3.5 \n",
      "\n",
      "Training: Linear SVC Classifier\n",
      "Training classifier\n",
      "[LibLinear]Evaluating SklearnClassifier results...\n"
     ]
    }
   ],
   "source": [
    "from sklearn.svm import LinearSVC\n",
    "from nltk.classify import SklearnClassifier\n",
    "\n",
    "evaluations = []\n",
    "c_range = np.arange(0.5, 4, 0.5)\n",
    "for c in c_range: \n",
    "    trainer = {\n",
    "    \"name\": \"Linear SVC Classifier\",\n",
    "    \"train\": SklearnClassifier(LinearSVC(dual = False, # because number of samples > number of features,\n",
    "                                         C = c,\n",
    "                                         verbose = 3,\n",
    "                                        )).train,\n",
    "    }\n",
    "    print(\"Training with c = \", c, \"\\n\")\n",
    "    evaluations.append(evaluate_trainer(trainer))\n",
    "\n"
   ]
  },
  {
   "cell_type": "code",
   "execution_count": 18,
   "metadata": {
    "collapsed": false
   },
   "outputs": [
    {
     "data": {
      "text/plain": [
       "<matplotlib.text.Text at 0x11aadaa20>"
      ]
     },
     "execution_count": 18,
     "metadata": {},
     "output_type": "execute_result"
    },
    {
     "data": {
      "image/png": "[encoded data removed]",
      "text/plain": [
       "<matplotlib.figure.Figure at 0x11b89d668>"
      ]
     },
     "metadata": {},
     "output_type": "display_data"
    }
   ],
   "source": [
    "accuracies = [e['evaluation']['Accuracy'] for e in evaluations]\n",
    "plt.plot(c_range, accuracies)\n",
    "plt.xlabel(\"Error parameter value\")\n",
    "plt.ylabel(\"Accuracy\")"
   ]
  },
  {
   "cell_type": "markdown",
   "metadata": {},
   "source": [
    "# Concluzie\n",
    "\n",
    "### Valoarea optima pentru C este 2\n"
   ]
  },
  {
   "cell_type": "code",
   "execution_count": 20,
   "metadata": {
    "collapsed": false
   },
   "outputs": [
    {
     "name": "stdout",
     "output_type": "stream",
     "text": [
      "Training: Linear SVC Classifier\n",
      "Training classifier\n",
      "[LibLinear]Evaluating SklearnClassifier results...\n",
      "0.7213114754098361\n"
     ]
    }
   ],
   "source": [
    "trainer = {\n",
    "\"name\": \"Linear SVC Classifier\",\n",
    "\"train\": SklearnClassifier(LinearSVC(dual = False, # because number of samples > number of features,\n",
    "                                     C = 2,\n",
    "                                     verbose = 3,\n",
    "                                    )).train,\n",
    "}\n",
    "evaluation = (evaluate_trainer(trainer))\n",
    "print(evaluation['evaluation']['Accuracy'])"
   ]
  },
  {
   "cell_type": "code",
   "execution_count": null,
   "metadata": {
    "collapsed": false
   },
   "outputs": [],
   "source": []
  }
 ],
 "metadata": {
  "kernelspec": {
   "display_name": "Python 3",
   "language": "python",
   "name": "python3"
  },
  "language_info": {
   "codemirror_mode": {
    "name": "ipython",
    "version": 3
   },
   "file_extension": ".py",
   "mimetype": "text/x-python",
   "name": "python",
   "nbconvert_exporter": "python",
   "pygments_lexer": "ipython3",
   "version": "3.5.1"
  }
 },
 "nbformat": 4,
 "nbformat_minor": 0
}
