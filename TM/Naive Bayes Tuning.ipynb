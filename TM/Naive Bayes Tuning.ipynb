{
 "cells": [
  {
   "cell_type": "code",
   "execution_count": 1,
   "metadata": {
    "collapsed": false
   },
   "outputs": [
    {
     "name": "stdout",
     "output_type": "stream",
     "text": [
      "Read the data file from ./airline-twitter-sentiment/Tweets.csv\n",
      "We have 14640 labelled examples.\n"
     ]
    }
   ],
   "source": [
    "import matplotlib\n",
    "import numpy as np\n",
    "import matplotlib.pyplot as plt\n",
    "%matplotlib inline  \n",
    "\n",
    "import pandas \n",
    "\n",
    "from lib import loading\n",
    "\n",
    "df = loading.load_data()\n",
    "print(\"We have {0} labelled examples.\".format(len(df)))"
   ]
  },
  {
   "cell_type": "code",
   "execution_count": 3,
   "metadata": {
    "collapsed": false
   },
   "outputs": [
    {
     "name": "stdout",
     "output_type": "stream",
     "text": [
      "Using a total of 14640 tweets\n"
     ]
    }
   ],
   "source": [
    "from lib import processing\n",
    "\n",
    "data = processing.process_data(df)"
   ]
  },
  {
   "cell_type": "code",
   "execution_count": 11,
   "metadata": {
    "collapsed": false
   },
   "outputs": [
    {
     "name": "stdout",
     "output_type": "stream",
     "text": [
      "Unigram features 1332\n",
      "Bigram features:  1385\n"
     ]
    }
   ],
   "source": [
    "from lib import classify\n",
    "from nltk.sentiment import SentimentAnalyzer\n",
    "\n",
    "sentim_analyzer = SentimentAnalyzer()\n",
    "classify.add_features(data, sentim_analyzer, min_freq = 20)"
   ]
  },
  {
   "cell_type": "markdown",
   "metadata": {},
   "source": [
    "## Naive Bayes"
   ]
  },
  {
   "cell_type": "code",
   "execution_count": 12,
   "metadata": {
    "collapsed": false
   },
   "outputs": [
    {
     "name": "stdout",
     "output_type": "stream",
     "text": [
      "-------------------------------\n",
      "Training with alpha =  0\n",
      "Training: Naive Bayes Classifier\n",
      "Sampled 3000 elements\n",
      "\tTraining fold 1\n",
      "Training classifier\n",
      "\tEvaluating fold 1\n",
      "Evaluating SklearnClassifier results...\n",
      "\tTraining fold 2\n",
      "Training classifier\n",
      "\tEvaluating fold 2\n",
      "Evaluating SklearnClassifier results...\n",
      "\tTraining fold 3\n",
      "Training classifier\n",
      "\tEvaluating fold 3\n",
      "Evaluating SklearnClassifier results...\n",
      "\tTraining fold 4\n",
      "Training classifier\n",
      "\tEvaluating fold 4\n",
      "Evaluating SklearnClassifier results...\n",
      "\tTraining fold 5\n",
      "Training classifier\n",
      "\tEvaluating fold 5\n",
      "Evaluating SklearnClassifier results...\n",
      "\tTraining fold 6\n",
      "Training classifier\n",
      "\tEvaluating fold 6\n",
      "Evaluating SklearnClassifier results...\n",
      "\tTraining fold 7\n",
      "Training classifier\n",
      "\tEvaluating fold 7\n",
      "Evaluating SklearnClassifier results...\n",
      "\tTraining fold 8\n",
      "Training classifier\n",
      "\tEvaluating fold 8\n",
      "Evaluating SklearnClassifier results...\n",
      "\tTraining fold 9\n",
      "Training classifier\n",
      "\tEvaluating fold 9\n",
      "Evaluating SklearnClassifier results...\n",
      "\tTraining fold 10\n",
      "Training classifier\n",
      "\tEvaluating fold 10\n",
      "Evaluating SklearnClassifier results...\n",
      "-------------------------------\n",
      "Training with alpha =  0.25\n",
      "Training: Naive Bayes Classifier\n",
      "Sampled 3000 elements\n",
      "\tTraining fold 1\n",
      "Training classifier\n",
      "\tEvaluating fold 1\n",
      "Evaluating SklearnClassifier results...\n",
      "\tTraining fold 2\n",
      "Training classifier\n",
      "\tEvaluating fold 2\n",
      "Evaluating SklearnClassifier results...\n",
      "\tTraining fold 3\n",
      "Training classifier\n",
      "\tEvaluating fold 3\n",
      "Evaluating SklearnClassifier results...\n",
      "\tTraining fold 4\n",
      "Training classifier\n",
      "\tEvaluating fold 4\n",
      "Evaluating SklearnClassifier results...\n",
      "\tTraining fold 5\n",
      "Training classifier\n",
      "\tEvaluating fold 5\n",
      "Evaluating SklearnClassifier results...\n",
      "\tTraining fold 6\n",
      "Training classifier\n",
      "\tEvaluating fold 6\n",
      "Evaluating SklearnClassifier results...\n",
      "\tTraining fold 7\n",
      "Training classifier\n",
      "\tEvaluating fold 7\n",
      "Evaluating SklearnClassifier results...\n",
      "\tTraining fold 8\n",
      "Training classifier\n",
      "\tEvaluating fold 8\n",
      "Evaluating SklearnClassifier results...\n",
      "\tTraining fold 9\n",
      "Training classifier\n",
      "\tEvaluating fold 9\n",
      "Evaluating SklearnClassifier results...\n",
      "\tTraining fold 10\n",
      "Training classifier\n",
      "\tEvaluating fold 10\n",
      "Evaluating SklearnClassifier results...\n",
      "-------------------------------\n",
      "Training with alpha =  0.5\n",
      "Training: Naive Bayes Classifier\n",
      "Sampled 3000 elements\n",
      "\tTraining fold 1\n",
      "Training classifier\n",
      "\tEvaluating fold 1\n",
      "Evaluating SklearnClassifier results...\n",
      "\tTraining fold 2\n",
      "Training classifier\n",
      "\tEvaluating fold 2\n",
      "Evaluating SklearnClassifier results...\n",
      "\tTraining fold 3\n",
      "Training classifier\n",
      "\tEvaluating fold 3\n",
      "Evaluating SklearnClassifier results...\n",
      "\tTraining fold 4\n",
      "Training classifier\n",
      "\tEvaluating fold 4\n",
      "Evaluating SklearnClassifier results...\n",
      "\tTraining fold 5\n",
      "Training classifier\n",
      "\tEvaluating fold 5\n",
      "Evaluating SklearnClassifier results...\n",
      "\tTraining fold 6\n",
      "Training classifier\n",
      "\tEvaluating fold 6\n",
      "Evaluating SklearnClassifier results...\n",
      "\tTraining fold 7\n",
      "Training classifier\n",
      "\tEvaluating fold 7\n",
      "Evaluating SklearnClassifier results...\n",
      "\tTraining fold 8\n",
      "Training classifier\n",
      "\tEvaluating fold 8\n",
      "Evaluating SklearnClassifier results...\n",
      "\tTraining fold 9\n",
      "Training classifier\n",
      "\tEvaluating fold 9\n",
      "Evaluating SklearnClassifier results...\n",
      "\tTraining fold 10\n",
      "Training classifier\n",
      "\tEvaluating fold 10\n",
      "Evaluating SklearnClassifier results...\n",
      "-------------------------------\n",
      "Training with alpha =  0.75\n",
      "Training: Naive Bayes Classifier\n",
      "Sampled 3000 elements\n",
      "\tTraining fold 1\n",
      "Training classifier\n",
      "\tEvaluating fold 1\n",
      "Evaluating SklearnClassifier results...\n",
      "\tTraining fold 2\n",
      "Training classifier\n",
      "\tEvaluating fold 2\n",
      "Evaluating SklearnClassifier results...\n",
      "\tTraining fold 3\n",
      "Training classifier\n",
      "\tEvaluating fold 3\n",
      "Evaluating SklearnClassifier results...\n",
      "\tTraining fold 4\n",
      "Training classifier\n",
      "\tEvaluating fold 4\n",
      "Evaluating SklearnClassifier results...\n",
      "\tTraining fold 5\n",
      "Training classifier\n",
      "\tEvaluating fold 5\n",
      "Evaluating SklearnClassifier results...\n",
      "\tTraining fold 6\n",
      "Training classifier\n",
      "\tEvaluating fold 6\n",
      "Evaluating SklearnClassifier results...\n",
      "\tTraining fold 7\n",
      "Training classifier\n",
      "\tEvaluating fold 7\n",
      "Evaluating SklearnClassifier results...\n",
      "\tTraining fold 8\n",
      "Training classifier\n",
      "\tEvaluating fold 8\n",
      "Evaluating SklearnClassifier results...\n",
      "\tTraining fold 9\n",
      "Training classifier\n",
      "\tEvaluating fold 9\n",
      "Evaluating SklearnClassifier results...\n",
      "\tTraining fold 10\n",
      "Training classifier\n",
      "\tEvaluating fold 10\n",
      "Evaluating SklearnClassifier results...\n",
      "-------------------------------\n",
      "Training with alpha =  1\n",
      "Training: Naive Bayes Classifier\n",
      "Sampled 3000 elements\n",
      "\tTraining fold 1\n",
      "Training classifier\n",
      "\tEvaluating fold 1\n",
      "Evaluating SklearnClassifier results...\n",
      "\tTraining fold 2\n",
      "Training classifier\n",
      "\tEvaluating fold 2\n",
      "Evaluating SklearnClassifier results...\n",
      "\tTraining fold 3\n",
      "Training classifier\n",
      "\tEvaluating fold 3\n",
      "Evaluating SklearnClassifier results...\n",
      "\tTraining fold 4\n",
      "Training classifier\n",
      "\tEvaluating fold 4\n",
      "Evaluating SklearnClassifier results...\n",
      "\tTraining fold 5\n",
      "Training classifier\n",
      "\tEvaluating fold 5\n",
      "Evaluating SklearnClassifier results...\n",
      "\tTraining fold 6\n",
      "Training classifier\n",
      "\tEvaluating fold 6\n",
      "Evaluating SklearnClassifier results...\n",
      "\tTraining fold 7\n",
      "Training classifier\n",
      "\tEvaluating fold 7\n",
      "Evaluating SklearnClassifier results...\n",
      "\tTraining fold 8\n",
      "Training classifier\n",
      "\tEvaluating fold 8\n",
      "Evaluating SklearnClassifier results...\n",
      "\tTraining fold 9\n",
      "Training classifier\n",
      "\tEvaluating fold 9\n",
      "Evaluating SklearnClassifier results...\n",
      "\tTraining fold 10\n",
      "Training classifier\n",
      "\tEvaluating fold 10\n",
      "Evaluating SklearnClassifier results...\n"
     ]
    }
   ],
   "source": [
    "from nltk.classify import SklearnClassifier\n",
    "from sklearn.naive_bayes import BernoulliNB\n",
    "\n",
    "evaluations = []\n",
    "alpha_range = [0, 0.25, 0.5, 0.75, 1]\n",
    "for alpha in alpha_range: \n",
    "    trainer = {\n",
    "        'name': 'Naive Bayes Classifier',\n",
    "        'train': SklearnClassifier(BernoulliNB(\n",
    "            fit_prior = True,  # learn class probabilities\n",
    "            alpha = alpha,     # smooth to avoid 0 probability issue on non existent featurest\n",
    "            )).train,\n",
    "    }\n",
    "    print(\"-------------------------------\")\n",
    "    print(\"Training with alpha = \", alpha)\n",
    "    e = classify.train_model(data, sentim_analyzer, trainer, sample_size = 3000)\n",
    "    evaluations.append(e)\n",
    "\n"
   ]
  },
  {
   "cell_type": "code",
   "execution_count": 18,
   "metadata": {
    "collapsed": false
   },
   "outputs": [
    {
     "data": {
      "text/plain": [
       "<matplotlib.text.Text at 0x1102a9b38>"
      ]
     },
     "execution_count": 18,
     "metadata": {},
     "output_type": "execute_result"
    },
    {
     "data": {
      "image/png": "[encoded data removed]",
      "text/plain": [
       "<matplotlib.figure.Figure at 0x1102d52e8>"
      ]
     },
     "metadata": {},
     "output_type": "display_data"
    }
   ],
   "source": [
    "eval_data = [[evaluations[j][i]['Accuracy'] for j in range(len(alpha_range))] for i in range(10)]\n",
    "eval_df = pandas.DataFrame(eval_data, columns = [\"Alpha \" + str(x) for x in alpha_range])\n",
    "eval_df.plot.box()\n",
    "plt.xlabel(\"Smoothing Value\")\n",
    "plt.ylabel(\"Accuracy\")\n",
    "plt.title(\"Naive Bayes Classifier Tuning\")"
   ]
  },
  {
   "cell_type": "code",
   "execution_count": 15,
   "metadata": {
    "collapsed": false
   },
   "outputs": [
    {
     "data": {
      "text/html": [
       "<table border=\"1\" class=\"dataframe\">\n",
       "  <thead>\n",
       "    <tr style=\"text-align: right;\">\n",
       "      <th></th>\n",
       "      <th>Alpha</th>\n",
       "      <th>Accuracy</th>\n",
       "    </tr>\n",
       "  </thead>\n",
       "  <tbody>\n",
       "    <tr>\n",
       "      <th>0</th>\n",
       "      <td>0.00</td>\n",
       "      <td>71.07</td>\n",
       "    </tr>\n",
       "    <tr>\n",
       "      <th>1</th>\n",
       "      <td>0.25</td>\n",
       "      <td>76.10</td>\n",
       "    </tr>\n",
       "    <tr>\n",
       "      <th>2</th>\n",
       "      <td>0.50</td>\n",
       "      <td>74.80</td>\n",
       "    </tr>\n",
       "    <tr>\n",
       "      <th>3</th>\n",
       "      <td>0.75</td>\n",
       "      <td>75.13</td>\n",
       "    </tr>\n",
       "    <tr>\n",
       "      <th>4</th>\n",
       "      <td>1.00</td>\n",
       "      <td>76.37</td>\n",
       "    </tr>\n",
       "  </tbody>\n",
       "</table>"
      ],
      "text/plain": [
       "<IPython.core.display.HTML object>"
      ]
     },
     "execution_count": 15,
     "metadata": {},
     "output_type": "execute_result"
    }
   ],
   "source": [
    "from IPython.display import display, HTML\n",
    "\n",
    "summary_accuracy =  eval_df.mean(axis = 0).round(4) * 100\n",
    "final_df = pandas.DataFrame(list(zip(alpha_range, summary_accuracy)), columns=[\"Alpha\", \"Accuracy\"])\n",
    "HTML(final_df.to_html())"
   ]
  },
  {
   "cell_type": "markdown",
   "metadata": {},
   "source": [
    "### Dupa cum se poate observa, valoarea optima a parametrului alpha este 1\n",
    "\n",
    "# Concluzie\n",
    "\n",
    "Pentru un clasificator de tipul Naive Bayes, acesta are o performanța buna cu un factor de smoothing egal cu 1, acela care este standard.\n"
   ]
  }
 ],
 "metadata": {
  "kernelspec": {
   "display_name": "Python 3",
   "language": "python",
   "name": "python3"
  },
  "language_info": {
   "codemirror_mode": {
    "name": "ipython",
    "version": 3
   },
   "file_extension": ".py",
   "mimetype": "text/x-python",
   "name": "python",
   "nbconvert_exporter": "python",
   "pygments_lexer": "ipython3",
   "version": "3.5.1"
  }
 },
 "nbformat": 4,
 "nbformat_minor": 0
}
