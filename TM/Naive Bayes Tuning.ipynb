{
 "cells": [
  {
   "cell_type": "code",
   "execution_count": 1,
   "metadata": {
    "collapsed": false
   },
   "outputs": [
    {
     "name": "stdout",
     "output_type": "stream",
     "text": [
      "Read the data file from ./airline-twitter-sentiment/Tweets.csv\n",
      "We have 14640 labelled examples.\n"
     ]
    }
   ],
   "source": [
    "import matplotlib\n",
    "import numpy as np\n",
    "import matplotlib.pyplot as plt\n",
    "%matplotlib inline  \n",
    "\n",
    "import pandas \n",
    "\n",
    "from lib import loading\n",
    "\n",
    "df = loading.load_data()\n",
    "print(\"We have {0} labelled examples.\".format(len(df)))"
   ]
  },
  {
   "cell_type": "code",
   "execution_count": 2,
   "metadata": {
    "collapsed": false
   },
   "outputs": [
    {
     "name": "stdout",
     "output_type": "stream",
     "text": [
      "Using a total of 4392 tweets\n",
      "Training sample size: 3964\n",
      "Testing sample size: 428\n"
     ]
    }
   ],
   "source": [
    "from lib import processing\n",
    "\n",
    "training_data, testing_data = processing.process_data(df, sample_size=0.3)"
   ]
  },
  {
   "cell_type": "code",
   "execution_count": 3,
   "metadata": {
    "collapsed": false
   },
   "outputs": [
    {
     "name": "stdout",
     "output_type": "stream",
     "text": [
      "Unigram features 682\n",
      "Bigram features:  199\n"
     ]
    }
   ],
   "source": [
    "from lib import classify\n",
    "from nltk.sentiment import SentimentAnalyzer\n",
    "\n",
    "sentim_analyzer = SentimentAnalyzer()\n",
    "classify.add_features(training_data, sentim_analyzer)\n",
    "train, test = classify.extract_features(training_data, testing_data, sentim_analyzer)\n",
    "\n",
    "def evaluate_trainer(trainer):\n",
    "    classifier, evaluation, _ = classify.train_model(train, test, sentim_analyzer, trainer)\n",
    "    return {\n",
    "        'classifier': classifier,\n",
    "        'evaluation': evaluation,\n",
    "        'trainer': trainer,\n",
    "    }"
   ]
  },
  {
   "cell_type": "markdown",
   "metadata": {},
   "source": [
    "## Naive Bayes"
   ]
  },
  {
   "cell_type": "code",
   "execution_count": 4,
   "metadata": {
    "collapsed": false
   },
   "outputs": [
    {
     "name": "stdout",
     "output_type": "stream",
     "text": [
      "Training with alpha =  0.0\n",
      "Training: Naive Bayes Classifier\n",
      "Training classifier\n",
      "Evaluating SklearnClassifier results...\n",
      "Training with alpha =  0.25\n",
      "Training: Naive Bayes Classifier\n",
      "Training classifier\n",
      "Evaluating SklearnClassifier results...\n",
      "Training with alpha =  0.5\n",
      "Training: Naive Bayes Classifier\n",
      "Training classifier\n",
      "Evaluating SklearnClassifier results...\n",
      "Training with alpha =  0.75\n",
      "Training: Naive Bayes Classifier\n",
      "Training classifier\n",
      "Evaluating SklearnClassifier results...\n",
      "Training with alpha =  1.0\n",
      "Training: Naive Bayes Classifier\n",
      "Training classifier\n",
      "Evaluating SklearnClassifier results...\n",
      "Training with alpha =  1.25\n",
      "Training: Naive Bayes Classifier\n",
      "Training classifier\n",
      "Evaluating SklearnClassifier results...\n",
      "Training with alpha =  1.5\n",
      "Training: Naive Bayes Classifier\n",
      "Training classifier\n",
      "Evaluating SklearnClassifier results...\n",
      "Training with alpha =  1.75\n",
      "Training: Naive Bayes Classifier\n",
      "Training classifier\n",
      "Evaluating SklearnClassifier results...\n"
     ]
    }
   ],
   "source": [
    "from nltk.classify import SklearnClassifier\n",
    "from sklearn.naive_bayes import BernoulliNB\n",
    "\n",
    "evaluations = []\n",
    "for alpha in np.arange(0, 2, 0.25): \n",
    "    trainer = {\n",
    "        'name': 'Naive Bayes Classifier',\n",
    "        'train': SklearnClassifier(BernoulliNB(\n",
    "            fit_prior = True,\n",
    "            alpha = alpha,\n",
    "            )).train,\n",
    "    }\n",
    "    print(\"Training with alpha = \", alpha)\n",
    "    evaluations.append(evaluate_trainer(trainer))\n",
    "\n"
   ]
  },
  {
   "cell_type": "code",
   "execution_count": 5,
   "metadata": {
    "collapsed": false
   },
   "outputs": [
    {
     "data": {
      "text/plain": [
       "<matplotlib.text.Text at 0x10a61b2e8>"
      ]
     },
     "execution_count": 5,
     "metadata": {},
     "output_type": "execute_result"
    },
    {
     "data": {
      "image/png": "[encoded data removed]",
      "text/plain": [
       "<matplotlib.figure.Figure at 0x10a9c0710>"
      ]
     },
     "metadata": {},
     "output_type": "display_data"
    }
   ],
   "source": [
    "accuracies = [e['evaluation']['Accuracy'] for e in evaluations]\n",
    "plt.plot(np.arange(0, 2, .25), accuracies)\n",
    "plt.xlabel(\"Alpha Parameter value\")\n",
    "plt.ylabel(\"Accuracy\")"
   ]
  },
  {
   "cell_type": "markdown",
   "metadata": {},
   "source": [
    "### Dupa cum se poate observa, diferentele de precizie nu sunt considerabile.\n",
    "\n",
    "# Concluzie\n",
    "\n",
    "Pentru un clasificator de tipul Naive Bayes, **valoarea optima a parameterului alpha este 0**\n"
   ]
  },
  {
   "cell_type": "code",
   "execution_count": null,
   "metadata": {
    "collapsed": true
   },
   "outputs": [],
   "source": []
  }
 ],
 "metadata": {
  "kernelspec": {
   "display_name": "Python 3",
   "language": "python",
   "name": "python3"
  },
  "language_info": {
   "codemirror_mode": {
    "name": "ipython",
    "version": 3
   },
   "file_extension": ".py",
   "mimetype": "text/x-python",
   "name": "python",
   "nbconvert_exporter": "python",
   "pygments_lexer": "ipython3",
   "version": "3.5.1"
  }
 },
 "nbformat": 4,
 "nbformat_minor": 0
}
