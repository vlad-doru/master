{
 "cells": [
  {
   "cell_type": "code",
   "execution_count": 1,
   "metadata": {
    "collapsed": false
   },
   "outputs": [
    {
     "name": "stdout",
     "output_type": "stream",
     "text": [
      "Read the data file from ./airline-twitter-sentiment/Tweets.csv\n",
      "We have 14640 labelled examples.\n"
     ]
    }
   ],
   "source": [
    "import matplotlib\n",
    "import numpy as np\n",
    "import matplotlib.pyplot as plt\n",
    "%matplotlib inline  \n",
    "\n",
    "import pandas \n",
    "\n",
    "from lib import loading\n",
    "\n",
    "df = loading.load_data()\n",
    "print(\"We have {0} labelled examples.\".format(len(df)))"
   ]
  },
  {
   "cell_type": "code",
   "execution_count": 2,
   "metadata": {
    "collapsed": false
   },
   "outputs": [
    {
     "name": "stdout",
     "output_type": "stream",
     "text": [
      "Using a total of 14640 tweets\n"
     ]
    }
   ],
   "source": [
    "from lib import processing\n",
    "\n",
    "data = processing.process_data(df)"
   ]
  },
  {
   "cell_type": "code",
   "execution_count": 3,
   "metadata": {
    "collapsed": false
   },
   "outputs": [
    {
     "name": "stdout",
     "output_type": "stream",
     "text": [
      "Unigram features 1332\n",
      "Bigram features:  1385\n"
     ]
    }
   ],
   "source": [
    "from lib import classify\n",
    "from nltk.sentiment import SentimentAnalyzer\n",
    "\n",
    "sentim_analyzer = SentimentAnalyzer()\n",
    "classify.add_features(data, sentim_analyzer, min_freq = 20)"
   ]
  },
  {
   "cell_type": "markdown",
   "metadata": {},
   "source": [
    "## K Nearest Neighbours"
   ]
  },
  {
   "cell_type": "code",
   "execution_count": 4,
   "metadata": {
    "collapsed": false
   },
   "outputs": [
    {
     "name": "stdout",
     "output_type": "stream",
     "text": [
      "-------------------------------\n",
      "Training with k =  3\n",
      "Training: K Nearest Neighbours Classifier\n",
      "Sampled 3000 elements\n",
      "\tTraining fold 1\n",
      "Training classifier\n",
      "\tEvaluating fold 1\n",
      "Evaluating SklearnClassifier results...\n",
      "\tTraining fold 2\n",
      "Training classifier\n",
      "\tEvaluating fold 2\n",
      "Evaluating SklearnClassifier results...\n",
      "\tTraining fold 3\n",
      "Training classifier\n",
      "\tEvaluating fold 3\n",
      "Evaluating SklearnClassifier results...\n",
      "\tTraining fold 4\n",
      "Training classifier\n",
      "\tEvaluating fold 4\n",
      "Evaluating SklearnClassifier results...\n",
      "\tTraining fold 5\n",
      "Training classifier\n",
      "\tEvaluating fold 5\n",
      "Evaluating SklearnClassifier results...\n",
      "\tTraining fold 6\n",
      "Training classifier\n",
      "\tEvaluating fold 6\n",
      "Evaluating SklearnClassifier results...\n",
      "\tTraining fold 7\n",
      "Training classifier\n",
      "\tEvaluating fold 7\n",
      "Evaluating SklearnClassifier results...\n",
      "\tTraining fold 8\n",
      "Training classifier\n",
      "\tEvaluating fold 8\n",
      "Evaluating SklearnClassifier results...\n",
      "\tTraining fold 9\n",
      "Training classifier\n",
      "\tEvaluating fold 9\n",
      "Evaluating SklearnClassifier results...\n",
      "\tTraining fold 10\n",
      "Training classifier\n",
      "\tEvaluating fold 10\n",
      "Evaluating SklearnClassifier results...\n",
      "-------------------------------\n",
      "Training with k =  5\n",
      "Training: K Nearest Neighbours Classifier\n",
      "Sampled 3000 elements\n",
      "\tTraining fold 1\n",
      "Training classifier\n",
      "\tEvaluating fold 1\n",
      "Evaluating SklearnClassifier results...\n",
      "\tTraining fold 2\n",
      "Training classifier\n",
      "\tEvaluating fold 2\n",
      "Evaluating SklearnClassifier results...\n",
      "\tTraining fold 3\n",
      "Training classifier\n",
      "\tEvaluating fold 3\n",
      "Evaluating SklearnClassifier results...\n",
      "\tTraining fold 4\n",
      "Training classifier\n",
      "\tEvaluating fold 4\n",
      "Evaluating SklearnClassifier results...\n",
      "\tTraining fold 5\n",
      "Training classifier\n",
      "\tEvaluating fold 5\n",
      "Evaluating SklearnClassifier results...\n",
      "\tTraining fold 6\n",
      "Training classifier\n",
      "\tEvaluating fold 6\n",
      "Evaluating SklearnClassifier results...\n",
      "\tTraining fold 7\n",
      "Training classifier\n",
      "\tEvaluating fold 7\n",
      "Evaluating SklearnClassifier results...\n",
      "\tTraining fold 8\n",
      "Training classifier\n",
      "\tEvaluating fold 8\n",
      "Evaluating SklearnClassifier results...\n",
      "\tTraining fold 9\n",
      "Training classifier\n",
      "\tEvaluating fold 9\n",
      "Evaluating SklearnClassifier results...\n",
      "\tTraining fold 10\n",
      "Training classifier\n",
      "\tEvaluating fold 10\n",
      "Evaluating SklearnClassifier results...\n",
      "-------------------------------\n",
      "Training with k =  10\n",
      "Training: K Nearest Neighbours Classifier\n",
      "Sampled 3000 elements\n",
      "\tTraining fold 1\n",
      "Training classifier\n",
      "\tEvaluating fold 1\n",
      "Evaluating SklearnClassifier results...\n",
      "\tTraining fold 2\n",
      "Training classifier\n",
      "\tEvaluating fold 2\n",
      "Evaluating SklearnClassifier results...\n",
      "\tTraining fold 3\n",
      "Training classifier\n",
      "\tEvaluating fold 3\n",
      "Evaluating SklearnClassifier results...\n",
      "\tTraining fold 4\n",
      "Training classifier\n",
      "\tEvaluating fold 4\n",
      "Evaluating SklearnClassifier results...\n",
      "\tTraining fold 5\n",
      "Training classifier\n",
      "\tEvaluating fold 5\n",
      "Evaluating SklearnClassifier results...\n",
      "\tTraining fold 6\n",
      "Training classifier\n",
      "\tEvaluating fold 6\n",
      "Evaluating SklearnClassifier results...\n",
      "\tTraining fold 7\n",
      "Training classifier\n",
      "\tEvaluating fold 7\n",
      "Evaluating SklearnClassifier results...\n",
      "\tTraining fold 8\n",
      "Training classifier\n",
      "\tEvaluating fold 8\n",
      "Evaluating SklearnClassifier results...\n",
      "\tTraining fold 9\n",
      "Training classifier\n",
      "\tEvaluating fold 9\n",
      "Evaluating SklearnClassifier results...\n",
      "\tTraining fold 10\n",
      "Training classifier\n",
      "\tEvaluating fold 10\n",
      "Evaluating SklearnClassifier results...\n",
      "-------------------------------\n",
      "Training with k =  15\n",
      "Training: K Nearest Neighbours Classifier\n",
      "Sampled 3000 elements\n",
      "\tTraining fold 1\n",
      "Training classifier\n",
      "\tEvaluating fold 1\n",
      "Evaluating SklearnClassifier results...\n",
      "\tTraining fold 2\n",
      "Training classifier\n",
      "\tEvaluating fold 2\n",
      "Evaluating SklearnClassifier results...\n",
      "\tTraining fold 3\n",
      "Training classifier\n",
      "\tEvaluating fold 3\n",
      "Evaluating SklearnClassifier results...\n",
      "\tTraining fold 4\n",
      "Training classifier\n",
      "\tEvaluating fold 4\n",
      "Evaluating SklearnClassifier results...\n",
      "\tTraining fold 5\n",
      "Training classifier\n",
      "\tEvaluating fold 5\n",
      "Evaluating SklearnClassifier results...\n",
      "\tTraining fold 6\n",
      "Training classifier\n",
      "\tEvaluating fold 6\n",
      "Evaluating SklearnClassifier results...\n",
      "\tTraining fold 7\n",
      "Training classifier\n",
      "\tEvaluating fold 7\n",
      "Evaluating SklearnClassifier results...\n",
      "\tTraining fold 8\n",
      "Training classifier\n",
      "\tEvaluating fold 8\n",
      "Evaluating SklearnClassifier results...\n",
      "\tTraining fold 9\n",
      "Training classifier\n",
      "\tEvaluating fold 9\n",
      "Evaluating SklearnClassifier results...\n",
      "\tTraining fold 10\n",
      "Training classifier\n",
      "\tEvaluating fold 10\n",
      "Evaluating SklearnClassifier results...\n"
     ]
    }
   ],
   "source": [
    "from nltk.classify import SklearnClassifier\n",
    "from sklearn.neighbors import KNeighborsClassifier\n",
    "\n",
    "evaluations = []\n",
    "k_range = [3, 5, 10, 15]\n",
    "for k in k_range: \n",
    "    trainer = {\n",
    "        \"name\": \"K Nearest Neighbours Classifier\",\n",
    "        \"train\": SklearnClassifier(KNeighborsClassifier(\n",
    "                n_neighbors = k,       # number of neighbours used for classification\n",
    "                n_jobs = -1,           # run the classifier in parallel\n",
    "                weights = \"distance\",  # weight the neighbours by their distance\n",
    "            )).train,\n",
    "    }\n",
    "    print(\"-------------------------------\")\n",
    "    print(\"Training with k = \", k)\n",
    "    e = classify.train_model(data, sentim_analyzer, trainer, sample_size = 3000)\n",
    "    evaluations.append(e)\n"
   ]
  },
  {
   "cell_type": "code",
   "execution_count": 5,
   "metadata": {
    "collapsed": false
   },
   "outputs": [
    {
     "data": {
      "text/plain": [
       "<matplotlib.axes._subplots.AxesSubplot at 0x1102a0eb8>"
      ]
     },
     "execution_count": 5,
     "metadata": {},
     "output_type": "execute_result"
    },
    {
     "data": {
      "image/png": "[encoded data removed]",
      "text/plain": [
       "<matplotlib.figure.Figure at 0x112ce16a0>"
      ]
     },
     "metadata": {},
     "output_type": "display_data"
    }
   ],
   "source": [
    "eval_data = [[evaluations[j][i]['Accuracy'] for j in range(len(k_range))] for i in range(10)]\n",
    "eval_df = pandas.DataFrame(eval_data, columns = [\"K Neighbours \" + str(x) for x in k_range])\n",
    "eval_df.plot.box()"
   ]
  },
  {
   "cell_type": "code",
   "execution_count": 6,
   "metadata": {
    "collapsed": false
   },
   "outputs": [
    {
     "data": {
      "text/html": [
       "<table border=\"1\" class=\"dataframe\">\n",
       "  <thead>\n",
       "    <tr style=\"text-align: right;\">\n",
       "      <th></th>\n",
       "      <th>K Neighbours</th>\n",
       "      <th>Accuracy</th>\n",
       "    </tr>\n",
       "  </thead>\n",
       "  <tbody>\n",
       "    <tr>\n",
       "      <th>0</th>\n",
       "      <td>3</td>\n",
       "      <td>48.20</td>\n",
       "    </tr>\n",
       "    <tr>\n",
       "      <th>1</th>\n",
       "      <td>5</td>\n",
       "      <td>44.80</td>\n",
       "    </tr>\n",
       "    <tr>\n",
       "      <th>2</th>\n",
       "      <td>10</td>\n",
       "      <td>36.17</td>\n",
       "    </tr>\n",
       "    <tr>\n",
       "      <th>3</th>\n",
       "      <td>15</td>\n",
       "      <td>43.20</td>\n",
       "    </tr>\n",
       "  </tbody>\n",
       "</table>"
      ],
      "text/plain": [
       "<IPython.core.display.HTML object>"
      ]
     },
     "execution_count": 6,
     "metadata": {},
     "output_type": "execute_result"
    }
   ],
   "source": [
    "from IPython.display import display, HTML\n",
    "\n",
    "summary_accuracy =  eval_df.mean(axis = 0).round(4) * 100\n",
    "final_df = pandas.DataFrame(list(zip(k_range, summary_accuracy)), columns=[\"K Neighbours\", \"Accuracy\"])\n",
    "HTML(final_df.to_html())"
   ]
  },
  {
   "cell_type": "markdown",
   "metadata": {},
   "source": [
    "# Concluzie\n",
    "\n",
    "Valoarea optima pentru cei mai apropiati **k vecini este 3.**\n",
    "\n",
    "## Trebuie remarcat faptul ca kNN este o metoda care nu este fezabila."
   ]
  }
 ],
 "metadata": {
  "kernelspec": {
   "display_name": "Python 3",
   "language": "python",
   "name": "python3"
  },
  "language_info": {
   "codemirror_mode": {
    "name": "ipython",
    "version": 3
   },
   "file_extension": ".py",
   "mimetype": "text/x-python",
   "name": "python",
   "nbconvert_exporter": "python",
   "pygments_lexer": "ipython3",
   "version": "3.5.1"
  }
 },
 "nbformat": 4,
 "nbformat_minor": 0
}
