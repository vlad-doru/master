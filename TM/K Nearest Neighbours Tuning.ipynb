{
 "cells": [
  {
   "cell_type": "code",
   "execution_count": 1,
   "metadata": {
    "collapsed": false
   },
   "outputs": [
    {
     "name": "stdout",
     "output_type": "stream",
     "text": [
      "Read the data file from ./airline-twitter-sentiment/Tweets.csv\n",
      "We have 14640 labelled examples.\n"
     ]
    }
   ],
   "source": [
    "import matplotlib\n",
    "import numpy as np\n",
    "import matplotlib.pyplot as plt\n",
    "%matplotlib inline  \n",
    "\n",
    "import pandas \n",
    "\n",
    "from lib import loading\n",
    "\n",
    "df = loading.load_data()\n",
    "print(\"We have {0} labelled examples.\".format(len(df)))"
   ]
  },
  {
   "cell_type": "code",
   "execution_count": 2,
   "metadata": {
    "collapsed": false
   },
   "outputs": [
    {
     "name": "stdout",
     "output_type": "stream",
     "text": [
      "Using a total of 4392 tweets\n",
      "Training sample size: 3934\n",
      "Testing sample size: 458\n"
     ]
    }
   ],
   "source": [
    "from lib import processing\n",
    "\n",
    "training_data, testing_data = processing.process_data(df, sample_size=0.3)"
   ]
  },
  {
   "cell_type": "code",
   "execution_count": 3,
   "metadata": {
    "collapsed": false
   },
   "outputs": [
    {
     "name": "stdout",
     "output_type": "stream",
     "text": [
      "Unigram features 664\n",
      "Bigram features:  197\n"
     ]
    }
   ],
   "source": [
    "from lib import classify\n",
    "from nltk.sentiment import SentimentAnalyzer\n",
    "\n",
    "sentim_analyzer = SentimentAnalyzer()\n",
    "classify.add_features(training_data, sentim_analyzer)\n",
    "train, test = classify.extract_features(training_data, testing_data, sentim_analyzer)\n",
    "\n",
    "def evaluate_trainer(trainer):\n",
    "    classifier, evaluation, _ = classify.train_model(train, test, sentim_analyzer, trainer)\n",
    "    return {\n",
    "        'classifier': classifier,\n",
    "        'evaluation': evaluation,\n",
    "        'trainer': trainer,\n",
    "    }"
   ]
  },
  {
   "cell_type": "markdown",
   "metadata": {},
   "source": [
    "## K Nearest Neighbours"
   ]
  },
  {
   "cell_type": "code",
   "execution_count": 4,
   "metadata": {
    "collapsed": false
   },
   "outputs": [
    {
     "name": "stdout",
     "output_type": "stream",
     "text": [
      "Training with k =  3\n",
      "Training: K Nearest Neighbours Classifier\n",
      "Training classifier\n",
      "Evaluating SklearnClassifier results...\n",
      "Training with k =  5\n",
      "Training: K Nearest Neighbours Classifier\n",
      "Training classifier\n",
      "Evaluating SklearnClassifier results...\n",
      "Training with k =  10\n",
      "Training: K Nearest Neighbours Classifier\n",
      "Training classifier\n",
      "Evaluating SklearnClassifier results...\n",
      "Training with k =  15\n",
      "Training: K Nearest Neighbours Classifier\n",
      "Training classifier\n",
      "Evaluating SklearnClassifier results...\n"
     ]
    }
   ],
   "source": [
    "from nltk.classify import SklearnClassifier\n",
    "from sklearn.neighbors import KNeighborsClassifier\n",
    "\n",
    "evaluations = []\n",
    "k_range = [3, 5, 10, 15]\n",
    "for k in k_range: \n",
    "    trainer = {\n",
    "        \"name\": \"K Nearest Neighbours Classifier\",\n",
    "        \"train\": SklearnClassifier(KNeighborsClassifier(\n",
    "                n_neighbors = k,\n",
    "                n_jobs = -1,\n",
    "                weights = \"distance\")).train,\n",
    "    }\n",
    "    print(\"Training with k = \", k)\n",
    "    evaluations.append(evaluate_trainer(trainer))\n",
    "\n"
   ]
  },
  {
   "cell_type": "code",
   "execution_count": 5,
   "metadata": {
    "collapsed": false
   },
   "outputs": [
    {
     "data": {
      "text/plain": [
       "<matplotlib.text.Text at 0x1132b6e48>"
      ]
     },
     "execution_count": 5,
     "metadata": {},
     "output_type": "execute_result"
    },
    {
     "data": {
      "image/png": "[encoded data removed]",
      "text/plain": [
       "<matplotlib.figure.Figure at 0x112db5630>"
      ]
     },
     "metadata": {},
     "output_type": "display_data"
    }
   ],
   "source": [
    "accuracies = [e['evaluation']['Accuracy'] for e in evaluations]\n",
    "plt.plot(k_range, accuracies)\n",
    "plt.xlabel(\"K Neighbours Parameter value\")\n",
    "plt.ylabel(\"Accuracy\")"
   ]
  },
  {
   "cell_type": "markdown",
   "metadata": {},
   "source": [
    "# Concluzie\n",
    "\n",
    "### Valoarea optima pentru cei mai apropiati  k vecini este 3."
   ]
  },
  {
   "cell_type": "code",
   "execution_count": 8,
   "metadata": {
    "collapsed": false
   },
   "outputs": [
    {
     "name": "stdout",
     "output_type": "stream",
     "text": [
      "Training: K Nearest Neighbours Classifier\n",
      "Training classifier\n",
      "Evaluating SklearnClassifier results...\n"
     ]
    }
   ],
   "source": [
    "k = 3\n",
    "trainer = {\n",
    "    \"name\": \"K Nearest Neighbours Classifier\",\n",
    "    \"train\": SklearnClassifier(KNeighborsClassifier(n_neighbors = k)).train,\n",
    "    \"weights\": \"distance\",\n",
    "}\n",
    "evaluation = evaluate_trainer(trainer)"
   ]
  },
  {
   "cell_type": "code",
   "execution_count": 9,
   "metadata": {
    "collapsed": false
   },
   "outputs": [
    {
     "name": "stdout",
     "output_type": "stream",
     "text": [
      "{'F-measure [positive]': 0.45544554455445546, 'Precision [negative]': 0.7689243027888446, 'F-measure [neutral]': 0.3076923076923077, 'Recall [positive]': 0.42592592592592593, 'F-measure [negative]': 0.6795774647887325, 'Recall [negative]': 0.6088328075709779, 'Precision [positive]': 0.48936170212765956, 'Recall [neutral]': 0.4367816091954023, 'Precision [neutral]': 0.2375, 'Accuracy': 0.5545851528384279}\n"
     ]
    }
   ],
   "source": [
    "## TODO try pca reduction.\n",
    "\n",
    "print(evaluation['evaluation'])"
   ]
  }
 ],
 "metadata": {
  "kernelspec": {
   "display_name": "Python 3",
   "language": "python",
   "name": "python3"
  },
  "language_info": {
   "codemirror_mode": {
    "name": "ipython",
    "version": 3
   },
   "file_extension": ".py",
   "mimetype": "text/x-python",
   "name": "python",
   "nbconvert_exporter": "python",
   "pygments_lexer": "ipython3",
   "version": "3.5.1"
  }
 },
 "nbformat": 4,
 "nbformat_minor": 0
}
