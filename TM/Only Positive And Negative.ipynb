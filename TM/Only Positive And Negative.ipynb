{
 "cells": [
  {
   "cell_type": "code",
   "execution_count": 12,
   "metadata": {
    "collapsed": false
   },
   "outputs": [
    {
     "name": "stdout",
     "output_type": "stream",
     "text": [
      "Read the data file from ./airline-twitter-sentiment/Tweets.csv\n",
      "We have 11541 labelled examples.\n"
     ]
    }
   ],
   "source": [
    "import matplotlib\n",
    "import numpy as np\n",
    "import matplotlib.pyplot as plt\n",
    "%matplotlib inline  \n",
    "\n",
    "import pandas \n",
    "\n",
    "from lib import loading\n",
    "\n",
    "df = loading.load_data()\n",
    "df = df[df['airline_sentiment'] != 'neutral']\n",
    "print(\"We have {0} labelled examples.\".format(len(df)))"
   ]
  },
  {
   "cell_type": "markdown",
   "metadata": {},
   "source": [
    "## We will try various classification algorithms\n",
    "### This time we only have positive and negative labeled tweets\n",
    "\n",
    "We will try the following:\n",
    "* Naive Bayes\n",
    "* kNearest Neighbours\n",
    "* SVM\n",
    "* SVM with Gradient Descent\n",
    "\n",
    "We mention that in this docuemnt we take the best options that we have found, after exploring the hyperparameter space for each algorithm in its own separate Notebook."
   ]
  },
  {
   "cell_type": "code",
   "execution_count": 13,
   "metadata": {
    "collapsed": false
   },
   "outputs": [
    {
     "name": "stdout",
     "output_type": "stream",
     "text": [
      "Using a total of 11541 tweets\n",
      "Training sample size: 10499\n",
      "Testing sample size: 1042\n"
     ]
    }
   ],
   "source": [
    "from lib import processing\n",
    "\n",
    "training_data, testing_data = processing.process_data(df, sample_size=1)"
   ]
  },
  {
   "cell_type": "code",
   "execution_count": 14,
   "metadata": {
    "collapsed": false
   },
   "outputs": [
    {
     "name": "stdout",
     "output_type": "stream",
     "text": [
      "Unigram features 1477\n",
      "Bigram features:  1001\n"
     ]
    }
   ],
   "source": [
    "from sklearn.metrics import confusion_matrix\n",
    "from lib import classify\n",
    "from nltk.sentiment import SentimentAnalyzer\n",
    "\n",
    "sentim_analyzer = SentimentAnalyzer()\n",
    "classify.add_features(training_data, sentim_analyzer)\n",
    "train, test = classify.extract_features(training_data, testing_data, sentim_analyzer)\n",
    "\n",
    "def plot_confusion_matrix(cm, title='Confusion matrix', cmap=plt.cm.Blues):\n",
    "    plt.imshow(cm, interpolation='nearest', cmap=cmap)\n",
    "    plt.title(title)\n",
    "    plt.colorbar()\n",
    "    tick_marks = np.arange(2)\n",
    "    plt.xticks(tick_marks, ['negative', 'positive'], rotation=45)\n",
    "    plt.yticks(tick_marks, ['negative', 'positive'])\n",
    "    plt.tight_layout()\n",
    "    plt.ylabel('True label')\n",
    "    plt.xlabel('Predicted label')\n",
    "\n",
    "def print_evaluation(evaluation):\n",
    "    for key, value in sorted(evaluation.items()):\n",
    "        print(key, \":\", value)\n",
    "\n",
    "def evaluate_trainer(trainer):\n",
    "    classifier, evaluation, _ = classify.train_model(train, test, sentim_analyzer, trainer)\n",
    "    y_test = [y for _, y in test]\n",
    "    y_pred = [classifier.classify(f) for f, _ in test]\n",
    "    cm = confusion_matrix(y_test, y_pred)\n",
    "    plot_confusion_matrix(cm)\n",
    "    print_evaluation(evaluation)\n",
    "    return classifier"
   ]
  },
  {
   "cell_type": "markdown",
   "metadata": {},
   "source": [
    "## Naive Bayes"
   ]
  },
  {
   "cell_type": "code",
   "execution_count": 15,
   "metadata": {
    "collapsed": false
   },
   "outputs": [
    {
     "name": "stdout",
     "output_type": "stream",
     "text": [
      "Training: Naive Bayes Classifier\n",
      "Training classifier\n",
      "Evaluating SklearnClassifier results...\n",
      "Accuracy : 0.9145873320537428\n",
      "F-measure [negative] : 0.9458307973219721\n",
      "F-measure [positive] : 0.7981859410430838\n",
      "Precision [negative] : 0.9464068209500609\n",
      "Precision [positive] : 0.7963800904977375\n",
      "Recall [negative] : 0.9452554744525548\n",
      "Recall [positive] : 0.8\n"
     ]
    },
    {
     "data": {
      "image/png": "[encoded data removed]",
      "text/plain": [
       "<matplotlib.figure.Figure at 0x151661ac8>"
      ]
     },
     "metadata": {},
     "output_type": "display_data"
    }
   ],
   "source": [
    "from nltk.classify import SklearnClassifier\n",
    "from sklearn.naive_bayes import BernoulliNB\n",
    "\n",
    "trainer = {\n",
    "    'name': 'Naive Bayes Classifier',\n",
    "    'train': SklearnClassifier(BernoulliNB(\n",
    "        fit_prior = True,\n",
    "        alpha = 0,\n",
    "        )).train,\n",
    "}\n",
    "naive_bayes = evaluate_trainer(trainer)\n"
   ]
  },
  {
   "cell_type": "markdown",
   "metadata": {},
   "source": [
    "## K Nearest Neighbours"
   ]
  },
  {
   "cell_type": "code",
   "execution_count": 16,
   "metadata": {
    "collapsed": false
   },
   "outputs": [
    {
     "name": "stdout",
     "output_type": "stream",
     "text": [
      "Training: K Nearest Neighbours Classifier\n",
      "Training classifier\n",
      "Evaluating SklearnClassifier results...\n",
      "Accuracy : 0.8234165067178503\n",
      "F-measure [negative] : 0.8880778588807786\n",
      "F-measure [positive] : 0.5818181818181818\n",
      "Precision [negative] : 0.8880778588807786\n",
      "Precision [positive] : 0.5818181818181818\n",
      "Recall [negative] : 0.8880778588807786\n",
      "Recall [positive] : 0.5818181818181818\n"
     ]
    },
    {
     "data": {
      "image/png": "[encoded data removed]",
      "text/plain": [
       "<matplotlib.figure.Figure at 0x10bc30320>"
      ]
     },
     "metadata": {},
     "output_type": "display_data"
    }
   ],
   "source": [
    "from sklearn.neighbors import KNeighborsClassifier\n",
    "from nltk.classify import SklearnClassifier\n",
    "trainer = {\n",
    "    \"name\": \"K Nearest Neighbours Classifier\",\n",
    "    \"train\": SklearnClassifier(KNeighborsClassifier()).train,\n",
    "}\n",
    "knn = evaluate_trainer(trainer)"
   ]
  },
  {
   "cell_type": "markdown",
   "metadata": {},
   "source": [
    "## SVM"
   ]
  },
  {
   "cell_type": "code",
   "execution_count": null,
   "metadata": {
    "collapsed": false
   },
   "outputs": [
    {
     "name": "stdout",
     "output_type": "stream",
     "text": [
      "Training: Linear SVC Classifier\n",
      "Training classifier\n",
      "Evaluating SklearnClassifier results...\n",
      "Accuracy : 0.9049904030710173\n",
      "F-measure [negative] : 0.9401812688821752\n",
      "F-measure [positive] : 0.7692307692307694\n",
      "Precision [negative] : 0.9339735894357744\n",
      "Precision [positive] : 0.7894736842105263\n",
      "Recall [negative] : 0.9464720194647201\n",
      "Recall [positive] : 0.75\n"
     ]
    },
    {
     "data": {
      "image/png": "[encoded data removed]",
      "text/plain": [
       "<matplotlib.figure.Figure at 0x10bc30390>"
      ]
     },
     "metadata": {},
     "output_type": "display_data"
    }
   ],
   "source": [
    "from sklearn.svm import LinearSVC\n",
    "from nltk.classify import SklearnClassifier\n",
    "trainer = {\n",
    "    \"name\": \"Linear SVC Classifier\",\n",
    "    \"train\": SklearnClassifier(LinearSVC(dual = False, # because number of samples > number of features,\n",
    "                                        )).train,\n",
    "}\n",
    "svm = evaluate_trainer(trainer)"
   ]
  },
  {
   "cell_type": "markdown",
   "metadata": {},
   "source": [
    "## SVM with Gradient Descent"
   ]
  },
  {
   "cell_type": "code",
   "execution_count": null,
   "metadata": {
    "collapsed": false
   },
   "outputs": [],
   "source": [
    "from sklearn.linear_model import SGDClassifier\n",
    "from nltk.classify import SklearnClassifier\n",
    "trainer = {\n",
    "    \"name\": \"Gradient Descent Classifier\",\n",
    "    \"train\": SklearnClassifier(SGDClassifier(alpha = 0.001)).train,\n",
    "}\n",
    "gradient_descent = evaluate_trainer(trainer)"
   ]
  }
 ],
 "metadata": {
  "kernelspec": {
   "display_name": "Python 3",
   "language": "python",
   "name": "python3"
  },
  "language_info": {
   "codemirror_mode": {
    "name": "ipython",
    "version": 3
   },
   "file_extension": ".py",
   "mimetype": "text/x-python",
   "name": "python",
   "nbconvert_exporter": "python",
   "pygments_lexer": "ipython3",
   "version": "3.5.1"
  }
 },
 "nbformat": 4,
 "nbformat_minor": 0
}
